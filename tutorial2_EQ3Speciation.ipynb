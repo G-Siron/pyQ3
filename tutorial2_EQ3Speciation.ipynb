{
 "cells": [
  {
   "cell_type": "markdown",
   "metadata": {},
   "source": [
    "# Demonstration of pyQ3 python wrapper for DEW-ENKI-EQ3 aqueous speciation calculations\n",
    "**Important: before running any calculations you must have a compiled set of DEW species objects. If you are running this on your own machine you should run the import_DEW.ipynb notebook before running this one.**\n",
    "\n",
    "First import the required packages:"
   ]
  },
  {
   "cell_type": "code",
   "execution_count": 1,
   "metadata": {},
   "outputs": [],
   "source": [
    "import numpy as np\n",
    "import matplotlib.pyplot as plt\n",
    "import pyQ3"
   ]
  },
  {
   "cell_type": "markdown",
   "metadata": {},
   "source": [
    "## Calculate speciation for a fluid with defined molalities\n",
    "In the previous notebook it was demonstrated how the DATA0 database file can be constructed for use with manual EQ3 calculations. The pyQ3 module also provides a python interface to these calculations. To demonstrate this we will use the default system. To create a customised system, see the first tutorial.\n",
    "\n",
    "Create a DEW System:"
   ]
  },
  {
   "cell_type": "code",
   "execution_count": 2,
   "metadata": {},
   "outputs": [],
   "source": [
    "dew_system = pyQ3.System()"
   ]
  },
  {
   "cell_type": "markdown",
   "metadata": {},
   "source": [
    "### Speciation without specifying pH or fO2:\n",
    "The pH of a solution can be calculated by charge balance if all other chemical components are constrained. Some solutions will be insensitive to fO2, so we will also skip this to start with.\n",
    "\n",
    "We must specify the molality of elements present in the solution, in terms of their basis species. Let's check what the basis species are:"
   ]
  },
  {
   "cell_type": "code",
   "execution_count": 3,
   "metadata": {},
   "outputs": [
    {
     "name": "stdout",
     "output_type": "stream",
     "text": [
      "['H2O', 'H+', 'AG+', 'AL+3', 'AU+', 'BA+2', 'CA+2', 'CO2(AQ)', 'SIO2(AQ)', 'CL-', 'SO4-2', 'CD+2', 'N2(AQ)', 'CR+2', 'CS+', 'CU+', 'EU+2', 'F-', 'FE+2', 'H3PO4(AQ)', 'HG+2', 'K+', 'MG+2', 'MN+2', 'NA+', 'PB+2', 'SR+2', 'U+4', 'ZN+2', 'O2']\n"
     ]
    }
   ],
   "source": [
    "print(dew_system.basis_species_names)"
   ]
  },
  {
   "cell_type": "code",
   "execution_count": 4,
   "metadata": {},
   "outputs": [],
   "source": [
    "molalities = {'NA+': 0.1,\n",
    "              'CL-': 0.1,\n",
    "              'SIO2(AQ)':0.5}"
   ]
  },
  {
   "cell_type": "markdown",
   "metadata": {},
   "source": [
    "We need to choose a temperature and pressure to run the calculation at:"
   ]
  },
  {
   "cell_type": "code",
   "execution_count": 5,
   "metadata": {},
   "outputs": [],
   "source": [
    "T = 500.0 + 273.15 # in K\n",
    "P = 8500.0 # in bar"
   ]
  },
  {
   "cell_type": "markdown",
   "metadata": {},
   "source": [
    "Now we can generate the fluid:"
   ]
  },
  {
   "cell_type": "code",
   "execution_count": 6,
   "metadata": {},
   "outputs": [],
   "source": [
    "dew_fluid = pyQ3.Fluid(dew_system, T, P, molalities=molalities)"
   ]
  },
  {
   "cell_type": "markdown",
   "metadata": {},
   "source": [
    "When we created the dew_fluid object several things happened in the background:\n",
    "1. a DATA0 file covering the pressure and temperature of the fluid was generated\n",
    "2. The EQPT processor was run to generate the data1 file from DATA0\n",
    "3. An EQ3 input file was generated using the constraints we set\n",
    "4. EQ3 was run to do the speciation calculation\n",
    "5. The EQ3 output file was read in\n",
    "\n",
    "We can now look up different properties of the fluid, for example the speciation:"
   ]
  },
  {
   "cell_type": "code",
   "execution_count": 8,
   "metadata": {},
   "outputs": [
    {
     "data": {
      "text/html": [
       "<div>\n",
       "<style scoped>\n",
       "    .dataframe tbody tr th:only-of-type {\n",
       "        vertical-align: middle;\n",
       "    }\n",
       "\n",
       "    .dataframe tbody tr th {\n",
       "        vertical-align: top;\n",
       "    }\n",
       "\n",
       "    .dataframe thead th {\n",
       "        text-align: right;\n",
       "    }\n",
       "</style>\n",
       "<table border=\"1\" class=\"dataframe\">\n",
       "  <thead>\n",
       "    <tr style=\"text-align: right;\">\n",
       "      <th></th>\n",
       "      <th>species</th>\n",
       "      <th>molality</th>\n",
       "      <th>log_g</th>\n",
       "      <th>activity</th>\n",
       "    </tr>\n",
       "  </thead>\n",
       "  <tbody>\n",
       "    <tr>\n",
       "      <th>0</th>\n",
       "      <td>SIO2(AQ)</td>\n",
       "      <td>2.347172e-01</td>\n",
       "      <td>0.0000</td>\n",
       "      <td>2.347000e-01</td>\n",
       "    </tr>\n",
       "    <tr>\n",
       "      <th>1</th>\n",
       "      <td>SI2O4(AQ)</td>\n",
       "      <td>1.323791e-01</td>\n",
       "      <td>0.0000</td>\n",
       "      <td>1.324000e-01</td>\n",
       "    </tr>\n",
       "    <tr>\n",
       "      <th>2</th>\n",
       "      <td>NA+</td>\n",
       "      <td>9.578317e-02</td>\n",
       "      <td>-0.1556</td>\n",
       "      <td>6.694000e-02</td>\n",
       "    </tr>\n",
       "    <tr>\n",
       "      <th>3</th>\n",
       "      <td>CL-</td>\n",
       "      <td>9.566903e-02</td>\n",
       "      <td>-0.1556</td>\n",
       "      <td>6.686000e-02</td>\n",
       "    </tr>\n",
       "    <tr>\n",
       "      <th>4</th>\n",
       "      <td>NACL(AQ)</td>\n",
       "      <td>4.200542e-03</td>\n",
       "      <td>0.0000</td>\n",
       "      <td>4.201000e-03</td>\n",
       "    </tr>\n",
       "    <tr>\n",
       "      <th>5</th>\n",
       "      <td>SI3O6(AQ)</td>\n",
       "      <td>1.312946e-04</td>\n",
       "      <td>0.0000</td>\n",
       "      <td>1.313000e-04</td>\n",
       "    </tr>\n",
       "    <tr>\n",
       "      <th>6</th>\n",
       "      <td>HSIO3-</td>\n",
       "      <td>1.307279e-04</td>\n",
       "      <td>-0.1556</td>\n",
       "      <td>9.136000e-05</td>\n",
       "    </tr>\n",
       "    <tr>\n",
       "      <th>7</th>\n",
       "      <td>HCL(AQ)</td>\n",
       "      <td>1.304248e-04</td>\n",
       "      <td>0.0000</td>\n",
       "      <td>1.304000e-04</td>\n",
       "    </tr>\n",
       "    <tr>\n",
       "      <th>8</th>\n",
       "      <td>H+</td>\n",
       "      <td>1.206938e-04</td>\n",
       "      <td>-0.1556</td>\n",
       "      <td>8.435000e-05</td>\n",
       "    </tr>\n",
       "    <tr>\n",
       "      <th>9</th>\n",
       "      <td>OH-</td>\n",
       "      <td>1.041005e-04</td>\n",
       "      <td>-0.1556</td>\n",
       "      <td>7.275000e-05</td>\n",
       "    </tr>\n",
       "    <tr>\n",
       "      <th>10</th>\n",
       "      <td>NAOH(AQ)</td>\n",
       "      <td>1.629025e-05</td>\n",
       "      <td>0.0000</td>\n",
       "      <td>1.629000e-05</td>\n",
       "    </tr>\n",
       "    <tr>\n",
       "      <th>11</th>\n",
       "      <td>H2(AQ)</td>\n",
       "      <td>1.095234e-07</td>\n",
       "      <td>0.0000</td>\n",
       "      <td>1.095000e-07</td>\n",
       "    </tr>\n",
       "    <tr>\n",
       "      <th>12</th>\n",
       "      <td>O2(AQ)</td>\n",
       "      <td>9.693933e-17</td>\n",
       "      <td>0.0000</td>\n",
       "      <td>9.694000e-17</td>\n",
       "    </tr>\n",
       "  </tbody>\n",
       "</table>\n",
       "</div>"
      ],
      "text/plain": [
       "      species      molality   log_g      activity\n",
       "0    SIO2(AQ)  2.347172e-01  0.0000  2.347000e-01\n",
       "1   SI2O4(AQ)  1.323791e-01  0.0000  1.324000e-01\n",
       "2         NA+  9.578317e-02 -0.1556  6.694000e-02\n",
       "3         CL-  9.566903e-02 -0.1556  6.686000e-02\n",
       "4    NACL(AQ)  4.200542e-03  0.0000  4.201000e-03\n",
       "5   SI3O6(AQ)  1.312946e-04  0.0000  1.313000e-04\n",
       "6      HSIO3-  1.307279e-04 -0.1556  9.136000e-05\n",
       "7     HCL(AQ)  1.304248e-04  0.0000  1.304000e-04\n",
       "8          H+  1.206938e-04 -0.1556  8.435000e-05\n",
       "9         OH-  1.041005e-04 -0.1556  7.275000e-05\n",
       "10   NAOH(AQ)  1.629025e-05  0.0000  1.629000e-05\n",
       "11     H2(AQ)  1.095234e-07  0.0000  1.095000e-07\n",
       "12     O2(AQ)  9.693933e-17  0.0000  9.694000e-17"
      ]
     },
     "execution_count": 8,
     "metadata": {},
     "output_type": "execute_result"
    }
   ],
   "source": [
    "dew_fluid.aqeuous_species"
   ]
  },
  {
   "cell_type": "markdown",
   "metadata": {},
   "source": [
    "We could check that the input molalities were read correctly by checking the elemental molalities:"
   ]
  },
  {
   "cell_type": "code",
   "execution_count": 9,
   "metadata": {},
   "outputs": [
    {
     "data": {
      "text/html": [
       "<div>\n",
       "<style scoped>\n",
       "    .dataframe tbody tr th:only-of-type {\n",
       "        vertical-align: middle;\n",
       "    }\n",
       "\n",
       "    .dataframe tbody tr th {\n",
       "        vertical-align: top;\n",
       "    }\n",
       "\n",
       "    .dataframe thead th {\n",
       "        text-align: right;\n",
       "    }\n",
       "</style>\n",
       "<table border=\"1\" class=\"dataframe\">\n",
       "  <thead>\n",
       "    <tr style=\"text-align: right;\">\n",
       "      <th></th>\n",
       "      <th>element</th>\n",
       "      <th>ppm</th>\n",
       "      <th>molality</th>\n",
       "    </tr>\n",
       "  </thead>\n",
       "  <tbody>\n",
       "    <tr>\n",
       "      <th>0</th>\n",
       "      <td>O</td>\n",
       "      <td>917984.1388</td>\n",
       "      <td>.5737616028E+02</td>\n",
       "    </tr>\n",
       "    <tr>\n",
       "      <th>1</th>\n",
       "      <td>H</td>\n",
       "      <td>113643.0641</td>\n",
       "      <td>.1127523208E+03</td>\n",
       "    </tr>\n",
       "    <tr>\n",
       "      <th>2</th>\n",
       "      <td>SI</td>\n",
       "      <td>14042.7500</td>\n",
       "      <td>.5000000000E+00</td>\n",
       "    </tr>\n",
       "    <tr>\n",
       "      <th>3</th>\n",
       "      <td>CL</td>\n",
       "      <td>3545.3000</td>\n",
       "      <td>.1000000000E+00</td>\n",
       "    </tr>\n",
       "    <tr>\n",
       "      <th>4</th>\n",
       "      <td>NA</td>\n",
       "      <td>2298.9770</td>\n",
       "      <td>.1000000000E+00</td>\n",
       "    </tr>\n",
       "  </tbody>\n",
       "</table>\n",
       "</div>"
      ],
      "text/plain": [
       "  element          ppm         molality\n",
       "0       O  917984.1388  .5737616028E+02\n",
       "1       H  113643.0641  .1127523208E+03\n",
       "2      SI   14042.7500  .5000000000E+00\n",
       "3      CL    3545.3000  .1000000000E+00\n",
       "4      NA    2298.9770  .1000000000E+00"
      ]
     },
     "execution_count": 9,
     "metadata": {},
     "output_type": "execute_result"
    }
   ],
   "source": [
    "dew_fluid.elemental_comp"
   ]
  },
  {
   "cell_type": "markdown",
   "metadata": {},
   "source": [
    "Since the pH will be calculated by charge balance if we don't explicitly set it, we can check the pH:"
   ]
  },
  {
   "cell_type": "code",
   "execution_count": 10,
   "metadata": {},
   "outputs": [
    {
     "data": {
      "text/plain": [
       "4.0739"
      ]
     },
     "execution_count": 10,
     "metadata": {},
     "output_type": "execute_result"
    }
   ],
   "source": [
    "dew_fluid.pH"
   ]
  },
  {
   "cell_type": "markdown",
   "metadata": {},
   "source": [
    "What about fO2?"
   ]
  },
  {
   "cell_type": "code",
   "execution_count": 11,
   "metadata": {},
   "outputs": [
    {
     "data": {
      "text/plain": [
       "-12.6"
      ]
     },
     "execution_count": 11,
     "metadata": {},
     "output_type": "execute_result"
    }
   ],
   "source": [
    "dew_fluid.fO2"
   ]
  },
  {
   "cell_type": "markdown",
   "metadata": {},
   "source": [
    "But we didn't set fO2, nor is it constrained by the calculation! Well, actually the code sets it to an abitrary value of -12.6."
   ]
  }
 ],
 "metadata": {
  "kernelspec": {
   "display_name": "Python 3",
   "language": "python",
   "name": "python3"
  },
  "language_info": {
   "codemirror_mode": {
    "name": "ipython",
    "version": 3
   },
   "file_extension": ".py",
   "mimetype": "text/x-python",
   "name": "python",
   "nbconvert_exporter": "python",
   "pygments_lexer": "ipython3",
   "version": "3.7.6"
  }
 },
 "nbformat": 4,
 "nbformat_minor": 4
}
