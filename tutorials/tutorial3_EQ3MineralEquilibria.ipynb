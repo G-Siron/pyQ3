{
 "cells": [
  {
   "cell_type": "markdown",
   "metadata": {},
   "source": [
    "# Tutorial 3 - Calculating mineral-fluid equilibrium with pyDEW\n",
    "\n",
    "First import the required packages:"
   ]
  },
  {
   "cell_type": "code",
   "execution_count": 1,
   "metadata": {},
   "outputs": [],
   "source": [
    "import numpy as np\n",
    "import matplotlib.pyplot as plt\n",
    "import pyDEW"
   ]
  },
  {
   "cell_type": "markdown",
   "metadata": {},
   "source": [
    "## Calculate fluid composition and speciation for a fluid in equilibrium with a rock\n",
    "\n",
    "More realistic calculations involve equilibrium with minerals. Every element in the system that is not directly specified by molality must be specified by equilibrium with a mineral or solid solution. fO2 and pH are set to a default value or by charge balance unless directly specified.\n",
    "\n",
    "### Quartz solubility in brine\n",
    "\n",
    "Create an instance of the default system"
   ]
  },
  {
   "cell_type": "code",
   "execution_count": 2,
   "metadata": {},
   "outputs": [],
   "source": [
    "dew_system = pyDEW.System()"
   ]
  },
  {
   "cell_type": "markdown",
   "metadata": {},
   "source": [
    "Set up the elements of the fluid not constrained by mineral equilibria:"
   ]
  },
  {
   "cell_type": "code",
   "execution_count": 3,
   "metadata": {},
   "outputs": [],
   "source": [
    "molalities = {'NA+':0.05,\n",
    "              'CL-':0.05,\n",
    "              }\n",
    "T = 300.0 + 273.15 # in K\n",
    "P = 10000.0 # in bar"
   ]
  },
  {
   "cell_type": "markdown",
   "metadata": {},
   "source": [
    "Tell EQ3 to set the Si content of the solution by equilibrium with Quartz:"
   ]
  },
  {
   "cell_type": "code",
   "execution_count": 4,
   "metadata": {},
   "outputs": [],
   "source": [
    "mineral_eq = {'H4SIO4(AQ)':'QUARTZ_ALPHA'}"
   ]
  },
  {
   "cell_type": "markdown",
   "metadata": {},
   "source": [
    "Create the fluid:"
   ]
  },
  {
   "cell_type": "code",
   "execution_count": 5,
   "metadata": {},
   "outputs": [],
   "source": [
    "dew_fluid = pyDEW.Fluid(dew_system,T,P,molalities=molalities,mineral_eq=mineral_eq)"
   ]
  },
  {
   "cell_type": "markdown",
   "metadata": {},
   "source": [
    "First we can check that quartz is the stable mineral phase at these conditions:"
   ]
  },
  {
   "cell_type": "code",
   "execution_count": 6,
   "metadata": {},
   "outputs": [
    {
     "data": {
      "text/html": [
       "<div>\n",
       "<style scoped>\n",
       "    .dataframe tbody tr th:only-of-type {\n",
       "        vertical-align: middle;\n",
       "    }\n",
       "\n",
       "    .dataframe tbody tr th {\n",
       "        vertical-align: top;\n",
       "    }\n",
       "\n",
       "    .dataframe thead th {\n",
       "        text-align: right;\n",
       "    }\n",
       "</style>\n",
       "<table border=\"1\" class=\"dataframe\">\n",
       "  <thead>\n",
       "    <tr style=\"text-align: right;\">\n",
       "      <th></th>\n",
       "      <th>mineral</th>\n",
       "      <th>log_q_k</th>\n",
       "      <th>aff</th>\n",
       "      <th>state</th>\n",
       "    </tr>\n",
       "  </thead>\n",
       "  <tbody>\n",
       "    <tr>\n",
       "      <th>0</th>\n",
       "      <td>QUARTZ_ALPHA</td>\n",
       "      <td>0.000</td>\n",
       "      <td>0.000</td>\n",
       "      <td>satd</td>\n",
       "    </tr>\n",
       "    <tr>\n",
       "      <th>1</th>\n",
       "      <td>QUARTZ_BETA</td>\n",
       "      <td>-0.120</td>\n",
       "      <td>-0.316</td>\n",
       "      <td>satd</td>\n",
       "    </tr>\n",
       "    <tr>\n",
       "      <th>2</th>\n",
       "      <td>COESITE</td>\n",
       "      <td>-0.189</td>\n",
       "      <td>-0.496</td>\n",
       "      <td>satd</td>\n",
       "    </tr>\n",
       "    <tr>\n",
       "      <th>3</th>\n",
       "      <td>HALITE</td>\n",
       "      <td>-4.836</td>\n",
       "      <td>-12.684</td>\n",
       "      <td>NaN</td>\n",
       "    </tr>\n",
       "    <tr>\n",
       "      <th>4</th>\n",
       "      <td>CRISTO_ALPHA</td>\n",
       "      <td>-0.435</td>\n",
       "      <td>-1.140</td>\n",
       "      <td>NaN</td>\n",
       "    </tr>\n",
       "    <tr>\n",
       "      <th>5</th>\n",
       "      <td>CRISTO_BETA</td>\n",
       "      <td>-0.558</td>\n",
       "      <td>-1.463</td>\n",
       "      <td>NaN</td>\n",
       "    </tr>\n",
       "  </tbody>\n",
       "</table>\n",
       "</div>"
      ],
      "text/plain": [
       "        mineral  log_q_k     aff state\n",
       "0  QUARTZ_ALPHA    0.000   0.000  satd\n",
       "1   QUARTZ_BETA   -0.120  -0.316  satd\n",
       "2       COESITE   -0.189  -0.496  satd\n",
       "3        HALITE   -4.836 -12.684   NaN\n",
       "4  CRISTO_ALPHA   -0.435  -1.140   NaN\n",
       "5   CRISTO_BETA   -0.558  -1.463   NaN"
      ]
     },
     "execution_count": 6,
     "metadata": {},
     "output_type": "execute_result"
    }
   ],
   "source": [
    "dew_fluid.mineral_saturation"
   ]
  },
  {
   "cell_type": "markdown",
   "metadata": {},
   "source": [
    "Neither coesite, nor either of the cristobalite polymorphs are stable. The calculation reports that beta-quartz is stable, but this is because the affinity is very close to zero."
   ]
  },
  {
   "cell_type": "code",
   "execution_count": 7,
   "metadata": {},
   "outputs": [
    {
     "data": {
      "text/html": [
       "<div>\n",
       "<style scoped>\n",
       "    .dataframe tbody tr th:only-of-type {\n",
       "        vertical-align: middle;\n",
       "    }\n",
       "\n",
       "    .dataframe tbody tr th {\n",
       "        vertical-align: top;\n",
       "    }\n",
       "\n",
       "    .dataframe thead th {\n",
       "        text-align: right;\n",
       "    }\n",
       "</style>\n",
       "<table border=\"1\" class=\"dataframe\">\n",
       "  <thead>\n",
       "    <tr style=\"text-align: right;\">\n",
       "      <th></th>\n",
       "      <th>ppm</th>\n",
       "      <th>molality</th>\n",
       "    </tr>\n",
       "    <tr>\n",
       "      <th>element</th>\n",
       "      <th></th>\n",
       "      <th></th>\n",
       "    </tr>\n",
       "  </thead>\n",
       "  <tbody>\n",
       "    <tr>\n",
       "      <th>O</th>\n",
       "      <td>889680.9271</td>\n",
       "      <td>55.607143</td>\n",
       "    </tr>\n",
       "    <tr>\n",
       "      <th>H</th>\n",
       "      <td>111991.4517</td>\n",
       "      <td>111.113654</td>\n",
       "    </tr>\n",
       "    <tr>\n",
       "      <th>SI</th>\n",
       "      <td>706.5789</td>\n",
       "      <td>0.025158</td>\n",
       "    </tr>\n",
       "    <tr>\n",
       "      <th>CL</th>\n",
       "      <td>1772.6500</td>\n",
       "      <td>0.050000</td>\n",
       "    </tr>\n",
       "    <tr>\n",
       "      <th>NA</th>\n",
       "      <td>1149.4885</td>\n",
       "      <td>0.050000</td>\n",
       "    </tr>\n",
       "  </tbody>\n",
       "</table>\n",
       "</div>"
      ],
      "text/plain": [
       "                 ppm    molality\n",
       "element                         \n",
       "O        889680.9271   55.607143\n",
       "H        111991.4517  111.113654\n",
       "SI          706.5789    0.025158\n",
       "CL         1772.6500    0.050000\n",
       "NA         1149.4885    0.050000"
      ]
     },
     "execution_count": 7,
     "metadata": {},
     "output_type": "execute_result"
    }
   ],
   "source": [
    "dew_fluid.elemental_comp"
   ]
  },
  {
   "cell_type": "markdown",
   "metadata": {},
   "source": [
    "But in what species is the Si dissolved?"
   ]
  },
  {
   "cell_type": "code",
   "execution_count": 8,
   "metadata": {},
   "outputs": [
    {
     "data": {
      "text/html": [
       "<div>\n",
       "<style scoped>\n",
       "    .dataframe tbody tr th:only-of-type {\n",
       "        vertical-align: middle;\n",
       "    }\n",
       "\n",
       "    .dataframe tbody tr th {\n",
       "        vertical-align: top;\n",
       "    }\n",
       "\n",
       "    .dataframe thead th {\n",
       "        text-align: right;\n",
       "    }\n",
       "</style>\n",
       "<table border=\"1\" class=\"dataframe\">\n",
       "  <thead>\n",
       "    <tr style=\"text-align: right;\">\n",
       "      <th></th>\n",
       "      <th>species</th>\n",
       "      <th>molality</th>\n",
       "      <th>log_g</th>\n",
       "      <th>activity</th>\n",
       "    </tr>\n",
       "  </thead>\n",
       "  <tbody>\n",
       "    <tr>\n",
       "      <th>0</th>\n",
       "      <td>NA+</td>\n",
       "      <td>4.956025e-02</td>\n",
       "      <td>-0.0972</td>\n",
       "      <td>3.962000e-02</td>\n",
       "    </tr>\n",
       "    <tr>\n",
       "      <th>1</th>\n",
       "      <td>CL-</td>\n",
       "      <td>4.955870e-02</td>\n",
       "      <td>-0.0972</td>\n",
       "      <td>3.962000e-02</td>\n",
       "    </tr>\n",
       "    <tr>\n",
       "      <th>2</th>\n",
       "      <td>H4SIO4(AQ)</td>\n",
       "      <td>2.067283e-02</td>\n",
       "      <td>0.0000</td>\n",
       "      <td>2.067000e-02</td>\n",
       "    </tr>\n",
       "    <tr>\n",
       "      <th>3</th>\n",
       "      <td>H6SI2O7(AQ)</td>\n",
       "      <td>2.226384e-03</td>\n",
       "      <td>0.0000</td>\n",
       "      <td>2.226000e-03</td>\n",
       "    </tr>\n",
       "    <tr>\n",
       "      <th>4</th>\n",
       "      <td>NACL(AQ)</td>\n",
       "      <td>4.386328e-04</td>\n",
       "      <td>0.0000</td>\n",
       "      <td>4.386000e-04</td>\n",
       "    </tr>\n",
       "    <tr>\n",
       "      <th>5</th>\n",
       "      <td>H+</td>\n",
       "      <td>8.535219e-05</td>\n",
       "      <td>-0.0972</td>\n",
       "      <td>6.824000e-05</td>\n",
       "    </tr>\n",
       "    <tr>\n",
       "      <th>6</th>\n",
       "      <td>OH-</td>\n",
       "      <td>5.436728e-05</td>\n",
       "      <td>-0.0972</td>\n",
       "      <td>4.347000e-05</td>\n",
       "    </tr>\n",
       "    <tr>\n",
       "      <th>7</th>\n",
       "      <td>H3SIO4-</td>\n",
       "      <td>3.252652e-05</td>\n",
       "      <td>-0.0972</td>\n",
       "      <td>2.601000e-05</td>\n",
       "    </tr>\n",
       "    <tr>\n",
       "      <th>8</th>\n",
       "      <td>HCL(AQ)</td>\n",
       "      <td>2.663682e-06</td>\n",
       "      <td>0.0000</td>\n",
       "      <td>2.664000e-06</td>\n",
       "    </tr>\n",
       "    <tr>\n",
       "      <th>9</th>\n",
       "      <td>NAOH(AQ)</td>\n",
       "      <td>1.122067e-06</td>\n",
       "      <td>0.0000</td>\n",
       "      <td>1.122000e-06</td>\n",
       "    </tr>\n",
       "    <tr>\n",
       "      <th>10</th>\n",
       "      <td>H8SI3O10(AQ)</td>\n",
       "      <td>4.169654e-09</td>\n",
       "      <td>0.0000</td>\n",
       "      <td>4.170000e-09</td>\n",
       "    </tr>\n",
       "    <tr>\n",
       "      <th>11</th>\n",
       "      <td>H2(AQ)</td>\n",
       "      <td>2.472293e-15</td>\n",
       "      <td>0.0000</td>\n",
       "      <td>2.472000e-15</td>\n",
       "    </tr>\n",
       "    <tr>\n",
       "      <th>12</th>\n",
       "      <td>O2(AQ)</td>\n",
       "      <td>1.404430e-18</td>\n",
       "      <td>0.0000</td>\n",
       "      <td>1.404000e-18</td>\n",
       "    </tr>\n",
       "  </tbody>\n",
       "</table>\n",
       "</div>"
      ],
      "text/plain": [
       "         species      molality   log_g      activity\n",
       "0            NA+  4.956025e-02 -0.0972  3.962000e-02\n",
       "1            CL-  4.955870e-02 -0.0972  3.962000e-02\n",
       "2     H4SIO4(AQ)  2.067283e-02  0.0000  2.067000e-02\n",
       "3    H6SI2O7(AQ)  2.226384e-03  0.0000  2.226000e-03\n",
       "4       NACL(AQ)  4.386328e-04  0.0000  4.386000e-04\n",
       "5             H+  8.535219e-05 -0.0972  6.824000e-05\n",
       "6            OH-  5.436728e-05 -0.0972  4.347000e-05\n",
       "7        H3SIO4-  3.252652e-05 -0.0972  2.601000e-05\n",
       "8        HCL(AQ)  2.663682e-06  0.0000  2.664000e-06\n",
       "9       NAOH(AQ)  1.122067e-06  0.0000  1.122000e-06\n",
       "10  H8SI3O10(AQ)  4.169654e-09  0.0000  4.170000e-09\n",
       "11        H2(AQ)  2.472293e-15  0.0000  2.472000e-15\n",
       "12        O2(AQ)  1.404430e-18  0.0000  1.404000e-18"
      ]
     },
     "execution_count": 8,
     "metadata": {},
     "output_type": "execute_result"
    }
   ],
   "source": [
    "dew_fluid.aqueous_species"
   ]
  },
  {
   "cell_type": "markdown",
   "metadata": {},
   "source": [
    "And what's the pH?"
   ]
  },
  {
   "cell_type": "code",
   "execution_count": 9,
   "metadata": {},
   "outputs": [
    {
     "data": {
      "text/plain": [
       "4.166"
      ]
     },
     "execution_count": 9,
     "metadata": {},
     "output_type": "execute_result"
    }
   ],
   "source": [
    "dew_fluid.pH"
   ]
  },
  {
   "cell_type": "markdown",
   "metadata": {},
   "source": [
    "### A fluid in equilibrium with Fayalite-Magnetite-Quartz fO2 buffer\n",
    "\n",
    "In this example we will allow the fO2 of the fluid to be set by equilibrium with a mineral assemblage. The system involves both Fe and Si, so both of these must also be set:"
   ]
  },
  {
   "cell_type": "code",
   "execution_count": 10,
   "metadata": {},
   "outputs": [],
   "source": [
    "mineral_eq = {'H4SIO4(AQ)':'QUARTZ_ALPHA',\n",
    "              'FE+2':'FAYALITE',\n",
    "              'O2(G)':'MAGNETITE'}\n",
    "T = 300.0 + 273.15 # in K\n",
    "P = 10000.0 # in bar"
   ]
  },
  {
   "cell_type": "markdown",
   "metadata": {},
   "source": [
    "This time we won't add any NaCl."
   ]
  },
  {
   "cell_type": "code",
   "execution_count": 11,
   "metadata": {},
   "outputs": [],
   "source": [
    "dew_fluid = pyDEW.Fluid(dew_system, T, P, mineral_eq = mineral_eq)"
   ]
  },
  {
   "cell_type": "markdown",
   "metadata": {},
   "source": [
    "Hopefully the code has correctly identified that the fO2 is being set by mineral equilibria, and so it hasn't used the abitrary value, let's check:"
   ]
  },
  {
   "cell_type": "code",
   "execution_count": 12,
   "metadata": {},
   "outputs": [
    {
     "data": {
      "text/plain": [
       "-34.133"
      ]
     },
     "execution_count": 12,
     "metadata": {},
     "output_type": "execute_result"
    }
   ],
   "source": [
    "dew_fluid.fO2"
   ]
  },
  {
   "cell_type": "markdown",
   "metadata": {},
   "source": [
    "Let's check if any other minerals are saturated:"
   ]
  },
  {
   "cell_type": "code",
   "execution_count": 13,
   "metadata": {},
   "outputs": [
    {
     "data": {
      "text/html": [
       "<div>\n",
       "<style scoped>\n",
       "    .dataframe tbody tr th:only-of-type {\n",
       "        vertical-align: middle;\n",
       "    }\n",
       "\n",
       "    .dataframe tbody tr th {\n",
       "        vertical-align: top;\n",
       "    }\n",
       "\n",
       "    .dataframe thead th {\n",
       "        text-align: right;\n",
       "    }\n",
       "</style>\n",
       "<table border=\"1\" class=\"dataframe\">\n",
       "  <thead>\n",
       "    <tr style=\"text-align: right;\">\n",
       "      <th></th>\n",
       "      <th>mineral</th>\n",
       "      <th>log_q_k</th>\n",
       "      <th>aff</th>\n",
       "      <th>state</th>\n",
       "    </tr>\n",
       "  </thead>\n",
       "  <tbody>\n",
       "    <tr>\n",
       "      <th>0</th>\n",
       "      <td>MAGNETITE</td>\n",
       "      <td>0.000</td>\n",
       "      <td>0.000</td>\n",
       "      <td>satd</td>\n",
       "    </tr>\n",
       "    <tr>\n",
       "      <th>1</th>\n",
       "      <td>HEMATITE</td>\n",
       "      <td>-0.708</td>\n",
       "      <td>-1.858</td>\n",
       "      <td>NaN</td>\n",
       "    </tr>\n",
       "    <tr>\n",
       "      <th>2</th>\n",
       "      <td>FAYALITE</td>\n",
       "      <td>0.000</td>\n",
       "      <td>0.000</td>\n",
       "      <td>satd</td>\n",
       "    </tr>\n",
       "    <tr>\n",
       "      <th>3</th>\n",
       "      <td>FERROSILITE</td>\n",
       "      <td>0.052</td>\n",
       "      <td>0.135</td>\n",
       "      <td>satd</td>\n",
       "    </tr>\n",
       "    <tr>\n",
       "      <th>4</th>\n",
       "      <td>QUARTZ_ALPHA</td>\n",
       "      <td>0.000</td>\n",
       "      <td>0.000</td>\n",
       "      <td>satd</td>\n",
       "    </tr>\n",
       "    <tr>\n",
       "      <th>5</th>\n",
       "      <td>QUARTZ_BETA</td>\n",
       "      <td>-0.120</td>\n",
       "      <td>-0.316</td>\n",
       "      <td>satd</td>\n",
       "    </tr>\n",
       "    <tr>\n",
       "      <th>6</th>\n",
       "      <td>COESITE</td>\n",
       "      <td>-0.189</td>\n",
       "      <td>-0.496</td>\n",
       "      <td>satd</td>\n",
       "    </tr>\n",
       "    <tr>\n",
       "      <th>7</th>\n",
       "      <td>IRON_ALPHA</td>\n",
       "      <td>-4.529</td>\n",
       "      <td>-11.878</td>\n",
       "      <td>NaN</td>\n",
       "    </tr>\n",
       "    <tr>\n",
       "      <th>8</th>\n",
       "      <td>IRON_GAMMA</td>\n",
       "      <td>-4.786</td>\n",
       "      <td>-12.552</td>\n",
       "      <td>NaN</td>\n",
       "    </tr>\n",
       "    <tr>\n",
       "      <th>9</th>\n",
       "      <td>CRISTO_ALPHA</td>\n",
       "      <td>-0.435</td>\n",
       "      <td>-1.140</td>\n",
       "      <td>NaN</td>\n",
       "    </tr>\n",
       "    <tr>\n",
       "      <th>10</th>\n",
       "      <td>CRISTO_BETA</td>\n",
       "      <td>-0.558</td>\n",
       "      <td>-1.463</td>\n",
       "      <td>NaN</td>\n",
       "    </tr>\n",
       "  </tbody>\n",
       "</table>\n",
       "</div>"
      ],
      "text/plain": [
       "         mineral  log_q_k     aff state\n",
       "0      MAGNETITE    0.000   0.000  satd\n",
       "1       HEMATITE   -0.708  -1.858   NaN\n",
       "2       FAYALITE    0.000   0.000  satd\n",
       "3    FERROSILITE    0.052   0.135  satd\n",
       "4   QUARTZ_ALPHA    0.000   0.000  satd\n",
       "5    QUARTZ_BETA   -0.120  -0.316  satd\n",
       "6        COESITE   -0.189  -0.496  satd\n",
       "7     IRON_ALPHA   -4.529 -11.878   NaN\n",
       "8     IRON_GAMMA   -4.786 -12.552   NaN\n",
       "9   CRISTO_ALPHA   -0.435  -1.140   NaN\n",
       "10   CRISTO_BETA   -0.558  -1.463   NaN"
      ]
     },
     "execution_count": 13,
     "metadata": {},
     "output_type": "execute_result"
    }
   ],
   "source": [
    "dew_fluid.mineral_saturation"
   ]
  },
  {
   "cell_type": "markdown",
   "metadata": {},
   "source": [
    "Ferrosilite is saturated. Perhaps this isn't a surprise that the FMQ buffer isn't stable everywhere, but is instead a useful reference point...\n",
    "\n",
    "### Fluids in equilibrium with solid solutions\n",
    "\n",
    "We can see what the chemistry of a fluid in equilibrium with a fictional harzburgite. First let's see what the default solid solutions built into the module are:"
   ]
  },
  {
   "cell_type": "code",
   "execution_count": 14,
   "metadata": {},
   "outputs": [
    {
     "data": {
      "text/plain": [
       "{'KFELDSPAR(SS)': ['KFELDSPAR', 'ALBITE'],\n",
       " 'PLAGIOCLASE(SS)': ['ALBITE', 'ANORTHITE'],\n",
       " 'ORTHOPYROXENE(SS)': ['ENSTATITE_OR', 'FERROSILITE'],\n",
       " 'OLIVINE(SS)': ['FORSTERITE', 'FAYALITE'],\n",
       " 'BIOTITE(SS)': ['PHLOGOPITE', 'ANNITE'],\n",
       " 'GARNET(SS)': ['PYROPE', 'ALMANDINE', 'GROSSULAR'],\n",
       " 'CLINOPYROXENE(SS)': ['DIOPSIDE', 'JADEITE', 'HEDENBERGITE'],\n",
       " 'CPX_SUBCALCIC(SS)': ['DIOPSIDE', 'HEDENBERGITE', 'ENSTATITE_CL'],\n",
       " 'CA_AMPHIBOLE(SS)': ['TREMOLITE', 'FERROTREMOLITE'],\n",
       " 'CHLORITE(SS)': ['CLINOCHLORE', 'CHAMOSITE'],\n",
       " 'CALCITE(SS)': ['CALCITE', 'MAGNESITE', 'SIDERITE'],\n",
       " 'APATITE(SS)': ['HYDROXYAPATITE', 'FLUORAPATITE', 'CHLORAPATITE']}"
      ]
     },
     "execution_count": 14,
     "metadata": {},
     "output_type": "execute_result"
    }
   ],
   "source": [
    "pyDEW.defaultsystem.solid_solutions"
   ]
  },
  {
   "cell_type": "markdown",
   "metadata": {},
   "source": [
    "Similarly to the pure mineral equilibria, we set the species by equilibrium in the mineral_eq variable, but this time we use a list containing the name of the solid solution, and the name of the endmember."
   ]
  },
  {
   "cell_type": "code",
   "execution_count": 15,
   "metadata": {},
   "outputs": [],
   "source": [
    "mineral_eq = {'H4SIO4(AQ)': ['ORTHOPYROXENE(SS)','ENSTATITE_OR'],\n",
    "              'FE+2': ['OLIVINE(SS)','FAYALITE'],\n",
    "              'MG+2': ['OLIVINE(SS)','FORSTERITE'],\n",
    "              'O2(G)':'MAGNETITE'}"
   ]
  },
  {
   "cell_type": "markdown",
   "metadata": {},
   "source": [
    "We must also specify the solid solution composition of the rock, using a dictionary of dictionaries:"
   ]
  },
  {
   "cell_type": "code",
   "execution_count": 16,
   "metadata": {},
   "outputs": [],
   "source": [
    "solid_solutions = {'OLIVINE(SS)':{'FORSTERITE':0.9,\n",
    "                                  'FAYALITE': 0.1},\n",
    "                   'ORTHOPYROXENE(SS)':{'ENSTATITE_OR':0.8,\n",
    "                                        'FERROSILITE':0.2}}"
   ]
  },
  {
   "cell_type": "markdown",
   "metadata": {},
   "source": [
    "Let's generate the fluid."
   ]
  },
  {
   "cell_type": "code",
   "execution_count": 17,
   "metadata": {},
   "outputs": [
    {
     "name": "stderr",
     "output_type": "stream",
     "text": [
      "/Users/simonmatthews/opt/anaconda3/lib/python3.7/site-packages/pyDEW/output.py:150: DeprecationWarning: The default dtype for empty Series will be 'object' instead of 'float64' in a future version. Specify a dtype explicitly to silence this warning.\n",
      "  ss_info = pd.Series()\n"
     ]
    }
   ],
   "source": [
    "T = 300.0 + 273.15 # in K\n",
    "P = 10000.0 # in bar\n",
    "dew_fluid = pyDEW.Fluid(dew_system,T,P,mineral_eq=mineral_eq, solid_solutions=solid_solutions)"
   ]
  },
  {
   "cell_type": "markdown",
   "metadata": {},
   "source": [
    "How much Mg, Fe, and Si are dissolved in the fluid?"
   ]
  },
  {
   "cell_type": "code",
   "execution_count": 18,
   "metadata": {},
   "outputs": [
    {
     "data": {
      "text/html": [
       "<div>\n",
       "<style scoped>\n",
       "    .dataframe tbody tr th:only-of-type {\n",
       "        vertical-align: middle;\n",
       "    }\n",
       "\n",
       "    .dataframe tbody tr th {\n",
       "        vertical-align: top;\n",
       "    }\n",
       "\n",
       "    .dataframe thead th {\n",
       "        text-align: right;\n",
       "    }\n",
       "</style>\n",
       "<table border=\"1\" class=\"dataframe\">\n",
       "  <thead>\n",
       "    <tr style=\"text-align: right;\">\n",
       "      <th></th>\n",
       "      <th>ppm</th>\n",
       "      <th>molality</th>\n",
       "    </tr>\n",
       "    <tr>\n",
       "      <th>element</th>\n",
       "      <th></th>\n",
       "      <th></th>\n",
       "    </tr>\n",
       "  </thead>\n",
       "  <tbody>\n",
       "    <tr>\n",
       "      <th>O</th>\n",
       "      <td>888302.7254</td>\n",
       "      <td>55.521002</td>\n",
       "    </tr>\n",
       "    <tr>\n",
       "      <th>H</th>\n",
       "      <td>111906.9015</td>\n",
       "      <td>111.029766</td>\n",
       "    </tr>\n",
       "    <tr>\n",
       "      <th>SI</th>\n",
       "      <td>78.6151</td>\n",
       "      <td>0.002799</td>\n",
       "    </tr>\n",
       "    <tr>\n",
       "      <th>FE</th>\n",
       "      <td>0.1236</td>\n",
       "      <td>0.000002</td>\n",
       "    </tr>\n",
       "    <tr>\n",
       "      <th>MG</th>\n",
       "      <td>15.0375</td>\n",
       "      <td>0.000619</td>\n",
       "    </tr>\n",
       "  </tbody>\n",
       "</table>\n",
       "</div>"
      ],
      "text/plain": [
       "                 ppm    molality\n",
       "element                         \n",
       "O        888302.7254   55.521002\n",
       "H        111906.9015  111.029766\n",
       "SI           78.6151    0.002799\n",
       "FE            0.1236    0.000002\n",
       "MG           15.0375    0.000619"
      ]
     },
     "execution_count": 18,
     "metadata": {},
     "output_type": "execute_result"
    }
   ],
   "source": [
    "dew_fluid.elemental_comp"
   ]
  },
  {
   "cell_type": "markdown",
   "metadata": {},
   "source": [
    "And what species are present in the fluid?"
   ]
  },
  {
   "cell_type": "code",
   "execution_count": 19,
   "metadata": {},
   "outputs": [
    {
     "data": {
      "text/html": [
       "<div>\n",
       "<style scoped>\n",
       "    .dataframe tbody tr th:only-of-type {\n",
       "        vertical-align: middle;\n",
       "    }\n",
       "\n",
       "    .dataframe tbody tr th {\n",
       "        vertical-align: top;\n",
       "    }\n",
       "\n",
       "    .dataframe thead th {\n",
       "        text-align: right;\n",
       "    }\n",
       "</style>\n",
       "<table border=\"1\" class=\"dataframe\">\n",
       "  <thead>\n",
       "    <tr style=\"text-align: right;\">\n",
       "      <th></th>\n",
       "      <th>species</th>\n",
       "      <th>molality</th>\n",
       "      <th>log_g</th>\n",
       "      <th>activity</th>\n",
       "    </tr>\n",
       "  </thead>\n",
       "  <tbody>\n",
       "    <tr>\n",
       "      <th>0</th>\n",
       "      <td>H4SIO4(AQ)</td>\n",
       "      <td>2.642028e-03</td>\n",
       "      <td>0.0000</td>\n",
       "      <td>2.642000e-03</td>\n",
       "    </tr>\n",
       "    <tr>\n",
       "      <th>1</th>\n",
       "      <td>OH-</td>\n",
       "      <td>1.022870e-03</td>\n",
       "      <td>-0.0212</td>\n",
       "      <td>9.740000e-04</td>\n",
       "    </tr>\n",
       "    <tr>\n",
       "      <th>2</th>\n",
       "      <td>MG+2</td>\n",
       "      <td>4.762868e-04</td>\n",
       "      <td>-0.0850</td>\n",
       "      <td>3.916000e-04</td>\n",
       "    </tr>\n",
       "    <tr>\n",
       "      <th>3</th>\n",
       "      <td>MG(OH)+</td>\n",
       "      <td>1.362441e-04</td>\n",
       "      <td>-0.0212</td>\n",
       "      <td>1.297000e-04</td>\n",
       "    </tr>\n",
       "    <tr>\n",
       "      <th>4</th>\n",
       "      <td>H2(AQ)</td>\n",
       "      <td>9.997555e-05</td>\n",
       "      <td>0.0000</td>\n",
       "      <td>9.998000e-05</td>\n",
       "    </tr>\n",
       "    <tr>\n",
       "      <th>5</th>\n",
       "      <td>H3SIO4-</td>\n",
       "      <td>7.820924e-05</td>\n",
       "      <td>-0.0212</td>\n",
       "      <td>7.448000e-05</td>\n",
       "    </tr>\n",
       "    <tr>\n",
       "      <th>6</th>\n",
       "      <td>H6SI2O7(AQ)</td>\n",
       "      <td>3.636427e-05</td>\n",
       "      <td>0.0000</td>\n",
       "      <td>3.636000e-05</td>\n",
       "    </tr>\n",
       "    <tr>\n",
       "      <th>7</th>\n",
       "      <td>MG(H3SIO4)+</td>\n",
       "      <td>6.168153e-06</td>\n",
       "      <td>-0.0212</td>\n",
       "      <td>5.874000e-06</td>\n",
       "    </tr>\n",
       "    <tr>\n",
       "      <th>8</th>\n",
       "      <td>H+</td>\n",
       "      <td>3.197902e-06</td>\n",
       "      <td>-0.0212</td>\n",
       "      <td>3.045000e-06</td>\n",
       "    </tr>\n",
       "    <tr>\n",
       "      <th>9</th>\n",
       "      <td>FE(OH)+</td>\n",
       "      <td>1.181670e-06</td>\n",
       "      <td>-0.0212</td>\n",
       "      <td>1.125000e-06</td>\n",
       "    </tr>\n",
       "    <tr>\n",
       "      <th>10</th>\n",
       "      <td>FE+2</td>\n",
       "      <td>8.636688e-07</td>\n",
       "      <td>-0.0850</td>\n",
       "      <td>7.102000e-07</td>\n",
       "    </tr>\n",
       "    <tr>\n",
       "      <th>11</th>\n",
       "      <td>FE(OH)2(AQ)</td>\n",
       "      <td>1.555003e-07</td>\n",
       "      <td>0.0000</td>\n",
       "      <td>1.555000e-07</td>\n",
       "    </tr>\n",
       "    <tr>\n",
       "      <th>12</th>\n",
       "      <td>FE(OH)3-</td>\n",
       "      <td>1.300624e-08</td>\n",
       "      <td>-0.0212</td>\n",
       "      <td>1.239000e-08</td>\n",
       "    </tr>\n",
       "    <tr>\n",
       "      <th>13</th>\n",
       "      <td>H8SI3O10(AQ)</td>\n",
       "      <td>8.703870e-12</td>\n",
       "      <td>0.0000</td>\n",
       "      <td>8.704000e-12</td>\n",
       "    </tr>\n",
       "    <tr>\n",
       "      <th>14</th>\n",
       "      <td>FE+3</td>\n",
       "      <td>5.766163e-20</td>\n",
       "      <td>-0.1912</td>\n",
       "      <td>3.713000e-20</td>\n",
       "    </tr>\n",
       "    <tr>\n",
       "      <th>15</th>\n",
       "      <td>O2(AQ)</td>\n",
       "      <td>8.588403e-40</td>\n",
       "      <td>0.0000</td>\n",
       "      <td>8.588000e-40</td>\n",
       "    </tr>\n",
       "  </tbody>\n",
       "</table>\n",
       "</div>"
      ],
      "text/plain": [
       "         species      molality   log_g      activity\n",
       "0     H4SIO4(AQ)  2.642028e-03  0.0000  2.642000e-03\n",
       "1            OH-  1.022870e-03 -0.0212  9.740000e-04\n",
       "2           MG+2  4.762868e-04 -0.0850  3.916000e-04\n",
       "3        MG(OH)+  1.362441e-04 -0.0212  1.297000e-04\n",
       "4         H2(AQ)  9.997555e-05  0.0000  9.998000e-05\n",
       "5        H3SIO4-  7.820924e-05 -0.0212  7.448000e-05\n",
       "6    H6SI2O7(AQ)  3.636427e-05  0.0000  3.636000e-05\n",
       "7    MG(H3SIO4)+  6.168153e-06 -0.0212  5.874000e-06\n",
       "8             H+  3.197902e-06 -0.0212  3.045000e-06\n",
       "9        FE(OH)+  1.181670e-06 -0.0212  1.125000e-06\n",
       "10          FE+2  8.636688e-07 -0.0850  7.102000e-07\n",
       "11   FE(OH)2(AQ)  1.555003e-07  0.0000  1.555000e-07\n",
       "12      FE(OH)3-  1.300624e-08 -0.0212  1.239000e-08\n",
       "13  H8SI3O10(AQ)  8.703870e-12  0.0000  8.704000e-12\n",
       "14          FE+3  5.766163e-20 -0.1912  3.713000e-20\n",
       "15        O2(AQ)  8.588403e-40  0.0000  8.588000e-40"
      ]
     },
     "execution_count": 19,
     "metadata": {},
     "output_type": "execute_result"
    }
   ],
   "source": [
    "dew_fluid.aqueous_species"
   ]
  },
  {
   "cell_type": "markdown",
   "metadata": {},
   "source": [
    "The pH?"
   ]
  },
  {
   "cell_type": "code",
   "execution_count": 20,
   "metadata": {},
   "outputs": [
    {
     "data": {
      "text/plain": [
       "5.5164"
      ]
     },
     "execution_count": 20,
     "metadata": {},
     "output_type": "execute_result"
    }
   ],
   "source": [
    "dew_fluid.pH"
   ]
  },
  {
   "cell_type": "markdown",
   "metadata": {},
   "source": [
    "Is this a feasible mineral assemblage?"
   ]
  },
  {
   "cell_type": "code",
   "execution_count": 21,
   "metadata": {},
   "outputs": [
    {
     "data": {
      "text/html": [
       "<div>\n",
       "<style scoped>\n",
       "    .dataframe tbody tr th:only-of-type {\n",
       "        vertical-align: middle;\n",
       "    }\n",
       "\n",
       "    .dataframe tbody tr th {\n",
       "        vertical-align: top;\n",
       "    }\n",
       "\n",
       "    .dataframe thead th {\n",
       "        text-align: right;\n",
       "    }\n",
       "</style>\n",
       "<table border=\"1\" class=\"dataframe\">\n",
       "  <thead>\n",
       "    <tr style=\"text-align: right;\">\n",
       "      <th></th>\n",
       "      <th>mineral</th>\n",
       "      <th>log_q_k</th>\n",
       "      <th>aff</th>\n",
       "      <th>state</th>\n",
       "    </tr>\n",
       "  </thead>\n",
       "  <tbody>\n",
       "    <tr>\n",
       "      <th>0</th>\n",
       "      <td>MAGNETITE</td>\n",
       "      <td>0.0</td>\n",
       "      <td>0.0</td>\n",
       "      <td>satd</td>\n",
       "    </tr>\n",
       "    <tr>\n",
       "      <th>1</th>\n",
       "      <td>HEMATITE</td>\n",
       "      <td>-0.655</td>\n",
       "      <td>-1.718</td>\n",
       "      <td>NaN</td>\n",
       "    </tr>\n",
       "    <tr>\n",
       "      <th>2</th>\n",
       "      <td>PERICLASE</td>\n",
       "      <td>-2.364</td>\n",
       "      <td>-6.201</td>\n",
       "      <td>NaN</td>\n",
       "    </tr>\n",
       "    <tr>\n",
       "      <th>3</th>\n",
       "      <td>BRUCITE</td>\n",
       "      <td>-0.412</td>\n",
       "      <td>-1.081</td>\n",
       "      <td>NaN</td>\n",
       "    </tr>\n",
       "    <tr>\n",
       "      <th>4</th>\n",
       "      <td>FORSTERITE</td>\n",
       "      <td>-0.046</td>\n",
       "      <td>-0.12</td>\n",
       "      <td>satd</td>\n",
       "    </tr>\n",
       "    <tr>\n",
       "      <th>5</th>\n",
       "      <td>FAYALITE</td>\n",
       "      <td>-1.0</td>\n",
       "      <td>-2.623</td>\n",
       "      <td>NaN</td>\n",
       "    </tr>\n",
       "    <tr>\n",
       "      <th>6</th>\n",
       "      <td>CHRYSOTILE</td>\n",
       "      <td>2.104</td>\n",
       "      <td>5.517</td>\n",
       "      <td>ssatd</td>\n",
       "    </tr>\n",
       "    <tr>\n",
       "      <th>7</th>\n",
       "      <td>ENSTATITE_CL</td>\n",
       "      <td>-0.057</td>\n",
       "      <td>-0.149</td>\n",
       "      <td>satd</td>\n",
       "    </tr>\n",
       "    <tr>\n",
       "      <th>8</th>\n",
       "      <td>ENSTATITE_OR</td>\n",
       "      <td>-0.097</td>\n",
       "      <td>-0.254</td>\n",
       "      <td>satd</td>\n",
       "    </tr>\n",
       "    <tr>\n",
       "      <th>9</th>\n",
       "      <td>ENSTATITE_PR</td>\n",
       "      <td>-0.27</td>\n",
       "      <td>-0.709</td>\n",
       "      <td>NaN</td>\n",
       "    </tr>\n",
       "    <tr>\n",
       "      <th>10</th>\n",
       "      <td>FERROSILITE</td>\n",
       "      <td>-0.895</td>\n",
       "      <td>-2.348</td>\n",
       "      <td>NaN</td>\n",
       "    </tr>\n",
       "    <tr>\n",
       "      <th>11</th>\n",
       "      <td>ANTHOPHYLLIT</td>\n",
       "      <td>0.6</td>\n",
       "      <td>1.575</td>\n",
       "      <td>ssatd</td>\n",
       "    </tr>\n",
       "    <tr>\n",
       "      <th>12</th>\n",
       "      <td>ANTIGORITE</td>\n",
       "      <td>18.830</td>\n",
       "      <td>49.384</td>\n",
       "      <td>ssatd</td>\n",
       "    </tr>\n",
       "    <tr>\n",
       "      <th>13</th>\n",
       "      <td>TALC</td>\n",
       "      <td>1.769</td>\n",
       "      <td>4.639</td>\n",
       "      <td>ssatd</td>\n",
       "    </tr>\n",
       "    <tr>\n",
       "      <th>14</th>\n",
       "      <td>QUARTZ_ALPHA</td>\n",
       "      <td>-0.893</td>\n",
       "      <td>-2.343</td>\n",
       "      <td>NaN</td>\n",
       "    </tr>\n",
       "    <tr>\n",
       "      <th>15</th>\n",
       "      <td>QUARTZ_BETA</td>\n",
       "      <td>-1.014</td>\n",
       "      <td>-2.659</td>\n",
       "      <td>NaN</td>\n",
       "    </tr>\n",
       "    <tr>\n",
       "      <th>16</th>\n",
       "      <td>COESITE</td>\n",
       "      <td>-1.083</td>\n",
       "      <td>-2.839</td>\n",
       "      <td>NaN</td>\n",
       "    </tr>\n",
       "    <tr>\n",
       "      <th>17</th>\n",
       "      <td>IRON_ALPHA</td>\n",
       "      <td>-4.742</td>\n",
       "      <td>-12.437</td>\n",
       "      <td>NaN</td>\n",
       "    </tr>\n",
       "    <tr>\n",
       "      <th>18</th>\n",
       "      <td>IRON_GAMMA</td>\n",
       "      <td>-4.999</td>\n",
       "      <td>-13.111</td>\n",
       "      <td>NaN</td>\n",
       "    </tr>\n",
       "    <tr>\n",
       "      <th>19</th>\n",
       "      <td>CRISTO_ALPHA</td>\n",
       "      <td>-1.328</td>\n",
       "      <td>-3.484</td>\n",
       "      <td>NaN</td>\n",
       "    </tr>\n",
       "    <tr>\n",
       "      <th>20</th>\n",
       "      <td>CRISTO_BETA</td>\n",
       "      <td>-1.451</td>\n",
       "      <td>-3.807</td>\n",
       "      <td>NaN</td>\n",
       "    </tr>\n",
       "  </tbody>\n",
       "</table>\n",
       "</div>"
      ],
      "text/plain": [
       "         mineral log_q_k     aff  state\n",
       "0      MAGNETITE     0.0     0.0   satd\n",
       "1       HEMATITE  -0.655  -1.718    NaN\n",
       "2      PERICLASE  -2.364  -6.201    NaN\n",
       "3        BRUCITE  -0.412  -1.081    NaN\n",
       "4     FORSTERITE  -0.046   -0.12   satd\n",
       "5       FAYALITE    -1.0  -2.623    NaN\n",
       "6     CHRYSOTILE   2.104   5.517  ssatd\n",
       "7   ENSTATITE_CL  -0.057  -0.149   satd\n",
       "8   ENSTATITE_OR  -0.097  -0.254   satd\n",
       "9   ENSTATITE_PR   -0.27  -0.709    NaN\n",
       "10   FERROSILITE  -0.895  -2.348    NaN\n",
       "11  ANTHOPHYLLIT     0.6   1.575  ssatd\n",
       "12    ANTIGORITE  18.830  49.384  ssatd\n",
       "13          TALC   1.769   4.639  ssatd\n",
       "14  QUARTZ_ALPHA  -0.893  -2.343    NaN\n",
       "15   QUARTZ_BETA  -1.014  -2.659    NaN\n",
       "16       COESITE  -1.083  -2.839    NaN\n",
       "17    IRON_ALPHA  -4.742 -12.437    NaN\n",
       "18    IRON_GAMMA  -4.999 -13.111    NaN\n",
       "19  CRISTO_ALPHA  -1.328  -3.484    NaN\n",
       "20   CRISTO_BETA  -1.451  -3.807    NaN"
      ]
     },
     "execution_count": 21,
     "metadata": {},
     "output_type": "execute_result"
    }
   ],
   "source": [
    "dew_fluid.mineral_saturation"
   ]
  },
  {
   "cell_type": "markdown",
   "metadata": {},
   "source": [
    "Well, it looks like a fluid infiltrating the rock will react with the mineral assemblage to form some hydrated phases... This seems likely to happen in reality! This could be a good starting point for an EQ6 reaction path calculation..."
   ]
  },
  {
   "cell_type": "code",
   "execution_count": null,
   "metadata": {},
   "outputs": [],
   "source": []
  }
 ],
 "metadata": {
  "kernelspec": {
   "display_name": "Python 3 (ipykernel)",
   "language": "python",
   "name": "python3"
  },
  "language_info": {
   "codemirror_mode": {
    "name": "ipython",
    "version": 3
   },
   "file_extension": ".py",
   "mimetype": "text/x-python",
   "name": "python",
   "nbconvert_exporter": "python",
   "pygments_lexer": "ipython3",
   "version": "3.7.12"
  }
 },
 "nbformat": 4,
 "nbformat_minor": 4
}
