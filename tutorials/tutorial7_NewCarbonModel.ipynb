{
 "cells": [
  {
   "cell_type": "markdown",
   "metadata": {},
   "source": [
    "# Guide to working with new carbon functions - TUTORIAL 7\n",
    "\n",
    "At the moment it is not possible to perform EQ3 calculations in the cloud using the new version of EQ3, but it is still possible to create DATA0 files.\n",
    "\n",
    "First import the required packages:"
   ]
  },
  {
   "cell_type": "code",
   "execution_count": 1,
   "metadata": {},
   "outputs": [],
   "source": [
    "import pyQ3\n",
    "import numpy as np"
   ]
  },
  {
   "cell_type": "markdown",
   "metadata": {},
   "source": [
    "## Create a custom DATA0 file\n",
    "One use for the code is to automatically create a customised DATA0 file for use with EQPT and EQ3 externally. This can use the full set of aqueous species, or a custom system can be specified.\n",
    "\n",
    "### Generic DATA0 file at a chosen pressure\n",
    "The DEW DATA0 files available online are for specific pressures, but pyQ3 allows DATA0 to be generated for any chosen pressure and any temperature range.\n",
    "\n",
    "First you must define the DEW system. To obtain the default species and minerals you do not need to specify anything when defining the system:"
   ]
  },
  {
   "cell_type": "code",
   "execution_count": 2,
   "metadata": {},
   "outputs": [],
   "source": [
    "dew_system = pyQ3.System(carbon_activity_mode='sverjensky22')"
   ]
  },
  {
   "cell_type": "markdown",
   "metadata": {},
   "source": [
    "To generate the DATA0 file, you must call the create_data0() method. The temperature (in K) you supply will be the starting temperature of the file, and it will cover 350K in excess of this temperature. The pressure is constant."
   ]
  },
  {
   "cell_type": "code",
   "execution_count": 3,
   "metadata": {},
   "outputs": [],
   "source": [
    "T = 300.0 + 273.15 # in K\n",
    "P = 2000.0 # in bar\n",
    "dew_system.make_data0(T,P)"
   ]
  },
  {
   "cell_type": "markdown",
   "metadata": {},
   "source": [
    "The new DATA0 file will now be in the directory you are running the notebook in. If you are running this notebook in the cloud, open up the file directory sidebar on the left, right click on DATA0, and press download.\n",
    "\n",
    "Note that the nomenclature used for the species is not identical to that used in the published DATA0 files, but it is designed to be close. The discrepancies come from imposing a uniform format for adding the species' charges, and is required by the python module.\n"
   ]
  },
  {
   "cell_type": "code",
   "execution_count": 4,
   "metadata": {},
   "outputs": [],
   "source": [
    "fluid = pyQ3.Fluid(dew_system, 300.0 + 273.15, 2000.0)"
   ]
  },
  {
   "cell_type": "code",
   "execution_count": 5,
   "metadata": {},
   "outputs": [
    {
     "data": {
      "text/plain": [
       "['/Users/simonmatthews/opt/anaconda3/lib/python3.7/site-packages/pyQ3']"
      ]
     },
     "execution_count": 5,
     "metadata": {},
     "output_type": "execute_result"
    }
   ],
   "source": [
    "pyQ3.__path__"
   ]
  },
  {
   "cell_type": "code",
   "execution_count": null,
   "metadata": {},
   "outputs": [],
   "source": []
  }
 ],
 "metadata": {
  "kernelspec": {
   "display_name": "Python 3 (ipykernel)",
   "language": "python",
   "name": "python3"
  },
  "language_info": {
   "codemirror_mode": {
    "name": "ipython",
    "version": 3
   },
   "file_extension": ".py",
   "mimetype": "text/x-python",
   "name": "python",
   "nbconvert_exporter": "python",
   "pygments_lexer": "ipython3",
   "version": "3.7.12"
  }
 },
 "nbformat": 4,
 "nbformat_minor": 4
}
