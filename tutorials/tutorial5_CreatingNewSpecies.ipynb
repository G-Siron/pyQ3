{
 "cells": [
  {
   "cell_type": "markdown",
   "metadata": {},
   "source": [
    "# Tutorial 5 - Generate new aqueous species objects for using in pyDEW\n",
    "One of the advantages of using the ENKI coder module is you can easily create new models, and adjust their parameters. Coder models have two modes: one where the parameters are fixed, and one where the parameters can be varied at any time. The fixed version is faster, and so the default species in pyDEW are set up this way. However, if you want to adjust the properties of a species, or create a new species, it is easy to generate new coder models. *Note: if you just want to experiment (and obtain logKs) for different complexes, you can create a dummy complex when you define the system. The pyQ3 documentation describes this, but I will also write another tutorial soon.*\n",
    "\n",
    "First, import the required packages. This includes running code in another notebook to define some methods (z_tutorial5_core.ipynb):"
   ]
  },
  {
   "cell_type": "code",
   "execution_count": 1,
   "metadata": {},
   "outputs": [
    {
     "name": "stderr",
     "output_type": "stream",
     "text": [
      "/Users/simonmatthews/opt/anaconda3/lib/python3.7/site-packages/fuzzywuzzy/fuzz.py:11: UserWarning: Using slow pure-python SequenceMatcher. Install python-Levenshtein to remove this warning\n",
      "  warnings.warn('Using slow pure-python SequenceMatcher. Install python-Levenshtein to remove this warning')\n"
     ]
    }
   ],
   "source": [
    "import numpy as np\n",
    "import dill\n",
    "import pandas as pd\n",
    "%run z_tutorial5_core.ipynb\n",
    "import matplotlib.pyplot as plt\n",
    "from thermoengine import model, phases"
   ]
  },
  {
   "cell_type": "markdown",
   "metadata": {},
   "source": [
    "Create a coder implementation of the HKF model, in their predictive format."
   ]
  },
  {
   "cell_type": "code",
   "execution_count": 2,
   "metadata": {},
   "outputs": [],
   "source": [
    "%run z_tutorial5_HKF_equations.ipynb"
   ]
  },
  {
   "cell_type": "markdown",
   "metadata": {},
   "source": [
    "Set up the properties of the species we will generate. You can have multiple species, just repeat the block of code below.\n",
    "\n",
    "The name in [] following phase_params is the name you will use when defining the species. The 'Phase' entry in the dictionary is used to locate the file, and should contain only letters, numbers, and underscores. To include the charge you could use '_p3' or '_n2' for +3 or -2, for example. Adding 'new_' in front makes sure the default DEW species won't be overwritten or get confused.\n",
    "\n",
    "Here I'm using NaCl$_{(aq)}$ as a demonstration, with the values taken from DEW2019."
   ]
  },
  {
   "cell_type": "code",
   "execution_count": 3,
   "metadata": {},
   "outputs": [],
   "source": [
    "phase_params = {}\n",
    "### REPEAT THIS BLOCK OF CODE (WITH NEW PARAMETERS) TO ADD MORE SPECIES ###\n",
    "phase_params['NACL(AQ)'] = {'Phase': 'new_NaCl_aq',\n",
    "                            'Formula': 'NA(1)CL(1)',\n",
    "                            'G_ref':-92910 * 4.184,\n",
    "                            'S_ref':28 * 4.184,\n",
    "                            'v_ref':24.000/10,\n",
    "                            'C_p_ref':8.508 * 4.184,\n",
    "                            'a1':0, # Leave as zero if predicting\n",
    "                            'a2':0, # Leave as zero if predicting\n",
    "                            'a3':0, # Leave as zero if predicting\n",
    "                            'a4':0, # Leave as zero if predicting\n",
    "                            'c1':0, # Leave as zero if predicting\n",
    "                            'c2':0, # Leave as zero if predicting\n",
    "                            'omega0':0, # Leave as zero if predicting\n",
    "                            'complex':1, # Is it a complex? If yes, set to 1, if not set to 0\n",
    "                            'gas':0,  # Is it a gas? If yes set to to 1, if not set to 0\n",
    "                            'prd_ac':1, # Predict a and c coefficients? 1 = yes, 0 = no\n",
    "                            'prd_omega':1, # Predict omega0? 1 = yes, 0 = no\n",
    "                            'theta':228.0, # Probably don't need to change\n",
    "                            'Psi':2600.0, # Probably don't need to change\n",
    "                            'eta':694657.0, # Probably don't need to change\n",
    "                            'rH':3.082, # Probably don't need to change\n",
    "                            'z':0, # SET THE CHARGE\n",
    "                            'T_r':298.15, # Probably don't need to change\n",
    "                            'P_r':1.0} # Probably don't need to change\n",
    "### END OF BLOCK ##########################################################\n"
   ]
  },
  {
   "cell_type": "markdown",
   "metadata": {},
   "source": [
    "Here you can set the module name, and the working directory (where coder will write lots of C code). The `calib=True` argument tells coder to make a model where the parameters can be changed.\n",
    "\n",
    "This step will take a little while as the C code is compiled in the background."
   ]
  },
  {
   "cell_type": "code",
   "execution_count": 4,
   "metadata": {},
   "outputs": [
    {
     "name": "stdout",
     "output_type": "stream",
     "text": [
      "/Users/simonmatthews/repos/pyDEW/tutorials/tutorial5_working\n",
      "Creating (once only) generic fast model code file string\n",
      "Creating (once only) generic model calib code template include file string\n",
      "Creating (once only) generic model calib code template code file string\n",
      "Creating (once only) generic calib model code file string\n",
      "Creating include file ...\n",
      "... done!\n",
      "Creating code file ...\n",
      "... done\n",
      "Writing include file to working directory ...\n",
      "Writing code file to working directory ...\n",
      "Writing pyxbld file to working directory ...\n",
      "writing pyx file to working directory ...\n",
      "Compiling code and Python bindings ...\n",
      "Success! Import the module named  tutorial5_species\n"
     ]
    },
    {
     "name": "stderr",
     "output_type": "stream",
     "text": [
      "rm: tmpfile2.pyx: No such file or directory\n",
      "/Users/simonmatthews/opt/anaconda3/lib/python3.7/site-packages/Cython/Compiler/Main.py:369: FutureWarning: Cython directive 'language_level' not set, using 2 for now (Py2). This will change in a later release! File: /Users/simonmatthews/repos/pyDEW/tutorials/tutorial5_working/tutorial5_species.pyx\n",
      "  tree = Parsing.p_module(s, pxd, full_module_name)\n",
      "In file included from /Users/simonmatthews/.pyxbld/temp.macosx-10.9-x86_64-3.7/pyrex/tutorial5_species.c:701:\n",
      "In file included from /Users/simonmatthews/opt/anaconda3/lib/python3.7/site-packages/numpy/core/include/numpy/arrayobject.h:4:\n",
      "In file included from /Users/simonmatthews/opt/anaconda3/lib/python3.7/site-packages/numpy/core/include/numpy/ndarrayobject.h:12:\n",
      "In file included from /Users/simonmatthews/opt/anaconda3/lib/python3.7/site-packages/numpy/core/include/numpy/ndarraytypes.h:1969:\n",
      "/Users/simonmatthews/opt/anaconda3/lib/python3.7/site-packages/numpy/core/include/numpy/npy_1_7_deprecated_api.h:17:2: warning: \"Using deprecated NumPy API, disable it with \"          \"#define NPY_NO_DEPRECATED_API NPY_1_7_API_VERSION\" [-W#warnings]\n",
      "#warning \"Using deprecated NumPy API, disable it with \" \\\n",
      " ^\n",
      "1 warning generated.\n",
      "ld: warning: dylib (/usr/local/lib/libgsl.dylib) was built for newer macOS version (11.0) than being linked (10.9)\n",
      "ld: warning: dylib (/usr/local/lib/libswimdew.dylib) was built for newer macOS version (11.0) than being linked (10.9)\n"
     ]
    },
    {
     "name": "stdout",
     "output_type": "stream",
     "text": [
      "/Users/simonmatthews/repos/pyDEW/tutorials\n"
     ]
    }
   ],
   "source": [
    "mod_name = 'tutorial5_species'\n",
    "modelDB, codermod = make_custom_database(mod_name,phase_params,working_dir='tutorial5_working', calib=True)"
   ]
  },
  {
   "cell_type": "markdown",
   "metadata": {},
   "source": [
    "Extract the species objects and pickle them for later use. See tutorial 6 for how to import them into another notebook."
   ]
  },
  {
   "cell_type": "code",
   "execution_count": 5,
   "metadata": {},
   "outputs": [],
   "source": [
    "output = {}\n",
    "for phsnm in phase_params:\n",
    "    iphs = modelDB.get_phase(phsnm)\n",
    "    output[phsnm] = iphs\n",
    "with open('tutorial5_species.pkl','wb') as file:\n",
    "    dill.dump(output, file)\n",
    "    file.close()"
   ]
  },
  {
   "cell_type": "code",
   "execution_count": null,
   "metadata": {},
   "outputs": [],
   "source": []
  },
  {
   "cell_type": "code",
   "execution_count": null,
   "metadata": {},
   "outputs": [],
   "source": []
  }
 ],
 "metadata": {
  "kernelspec": {
   "display_name": "Python 3 (ipykernel)",
   "language": "python",
   "name": "python3"
  },
  "language_info": {
   "codemirror_mode": {
    "name": "ipython",
    "version": 3
   },
   "file_extension": ".py",
   "mimetype": "text/x-python",
   "name": "python",
   "nbconvert_exporter": "python",
   "pygments_lexer": "ipython3",
   "version": "3.7.12"
  }
 },
 "nbformat": 4,
 "nbformat_minor": 4
}
