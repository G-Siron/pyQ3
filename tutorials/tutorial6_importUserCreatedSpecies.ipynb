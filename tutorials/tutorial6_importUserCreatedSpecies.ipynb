{
 "cells": [
  {
   "cell_type": "markdown",
   "metadata": {},
   "source": [
    "# Tutorial 6 - Import user created species into pyDEW\n",
    "Following tutorial 5 where we created a coder species which would allow us to change parameters as we want, we can now import it and do calculations!\n",
    "\n",
    "Import the required packages, including running the core notebook again. This code will be migrated into either ENKI or pyDEW soon."
   ]
  },
  {
   "cell_type": "code",
   "execution_count": 1,
   "metadata": {},
   "outputs": [
    {
     "name": "stderr",
     "output_type": "stream",
     "text": [
      "/Users/simonmatthews/opt/anaconda3/lib/python3.7/site-packages/fuzzywuzzy/fuzz.py:11: UserWarning: Using slow pure-python SequenceMatcher. Install python-Levenshtein to remove this warning\n",
      "  warnings.warn('Using slow pure-python SequenceMatcher. Install python-Levenshtein to remove this warning')\n"
     ]
    }
   ],
   "source": [
    "import numpy as np\n",
    "import dill\n",
    "import pandas as pd\n",
    "%run z_tutorial5_core.ipynb\n",
    "from thermoengine import model, phases\n",
    "from scipy.optimize import root_scalar, minimize\n",
    "import pyDEW\n",
    "from copy import copy"
   ]
  },
  {
   "cell_type": "markdown",
   "metadata": {},
   "source": [
    "Load the species we generated before:"
   ]
  },
  {
   "cell_type": "code",
   "execution_count": 2,
   "metadata": {},
   "outputs": [
    {
     "name": "stdout",
     "output_type": "stream",
     "text": [
      "Number of species = 1\n"
     ]
    }
   ],
   "source": [
    "load_coder_modules('tutorial5_working')\n",
    "with open('tutorial5_species.pkl','rb') as file:\n",
    "    tut5 = dill.load(file)\n",
    "    file.close()\n",
    "print('Number of species = '+str(len(tut5)))"
   ]
  },
  {
   "cell_type": "markdown",
   "metadata": {},
   "source": [
    "We now have a thermoengine phase object contained in a dictionary:"
   ]
  },
  {
   "cell_type": "code",
   "execution_count": 3,
   "metadata": {},
   "outputs": [
    {
     "data": {
      "text/plain": [
       "{'NACL(AQ)': <thermoengine.phases.PurePhase at 0x7fb776a1d910>}"
      ]
     },
     "execution_count": 3,
     "metadata": {},
     "output_type": "execute_result"
    }
   ],
   "source": [
    "tut5"
   ]
  },
  {
   "cell_type": "markdown",
   "metadata": {},
   "source": [
    "## Set up the DEW system\n",
    "Here's how we can add the new complex to the default system. See below for how to add it to a custom system:"
   ]
  },
  {
   "cell_type": "code",
   "execution_count": 4,
   "metadata": {},
   "outputs": [],
   "source": [
    "other_species = copy(pyDEW.defaultsystem.other_species_names) # It is important to copy it, as otherwise you remove NACL(AQ) from the default list for the whole session. This is something I need to fix!\n",
    "other_species.pop(other_species.index('NACL(AQ)')) # Remove the default NACL(AQ) complex! If it's a totally new species you don't need to do this.\n",
    "other_species += [tut5['NACL(AQ)']]\n",
    "sys = pyDEW.System(other_species=other_species)"
   ]
  },
  {
   "cell_type": "markdown",
   "metadata": {},
   "source": [
    "You can then proceed with your calculations as normal!\n",
    "\n",
    "To make a new system, we can just pass the new species object as part of the list:"
   ]
  },
  {
   "cell_type": "code",
   "execution_count": 5,
   "metadata": {},
   "outputs": [],
   "source": [
    "elements = ['H','O','Na','Cl']\n",
    "basis_species = ['H2O','H+','NA+','CL-','O2(G)']\n",
    "other_species = ['OH-',tut5['NACL(AQ)']]\n",
    "hydrated_species = pyDEW.defaultsystem.hydrated_species # If the new complex has extra H2O molecules, add it this dictionary using something like:\n",
    "# hydrated_species['NACL(AQ)'] = 10\n",
    "sys = pyDEW.System(elements = elements,\n",
    "                   basis_species = basis_species,\n",
    "                   other_species = other_species,\n",
    "                   hydrated_species=hydrated_species)"
   ]
  },
  {
   "cell_type": "markdown",
   "metadata": {},
   "source": [
    "## Change the species' parameters\n",
    "Maybe you want to change the parameters again. What can we change?"
   ]
  },
  {
   "cell_type": "code",
   "execution_count": 6,
   "metadata": {},
   "outputs": [
    {
     "data": {
      "text/plain": [
       "['T_r',\n",
       " 'P_r',\n",
       " 'G_ref',\n",
       " 'S_ref',\n",
       " 'v_ref',\n",
       " 'C_p_ref',\n",
       " 'Psi',\n",
       " 'eta',\n",
       " 'rH',\n",
       " 'theta',\n",
       " 'z',\n",
       " 'complex',\n",
       " 'gas',\n",
       " 'prd_ac',\n",
       " 'prd_omega',\n",
       " 'a1',\n",
       " 'a2',\n",
       " 'a3',\n",
       " 'a4',\n",
       " 'c1',\n",
       " 'c2',\n",
       " 'omega0']"
      ]
     },
     "execution_count": 6,
     "metadata": {},
     "output_type": "execute_result"
    }
   ],
   "source": [
    "tut5['NACL(AQ)'].param_names"
   ]
  },
  {
   "cell_type": "markdown",
   "metadata": {},
   "source": [
    "To make things easy, we will save this list to a variable so that we can quickly look up the position of whatever parameter we want to change:"
   ]
  },
  {
   "cell_type": "code",
   "execution_count": 7,
   "metadata": {},
   "outputs": [],
   "source": [
    "param_ids = tut5['NACL(AQ)'].param_names"
   ]
  },
  {
   "cell_type": "markdown",
   "metadata": {},
   "source": [
    "We can calculate the logK at an abitrary temperature and pressure to see the effects of our changes:"
   ]
  },
  {
   "cell_type": "code",
   "execution_count": 8,
   "metadata": {},
   "outputs": [
    {
     "data": {
      "image/png": "[encoded data removed]",
      "text/latex": [
       "$\\displaystyle 0.640812361338722$"
      ],
      "text/plain": [
       "0.6408123613387223"
      ]
     },
     "execution_count": 8,
     "metadata": {},
     "output_type": "execute_result"
    }
   ],
   "source": [
    "sys.logK(tut5['NACL(AQ)'], t = 500.0, p = 10000.0)"
   ]
  },
  {
   "cell_type": "markdown",
   "metadata": {},
   "source": [
    "To change the reference free energy and entropy (to ridiculous values):"
   ]
  },
  {
   "cell_type": "code",
   "execution_count": 9,
   "metadata": {},
   "outputs": [],
   "source": [
    "tut5['NACL(AQ)'].set_param_values(np.array([param_ids.index('G_ref'), param_ids.index('S_ref')]),\n",
    "                                  np.array([-1000.0, 10.0])\n",
    "                                 )"
   ]
  },
  {
   "cell_type": "markdown",
   "metadata": {},
   "source": [
    "How has the logK changed?"
   ]
  },
  {
   "cell_type": "code",
   "execution_count": 10,
   "metadata": {},
   "outputs": [
    {
     "data": {
      "image/png": "[encoded data removed]",
      "text/latex": [
       "$\\displaystyle 43.4059471343392$"
      ],
      "text/plain": [
       "43.40594713433923"
      ]
     },
     "execution_count": 10,
     "metadata": {},
     "output_type": "execute_result"
    }
   ],
   "source": [
    "sys.logK(tut5['NACL(AQ)'], t = 500.0, p = 10000.0)"
   ]
  },
  {
   "cell_type": "markdown",
   "metadata": {},
   "source": [
    "To set some of the parameters manually, e.g., $\\omega_0$, you have to change the switch and the value together:"
   ]
  },
  {
   "cell_type": "code",
   "execution_count": 11,
   "metadata": {},
   "outputs": [],
   "source": [
    "tut5['NACL(AQ)'].set_param_values(np.array([param_ids.index('prd_omega'), param_ids.index('omega0')]),\n",
    "                                  np.array([0, 500])\n",
    "                                 )"
   ]
  },
  {
   "cell_type": "markdown",
   "metadata": {},
   "source": [
    "And the logK again?"
   ]
  },
  {
   "cell_type": "code",
   "execution_count": 12,
   "metadata": {},
   "outputs": [
    {
     "data": {
      "image/png": "[encoded data removed]",
      "text/latex": [
       "$\\displaystyle 43.4530815847726$"
      ],
      "text/plain": [
       "43.45308158477262"
      ]
     },
     "execution_count": 12,
     "metadata": {},
     "output_type": "execute_result"
    }
   ],
   "source": [
    "sys.logK(tut5['NACL(AQ)'], t = 500.0, p = 10000.0)"
   ]
  },
  {
   "cell_type": "code",
   "execution_count": null,
   "metadata": {},
   "outputs": [],
   "source": []
  }
 ],
 "metadata": {
  "kernelspec": {
   "display_name": "Python 3 (ipykernel)",
   "language": "python",
   "name": "python3"
  },
  "language_info": {
   "codemirror_mode": {
    "name": "ipython",
    "version": 3
   },
   "file_extension": ".py",
   "mimetype": "text/x-python",
   "name": "python",
   "nbconvert_exporter": "python",
   "pygments_lexer": "ipython3",
   "version": "3.7.12"
  }
 },
 "nbformat": 4,
 "nbformat_minor": 4
}
