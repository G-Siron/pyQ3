{
 "cells": [
  {
   "cell_type": "markdown",
   "metadata": {},
   "source": [
    "# Demonstration of pyQ3 python wrapper for DEW-ENKI-EQ3 aqueous speciation calculations\n",
    "First import the required packages:"
   ]
  },
  {
   "cell_type": "code",
   "execution_count": 1,
   "metadata": {},
   "outputs": [
    {
     "name": "stderr",
     "output_type": "stream",
     "text": [
      "/Users/simonmatthews/opt/anaconda3/lib/python3.7/site-packages/fuzzywuzzy/fuzz.py:11: UserWarning: Using slow pure-python SequenceMatcher. Install python-Levenshtein to remove this warning\n",
      "  warnings.warn('Using slow pure-python SequenceMatcher. Install python-Levenshtein to remove this warning')\n"
     ]
    }
   ],
   "source": [
    "import numpy as np\n",
    "import matplotlib.pyplot as plt\n",
    "# import DEW_tools as dew\n",
    "import pyQ3 as p\n",
    "from thermoengine import model, phases, chem\n",
    "%run core.ipynb\n",
    "import dill"
   ]
  },
  {
   "cell_type": "markdown",
   "metadata": {},
   "source": [
    "## TO DO LIST:\n",
    "- Check that the default species align with all DATA0 files- i.e. that they don't change with pressure and temperature."
   ]
  },
  {
   "cell_type": "code",
   "execution_count": 2,
   "metadata": {},
   "outputs": [],
   "source": [
    "system = p.System()"
   ]
  },
  {
   "cell_type": "code",
   "execution_count": 21,
   "metadata": {},
   "outputs": [],
   "source": [
    "molalities = {'CL-':0.1,\n",
    "              'NA+':0.1,\n",
    "              'FE+2':0.1\n",
    "             }\n",
    "mineral_eq = {'O2':'MAGNETITE'}"
   ]
  },
  {
   "cell_type": "code",
   "execution_count": 22,
   "metadata": {},
   "outputs": [
    {
     "name": "stdout",
     "output_type": "stream",
     "text": [
      "Need to check whether fO2 is being set by mineral equilibria!\n"
     ]
    }
   ],
   "source": [
    "fluid = p.Fluid(system, P=10000.0,T=500.0+273.15,molalities=molalities,mineral_eq=mineral_eq)"
   ]
  },
  {
   "cell_type": "code",
   "execution_count": 23,
   "metadata": {},
   "outputs": [
    {
     "data": {
      "image/png": "[encoded data removed]",
      "text/latex": [
       "$\\displaystyle 5.7017$"
      ],
      "text/plain": [
       "5.7017"
      ]
     },
     "execution_count": 23,
     "metadata": {},
     "output_type": "execute_result"
    }
   ],
   "source": [
    "fluid.pH"
   ]
  },
  {
   "cell_type": "code",
   "execution_count": 24,
   "metadata": {},
   "outputs": [
    {
     "data": {
      "text/html": [
       "<div>\n",
       "<style scoped>\n",
       "    .dataframe tbody tr th:only-of-type {\n",
       "        vertical-align: middle;\n",
       "    }\n",
       "\n",
       "    .dataframe tbody tr th {\n",
       "        vertical-align: top;\n",
       "    }\n",
       "\n",
       "    .dataframe thead th {\n",
       "        text-align: right;\n",
       "    }\n",
       "</style>\n",
       "<table border=\"1\" class=\"dataframe\">\n",
       "  <thead>\n",
       "    <tr style=\"text-align: right;\">\n",
       "      <th></th>\n",
       "      <th>species</th>\n",
       "      <th>molality</th>\n",
       "      <th>log_g</th>\n",
       "      <th>activity</th>\n",
       "    </tr>\n",
       "  </thead>\n",
       "  <tbody>\n",
       "    <tr>\n",
       "      <th>0</th>\n",
       "      <td>H2(AQ)</td>\n",
       "      <td>4.608694e+12</td>\n",
       "      <td>0.0000</td>\n",
       "      <td>4.609000e+12</td>\n",
       "    </tr>\n",
       "    <tr>\n",
       "      <th>1</th>\n",
       "      <td>NA+</td>\n",
       "      <td>9.709730e-02</td>\n",
       "      <td>-0.1676</td>\n",
       "      <td>6.601000e-02</td>\n",
       "    </tr>\n",
       "    <tr>\n",
       "      <th>2</th>\n",
       "      <td>CL-</td>\n",
       "      <td>6.553883e-02</td>\n",
       "      <td>-0.1676</td>\n",
       "      <td>4.456000e-02</td>\n",
       "    </tr>\n",
       "    <tr>\n",
       "      <th>3</th>\n",
       "      <td>HFEO2-</td>\n",
       "      <td>4.234838e-02</td>\n",
       "      <td>-0.1676</td>\n",
       "      <td>2.879000e-02</td>\n",
       "    </tr>\n",
       "    <tr>\n",
       "      <th>4</th>\n",
       "      <td>FEO(AQ)</td>\n",
       "      <td>2.497463e-02</td>\n",
       "      <td>0.0000</td>\n",
       "      <td>2.497000e-02</td>\n",
       "    </tr>\n",
       "    <tr>\n",
       "      <th>5</th>\n",
       "      <td>FECL2(AQ)</td>\n",
       "      <td>1.575385e-02</td>\n",
       "      <td>0.0000</td>\n",
       "      <td>1.575000e-02</td>\n",
       "    </tr>\n",
       "    <tr>\n",
       "      <th>6</th>\n",
       "      <td>FE(OH)+</td>\n",
       "      <td>1.466498e-02</td>\n",
       "      <td>-0.1676</td>\n",
       "      <td>9.970000e-03</td>\n",
       "    </tr>\n",
       "    <tr>\n",
       "      <th>7</th>\n",
       "      <td>OH-</td>\n",
       "      <td>7.530666e-03</td>\n",
       "      <td>-0.1676</td>\n",
       "      <td>5.120000e-03</td>\n",
       "    </tr>\n",
       "    <tr>\n",
       "      <th>8</th>\n",
       "      <td>NACL(AQ)</td>\n",
       "      <td>2.088183e-03</td>\n",
       "      <td>0.0000</td>\n",
       "      <td>2.088000e-03</td>\n",
       "    </tr>\n",
       "    <tr>\n",
       "      <th>9</th>\n",
       "      <td>FE+2</td>\n",
       "      <td>1.394511e-03</td>\n",
       "      <td>-0.6703</td>\n",
       "      <td>2.980000e-04</td>\n",
       "    </tr>\n",
       "    <tr>\n",
       "      <th>10</th>\n",
       "      <td>FECL+</td>\n",
       "      <td>8.636548e-04</td>\n",
       "      <td>-0.1676</td>\n",
       "      <td>5.872000e-04</td>\n",
       "    </tr>\n",
       "    <tr>\n",
       "      <th>11</th>\n",
       "      <td>NAOH(AQ)</td>\n",
       "      <td>8.145188e-04</td>\n",
       "      <td>0.0000</td>\n",
       "      <td>8.145000e-04</td>\n",
       "    </tr>\n",
       "    <tr>\n",
       "      <th>12</th>\n",
       "      <td>H+</td>\n",
       "      <td>2.923336e-06</td>\n",
       "      <td>-0.1676</td>\n",
       "      <td>1.988000e-06</td>\n",
       "    </tr>\n",
       "    <tr>\n",
       "      <th>13</th>\n",
       "      <td>HCL(AQ)</td>\n",
       "      <td>1.638609e-06</td>\n",
       "      <td>0.0000</td>\n",
       "      <td>1.639000e-06</td>\n",
       "    </tr>\n",
       "    <tr>\n",
       "      <th>14</th>\n",
       "      <td>FECL+2</td>\n",
       "      <td>1.607674e-20</td>\n",
       "      <td>-0.6703</td>\n",
       "      <td>3.435000e-21</td>\n",
       "    </tr>\n",
       "    <tr>\n",
       "      <th>15</th>\n",
       "      <td>FE+3</td>\n",
       "      <td>3.051293e-23</td>\n",
       "      <td>-1.5081</td>\n",
       "      <td>9.470000e-25</td>\n",
       "    </tr>\n",
       "    <tr>\n",
       "      <th>16</th>\n",
       "      <td>FECL3(AQ)</td>\n",
       "      <td>2.380968e-23</td>\n",
       "      <td>0.0000</td>\n",
       "      <td>2.381000e-23</td>\n",
       "    </tr>\n",
       "    <tr>\n",
       "      <th>17</th>\n",
       "      <td>FECL4-</td>\n",
       "      <td>2.917966e-28</td>\n",
       "      <td>-0.1676</td>\n",
       "      <td>1.984000e-28</td>\n",
       "    </tr>\n",
       "    <tr>\n",
       "      <th>18</th>\n",
       "      <td>O2(AQ)</td>\n",
       "      <td>1.847177e-56</td>\n",
       "      <td>0.0000</td>\n",
       "      <td>1.847000e-56</td>\n",
       "    </tr>\n",
       "  </tbody>\n",
       "</table>\n",
       "</div>"
      ],
      "text/plain": [
       "      species      molality   log_g      activity\n",
       "0      H2(AQ)  4.608694e+12  0.0000  4.609000e+12\n",
       "1         NA+  9.709730e-02 -0.1676  6.601000e-02\n",
       "2         CL-  6.553883e-02 -0.1676  4.456000e-02\n",
       "3      HFEO2-  4.234838e-02 -0.1676  2.879000e-02\n",
       "4     FEO(AQ)  2.497463e-02  0.0000  2.497000e-02\n",
       "5   FECL2(AQ)  1.575385e-02  0.0000  1.575000e-02\n",
       "6     FE(OH)+  1.466498e-02 -0.1676  9.970000e-03\n",
       "7         OH-  7.530666e-03 -0.1676  5.120000e-03\n",
       "8    NACL(AQ)  2.088183e-03  0.0000  2.088000e-03\n",
       "9        FE+2  1.394511e-03 -0.6703  2.980000e-04\n",
       "10      FECL+  8.636548e-04 -0.1676  5.872000e-04\n",
       "11   NAOH(AQ)  8.145188e-04  0.0000  8.145000e-04\n",
       "12         H+  2.923336e-06 -0.1676  1.988000e-06\n",
       "13    HCL(AQ)  1.638609e-06  0.0000  1.639000e-06\n",
       "14     FECL+2  1.607674e-20 -0.6703  3.435000e-21\n",
       "15       FE+3  3.051293e-23 -1.5081  9.470000e-25\n",
       "16  FECL3(AQ)  2.380968e-23  0.0000  2.381000e-23\n",
       "17     FECL4-  2.917966e-28 -0.1676  1.984000e-28\n",
       "18     O2(AQ)  1.847177e-56  0.0000  1.847000e-56"
      ]
     },
     "execution_count": 24,
     "metadata": {},
     "output_type": "execute_result"
    }
   ],
   "source": [
    "fluid.aqeuous_species"
   ]
  },
  {
   "cell_type": "code",
   "execution_count": 25,
   "metadata": {},
   "outputs": [
    {
     "data": {
      "image/png": "[encoded data removed]",
      "text/latex": [
       "$\\displaystyle -52.026$"
      ],
      "text/plain": [
       "-52.026"
      ]
     },
     "execution_count": 25,
     "metadata": {},
     "output_type": "execute_result"
    }
   ],
   "source": [
    "fluid.fO2"
   ]
  },
  {
   "cell_type": "code",
   "execution_count": 26,
   "metadata": {},
   "outputs": [
    {
     "data": {
      "text/html": [
       "<div>\n",
       "<style scoped>\n",
       "    .dataframe tbody tr th:only-of-type {\n",
       "        vertical-align: middle;\n",
       "    }\n",
       "\n",
       "    .dataframe tbody tr th {\n",
       "        vertical-align: top;\n",
       "    }\n",
       "\n",
       "    .dataframe thead th {\n",
       "        text-align: right;\n",
       "    }\n",
       "</style>\n",
       "<table border=\"1\" class=\"dataframe\">\n",
       "  <thead>\n",
       "    <tr style=\"text-align: right;\">\n",
       "      <th></th>\n",
       "      <th>mineral</th>\n",
       "      <th>log_q_k</th>\n",
       "      <th>aff</th>\n",
       "      <th>state</th>\n",
       "    </tr>\n",
       "  </thead>\n",
       "  <tbody>\n",
       "    <tr>\n",
       "      <th>0</th>\n",
       "      <td>MAGNETITE</td>\n",
       "      <td>0.000</td>\n",
       "      <td>0.000</td>\n",
       "      <td>satd</td>\n",
       "    </tr>\n",
       "    <tr>\n",
       "      <th>1</th>\n",
       "      <td>HEMATITE</td>\n",
       "      <td>-5.603</td>\n",
       "      <td>-19.822</td>\n",
       "      <td>NaN</td>\n",
       "    </tr>\n",
       "  </tbody>\n",
       "</table>\n",
       "</div>"
      ],
      "text/plain": [
       "     mineral  log_q_k     aff state\n",
       "0  MAGNETITE    0.000   0.000  satd\n",
       "1   HEMATITE   -5.603 -19.822   NaN"
      ]
     },
     "execution_count": 26,
     "metadata": {},
     "output_type": "execute_result"
    }
   ],
   "source": [
    "fluid.mineral_saturation"
   ]
  },
  {
   "cell_type": "code",
   "execution_count": null,
   "metadata": {},
   "outputs": [],
   "source": []
  },
  {
   "cell_type": "code",
   "execution_count": 5,
   "metadata": {},
   "outputs": [],
   "source": [
    "output = p.output.eq3output()"
   ]
  },
  {
   "cell_type": "code",
   "execution_count": 6,
   "metadata": {},
   "outputs": [
    {
     "data": {
      "text/html": [
       "<div>\n",
       "<style scoped>\n",
       "    .dataframe tbody tr th:only-of-type {\n",
       "        vertical-align: middle;\n",
       "    }\n",
       "\n",
       "    .dataframe tbody tr th {\n",
       "        vertical-align: top;\n",
       "    }\n",
       "\n",
       "    .dataframe thead th {\n",
       "        text-align: right;\n",
       "    }\n",
       "</style>\n",
       "<table border=\"1\" class=\"dataframe\">\n",
       "  <thead>\n",
       "    <tr style=\"text-align: right;\">\n",
       "      <th></th>\n",
       "      <th>couple</th>\n",
       "      <th>Eh</th>\n",
       "      <th>pe</th>\n",
       "      <th>log_fO2</th>\n",
       "      <th>ah</th>\n",
       "    </tr>\n",
       "  </thead>\n",
       "  <tbody>\n",
       "    <tr>\n",
       "      <th>0</th>\n",
       "      <td>default</td>\n",
       "      <td>-1.113</td>\n",
       "      <td>-7.259</td>\n",
       "      <td>-12.6</td>\n",
       "      <td>-25.68</td>\n",
       "    </tr>\n",
       "  </tbody>\n",
       "</table>\n",
       "</div>"
      ],
      "text/plain": [
       "    couple     Eh     pe  log_fO2     ah\n",
       "0  default -1.113 -7.259    -12.6 -25.68"
      ]
     },
     "execution_count": 6,
     "metadata": {},
     "output_type": "execute_result"
    }
   ],
   "source": [
    "output.redox"
   ]
  },
  {
   "cell_type": "code",
   "execution_count": null,
   "metadata": {},
   "outputs": [],
   "source": []
  },
  {
   "cell_type": "code",
   "execution_count": null,
   "metadata": {},
   "outputs": [],
   "source": []
  },
  {
   "cell_type": "code",
   "execution_count": 3,
   "metadata": {},
   "outputs": [],
   "source": [
    "test = {'a':1}"
   ]
  },
  {
   "cell_type": "code",
   "execution_count": 4,
   "metadata": {},
   "outputs": [
    {
     "name": "stdout",
     "output_type": "stream",
     "text": [
      "a\n"
     ]
    }
   ],
   "source": [
    "for t in test:\n",
    "    print(t)"
   ]
  },
  {
   "cell_type": "code",
   "execution_count": 3,
   "metadata": {},
   "outputs": [],
   "source": [
    "system.make_data0(500.0+273.15,5000.0)"
   ]
  },
  {
   "cell_type": "markdown",
   "metadata": {},
   "source": [
    "## Create a custom DATA0 file\n",
    "One use for the code is to automatically create a customised DATA0 file for use with EQPT and EQ3 externally. This can use the full set of aqueous species, or a custom system can be specified."
   ]
  },
  {
   "cell_type": "code",
   "execution_count": null,
   "metadata": {},
   "outputs": [],
   "source": [
    "chem.get_Berman_formula"
   ]
  },
  {
   "cell_type": "code",
   "execution_count": 5,
   "metadata": {},
   "outputs": [],
   "source": [
    "berman = model.Database()"
   ]
  },
  {
   "cell_type": "code",
   "execution_count": 8,
   "metadata": {},
   "outputs": [
    {
     "name": "stdout",
     "output_type": "stream",
     "text": [
      "   abbrev          phase_name            formula phase_type endmember_num\n",
      "0      Bt             Biotite                      solution             2\n",
      "1     Cam      Clinoamphibole                      solution             3\n",
      "2     Cpx       Clinopyroxene                      solution             7\n",
      "3     Fsp            Feldspar                      solution             3\n",
      "4     Grt              Garnet                      solution             3\n",
      "5     Hbl          Hornblende                      solution             3\n",
      "6    KlsS        Kalsilite ss                      solution             4\n",
      "7    LctS             Leucite                      solution             3\n",
      "8     Mll            Melilite                      solution             4\n",
      "9    NphS        Feldspathoid                      solution             4\n",
      "10     Ol             Olivine                      solution             6\n",
      "11    Opx       Orthopyroxene                      solution             7\n",
      "12   OrOx          OrthoOxide                      solution             3\n",
      "13    Oam       Anthophyllite                      solution             3\n",
      "14   Rhom         Ilmenite ss                      solution             5\n",
      "15   SplS              Spinel                      solution             5\n",
      "16    Liq              Liquid                      solution            15\n",
      "17   MtlS         Solid Alloy                      solution             2\n",
      "18   MtlL        Liquid Alloy                      solution             2\n",
      "19    Aeg            Aegirine          NaFeSi2O6       pure             1\n",
      "20   Aeng         Aenigmatite     Na2Fe5TiSi6O20       pure             1\n",
      "21     Ak          Akermanite         Ca2MgSi2O7       pure             1\n",
      "22    And          Andalusite            Al2SiO5       pure             1\n",
      "23     Ap             Apatite        Ca5(PO4)3OH       pure             1\n",
      "24    Chr            Chromite            FeCr2O4       pure             1\n",
      "25    Coe             Coesite               SiO2       pure             1\n",
      "26    Crn            Corundum              Al2O3       pure             1\n",
      "27    Crs        Cristobalite               SiO2       pure             1\n",
      "28     Fa            Fayalite            Fe2SiO4       pure             1\n",
      "29     Fo          Forsterite            Mg2SiO4       pure             1\n",
      "30     Gh           Gehlenite         Ca2Al2SiO7       pure             1\n",
      "31    Hem            Hematite              Fe2O3       pure             1\n",
      "32    Ilm            Ilmenite             FeTiO3       pure             1\n",
      "33    Kls           Kalsilite            KAlSiO4       pure             1\n",
      "34     Ky             Kyanite            Al2SiO5       pure             1\n",
      "35     Lm                Lime                CaO       pure             1\n",
      "36    Mag           Magnetite              Fe3O4       pure             1\n",
      "37     Ms           Muscovite  KAl2Si3AlO10(OH)2       pure             1\n",
      "38    Nph           Nepheline           NaAlSiO4       pure             1\n",
      "39    Per           Periclase                MgO       pure             1\n",
      "40    Prv          Perovskite             CaTiO3       pure             1\n",
      "41    Phl          Phlogopite  KMg3AlSi3O10(OH)2       pure             1\n",
      "42     Qz              Quartz               SiO2       pure             1\n",
      "43     Rt              Rutile               TiO2       pure             1\n",
      "44     Sa            sanidine           KAlSi3O8       pure             1\n",
      "45    Sil         Sillimanite            Al2SiO5       pure             1\n",
      "46    Spn              Sphene           CaTiSiO5       pure             1\n",
      "47    Trd           Tridymite               SiO2       pure             1\n",
      "48    Wht         Whitlockite          Ca3(PO4)2       pure             1\n",
      "49     Ab              Albite          NaAlSi3O8       pure             1\n",
      "50    hAb         High_Albite          NaAlSi3O8       pure             1\n",
      "51    lAb          Low_Albite          NaAlSi3O8       pure             1\n",
      "52    Alm           Almandine       Si3Fe3Al2O12       pure             1\n",
      "53     An           Anorthite         Al2CaSi2O8       pure             1\n",
      "54    Ath       Anthophyllite        Mg7Si8O24H2       pure             1\n",
      "55    Atg          Antigorite  Mg48Si34O99H62O48       pure             1\n",
      "56    Brc             Brucite             MgO2H2       pure             1\n",
      "57   CaTs      Ca-Al_Pyroxene          CaAl2SiO6       pure             1\n",
      "58    Cal             Calcite              CaCO3       pure             1\n",
      "59    Ctl          Chrysotile         Mg3Si2O9H4       pure             1\n",
      "60    Clc         Clinochlore     Mg5Al2Si3O18H8       pure             1\n",
      "61    Crd          Cordierite       Mg2Al4Si5O18       pure             1\n",
      "62    Dsp            Diaspore              AlO2H       pure             1\n",
      "63     Di            Diopside          MgCaSi2O6       pure             1\n",
      "64    Dol            Dolomite           MgCaC2O6       pure             1\n",
      "65    cEn      Clinoenstatite             MgSiO3       pure             1\n",
      "66     En      Orthoenstatite             MgSiO3       pure             1\n",
      "67    pEn      Protoenstatite             MgSiO3       pure             1\n",
      "68     Fs         Ferrosilite             SiFeO3       pure             1\n",
      "69    Grs           Grossular       Ca3Al2Si3O12       pure             1\n",
      "70     Jd             Jadeite          NaAlSi2O6       pure             1\n",
      "71    Kln           Kaolinite         Al2Si2O9H4       pure             1\n",
      "72    Lws           Lawsonite      CaAl2Si2O10H4       pure             1\n",
      "73    Mgs           Magnesite              MgCO3       pure             1\n",
      "74    Mei            Meionite      Ca4Al6Si6O27C       pure             1\n",
      "75     Mw           Merwinite         Ca3MgSi2O8       pure             1\n",
      "76    Mtc        Monticellite           CaMgSiO4       pure             1\n",
      "77     Pg          Paragonite      NaAl3Si3O12H2       pure             1\n",
      "78     Or  Potassium_Feldspar           KAlSi3O8       pure             1\n",
      "79     Mc          Microcline           KAlSi3O8       pure             1\n",
      "80    Prh            Prehnite     Ca2Al2Si3O12H2       pure             1\n",
      "81    Prp              Pyrope       Mg3Al2Si3O12       pure             1\n",
      "82    Prl        Pyrophyllite        Al2Si4O12H2       pure             1\n",
      "83    Spl        Mg_Al_Spinel            MgAl2O4       pure             1\n",
      "84    Tlc                Talc        Mg3Si4O12H2       pure             1\n",
      "85     Tr           Tremolite     Ca2Mg5Si8O24H2       pure             1\n",
      "86     Wo        Wollastonite             CaSiO3       pure             1\n",
      "87    pWo  Pseudowollastonite             CaSiO3       pure             1\n",
      "88     Zo             Zoisite      Ca2Al3Si3O13H       pure             1\n",
      "89    cZo        Clinozoisite      Ca2Al3Si3O13H       pure             1\n",
      "90     O2          Oxygen_Gas                 O2       pure             1\n",
      "91     S2          Sulfur_Gas                 S2       pure             1\n",
      "92     H2        Hydrogen_Gas                 H2       pure             1\n",
      "93    H2O               Water                H2O       pure             1\n"
     ]
    }
   ],
   "source": [
    "print(berman.phase_info.to_string())"
   ]
  },
  {
   "cell_type": "code",
   "execution_count": 6,
   "metadata": {},
   "outputs": [],
   "source": [
    "pg = berman.get_phase('Pg')"
   ]
  },
  {
   "cell_type": "code",
   "execution_count": 7,
   "metadata": {},
   "outputs": [
    {
     "data": {
      "text/plain": [
       "'Paragonite'"
      ]
     },
     "execution_count": 7,
     "metadata": {},
     "output_type": "execute_result"
    }
   ],
   "source": [
    "pg.phase_name"
   ]
  },
  {
   "cell_type": "code",
   "execution_count": null,
   "metadata": {},
   "outputs": [],
   "source": []
  },
  {
   "cell_type": "code",
   "execution_count": null,
   "metadata": {},
   "outputs": [],
   "source": []
  },
  {
   "cell_type": "markdown",
   "metadata": {},
   "source": [
    "Import the coder objects representing the aqueous species (created using the import_DEW.ipynb notebook)"
   ]
  },
  {
   "cell_type": "code",
   "execution_count": 3,
   "metadata": {},
   "outputs": [
    {
     "ename": "AttributeError",
     "evalue": "Can't get attribute 'cy_ACETIC_ACID_l_AQ_r__dew2019_g' on <module 'dew2019' (/Users/simonmatthews/.pyxbld/lib.macosx-10.9-x86_64-3.7/dew2019.cpython-37m-darwin.so)>",
     "output_type": "error",
     "traceback": [
      "\u001b[0;31m---------------------------------------------------------------------------\u001b[0m",
      "\u001b[0;31mAttributeError\u001b[0m                            Traceback (most recent call last)",
      "\u001b[0;32m<ipython-input-3-c936fb6f9abc>\u001b[0m in \u001b[0;36m<module>\u001b[0;34m\u001b[0m\n\u001b[1;32m      1\u001b[0m \u001b[0mload_coder_modules\u001b[0m\u001b[0;34m(\u001b[0m\u001b[0mworking_dir\u001b[0m\u001b[0;34m=\u001b[0m\u001b[0;34m'dew2019_coderfiles'\u001b[0m\u001b[0;34m)\u001b[0m\u001b[0;34m\u001b[0m\u001b[0;34m\u001b[0m\u001b[0m\n\u001b[1;32m      2\u001b[0m \u001b[0;32mwith\u001b[0m \u001b[0mopen\u001b[0m\u001b[0;34m(\u001b[0m\u001b[0;34m'DEW2019.pkl'\u001b[0m\u001b[0;34m,\u001b[0m\u001b[0;34m'rb'\u001b[0m\u001b[0;34m)\u001b[0m \u001b[0;32mas\u001b[0m \u001b[0mfile\u001b[0m\u001b[0;34m:\u001b[0m\u001b[0;34m\u001b[0m\u001b[0;34m\u001b[0m\u001b[0m\n\u001b[0;32m----> 3\u001b[0;31m     \u001b[0mdewdb\u001b[0m \u001b[0;34m=\u001b[0m \u001b[0mdill\u001b[0m\u001b[0;34m.\u001b[0m\u001b[0mload\u001b[0m\u001b[0;34m(\u001b[0m\u001b[0mfile\u001b[0m\u001b[0;34m)\u001b[0m\u001b[0;34m\u001b[0m\u001b[0;34m\u001b[0m\u001b[0m\n\u001b[0m\u001b[1;32m      4\u001b[0m     \u001b[0mfile\u001b[0m\u001b[0;34m.\u001b[0m\u001b[0mclose\u001b[0m\u001b[0;34m(\u001b[0m\u001b[0;34m)\u001b[0m\u001b[0;34m\u001b[0m\u001b[0;34m\u001b[0m\u001b[0m\n\u001b[1;32m      5\u001b[0m \u001b[0mprint\u001b[0m\u001b[0;34m(\u001b[0m\u001b[0;34m'Number of species = '\u001b[0m\u001b[0;34m+\u001b[0m\u001b[0mstr\u001b[0m\u001b[0;34m(\u001b[0m\u001b[0mlen\u001b[0m\u001b[0;34m(\u001b[0m\u001b[0mdewdb\u001b[0m\u001b[0;34m)\u001b[0m\u001b[0;34m)\u001b[0m\u001b[0;34m)\u001b[0m\u001b[0;34m\u001b[0m\u001b[0;34m\u001b[0m\u001b[0m\n",
      "\u001b[0;32m~/opt/anaconda3/lib/python3.7/site-packages/dill/_dill.py\u001b[0m in \u001b[0;36mload\u001b[0;34m(file, ignore, **kwds)\u001b[0m\n\u001b[1;32m    276\u001b[0m \u001b[0;32mdef\u001b[0m \u001b[0mload\u001b[0m\u001b[0;34m(\u001b[0m\u001b[0mfile\u001b[0m\u001b[0;34m,\u001b[0m \u001b[0mignore\u001b[0m\u001b[0;34m=\u001b[0m\u001b[0;32mNone\u001b[0m\u001b[0;34m,\u001b[0m \u001b[0;34m**\u001b[0m\u001b[0mkwds\u001b[0m\u001b[0;34m)\u001b[0m\u001b[0;34m:\u001b[0m\u001b[0;34m\u001b[0m\u001b[0;34m\u001b[0m\u001b[0m\n\u001b[1;32m    277\u001b[0m     \u001b[0;34m\"\"\"unpickle an object from a file\"\"\"\u001b[0m\u001b[0;34m\u001b[0m\u001b[0;34m\u001b[0m\u001b[0m\n\u001b[0;32m--> 278\u001b[0;31m     \u001b[0;32mreturn\u001b[0m \u001b[0mUnpickler\u001b[0m\u001b[0;34m(\u001b[0m\u001b[0mfile\u001b[0m\u001b[0;34m,\u001b[0m \u001b[0mignore\u001b[0m\u001b[0;34m=\u001b[0m\u001b[0mignore\u001b[0m\u001b[0;34m,\u001b[0m \u001b[0;34m**\u001b[0m\u001b[0mkwds\u001b[0m\u001b[0;34m)\u001b[0m\u001b[0;34m.\u001b[0m\u001b[0mload\u001b[0m\u001b[0;34m(\u001b[0m\u001b[0;34m)\u001b[0m\u001b[0;34m\u001b[0m\u001b[0;34m\u001b[0m\u001b[0m\n\u001b[0m\u001b[1;32m    279\u001b[0m \u001b[0;34m\u001b[0m\u001b[0m\n\u001b[1;32m    280\u001b[0m \u001b[0;32mdef\u001b[0m \u001b[0mloads\u001b[0m\u001b[0;34m(\u001b[0m\u001b[0mstr\u001b[0m\u001b[0;34m,\u001b[0m \u001b[0mignore\u001b[0m\u001b[0;34m=\u001b[0m\u001b[0;32mNone\u001b[0m\u001b[0;34m,\u001b[0m \u001b[0;34m**\u001b[0m\u001b[0mkwds\u001b[0m\u001b[0;34m)\u001b[0m\u001b[0;34m:\u001b[0m\u001b[0;34m\u001b[0m\u001b[0;34m\u001b[0m\u001b[0m\n",
      "\u001b[0;32m~/opt/anaconda3/lib/python3.7/site-packages/dill/_dill.py\u001b[0m in \u001b[0;36mload\u001b[0;34m(self)\u001b[0m\n\u001b[1;32m    479\u001b[0m \u001b[0;34m\u001b[0m\u001b[0m\n\u001b[1;32m    480\u001b[0m     \u001b[0;32mdef\u001b[0m \u001b[0mload\u001b[0m\u001b[0;34m(\u001b[0m\u001b[0mself\u001b[0m\u001b[0;34m)\u001b[0m\u001b[0;34m:\u001b[0m \u001b[0;31m#NOTE: if settings change, need to update attributes\u001b[0m\u001b[0;34m\u001b[0m\u001b[0;34m\u001b[0m\u001b[0m\n\u001b[0;32m--> 481\u001b[0;31m         \u001b[0mobj\u001b[0m \u001b[0;34m=\u001b[0m \u001b[0mStockUnpickler\u001b[0m\u001b[0;34m.\u001b[0m\u001b[0mload\u001b[0m\u001b[0;34m(\u001b[0m\u001b[0mself\u001b[0m\u001b[0;34m)\u001b[0m\u001b[0;34m\u001b[0m\u001b[0;34m\u001b[0m\u001b[0m\n\u001b[0m\u001b[1;32m    482\u001b[0m         \u001b[0;32mif\u001b[0m \u001b[0mtype\u001b[0m\u001b[0;34m(\u001b[0m\u001b[0mobj\u001b[0m\u001b[0;34m)\u001b[0m\u001b[0;34m.\u001b[0m\u001b[0m__module__\u001b[0m \u001b[0;34m==\u001b[0m \u001b[0mgetattr\u001b[0m\u001b[0;34m(\u001b[0m\u001b[0m_main_module\u001b[0m\u001b[0;34m,\u001b[0m \u001b[0;34m'__name__'\u001b[0m\u001b[0;34m,\u001b[0m \u001b[0;34m'__main__'\u001b[0m\u001b[0;34m)\u001b[0m\u001b[0;34m:\u001b[0m\u001b[0;34m\u001b[0m\u001b[0;34m\u001b[0m\u001b[0m\n\u001b[1;32m    483\u001b[0m             \u001b[0;32mif\u001b[0m \u001b[0;32mnot\u001b[0m \u001b[0mself\u001b[0m\u001b[0;34m.\u001b[0m\u001b[0m_ignore\u001b[0m\u001b[0;34m:\u001b[0m\u001b[0;34m\u001b[0m\u001b[0;34m\u001b[0m\u001b[0m\n",
      "\u001b[0;32m~/opt/anaconda3/lib/python3.7/site-packages/dill/_dill.py\u001b[0m in \u001b[0;36mfind_class\u001b[0;34m(self, module, name)\u001b[0m\n\u001b[1;32m    469\u001b[0m             \u001b[0;32mreturn\u001b[0m \u001b[0mtype\u001b[0m\u001b[0;34m(\u001b[0m\u001b[0;32mNone\u001b[0m\u001b[0;34m)\u001b[0m \u001b[0;31m#XXX: special case: NoneType missing\u001b[0m\u001b[0;34m\u001b[0m\u001b[0;34m\u001b[0m\u001b[0m\n\u001b[1;32m    470\u001b[0m         \u001b[0;32mif\u001b[0m \u001b[0mmodule\u001b[0m \u001b[0;34m==\u001b[0m \u001b[0;34m'dill.dill'\u001b[0m\u001b[0;34m:\u001b[0m \u001b[0mmodule\u001b[0m \u001b[0;34m=\u001b[0m \u001b[0;34m'dill._dill'\u001b[0m\u001b[0;34m\u001b[0m\u001b[0;34m\u001b[0m\u001b[0m\n\u001b[0;32m--> 471\u001b[0;31m         \u001b[0;32mreturn\u001b[0m \u001b[0mStockUnpickler\u001b[0m\u001b[0;34m.\u001b[0m\u001b[0mfind_class\u001b[0m\u001b[0;34m(\u001b[0m\u001b[0mself\u001b[0m\u001b[0;34m,\u001b[0m \u001b[0mmodule\u001b[0m\u001b[0;34m,\u001b[0m \u001b[0mname\u001b[0m\u001b[0;34m)\u001b[0m\u001b[0;34m\u001b[0m\u001b[0;34m\u001b[0m\u001b[0m\n\u001b[0m\u001b[1;32m    472\u001b[0m \u001b[0;34m\u001b[0m\u001b[0m\n\u001b[1;32m    473\u001b[0m     \u001b[0;32mdef\u001b[0m \u001b[0m__init__\u001b[0m\u001b[0;34m(\u001b[0m\u001b[0mself\u001b[0m\u001b[0;34m,\u001b[0m \u001b[0;34m*\u001b[0m\u001b[0margs\u001b[0m\u001b[0;34m,\u001b[0m \u001b[0;34m**\u001b[0m\u001b[0mkwds\u001b[0m\u001b[0;34m)\u001b[0m\u001b[0;34m:\u001b[0m\u001b[0;34m\u001b[0m\u001b[0;34m\u001b[0m\u001b[0m\n",
      "\u001b[0;31mAttributeError\u001b[0m: Can't get attribute 'cy_ACETIC_ACID_l_AQ_r__dew2019_g' on <module 'dew2019' (/Users/simonmatthews/.pyxbld/lib.macosx-10.9-x86_64-3.7/dew2019.cpython-37m-darwin.so)>"
     ]
    }
   ],
   "source": [
    "load_coder_modules(working_dir='dew2019_coderfiles')\n",
    "with open('DEW2019.pkl','rb') as file:\n",
    "    dewdb = dill.load(file)\n",
    "    file.close()\n",
    "print('Number of species = '+str(len(dewdb)))"
   ]
  },
  {
   "cell_type": "markdown",
   "metadata": {},
   "source": [
    "## Calculate speciation for a fluid with defined molalities\n",
    "The code can be used to calculate the speciation of a solution which is not in equilibrium with minerals"
   ]
  },
  {
   "cell_type": "markdown",
   "metadata": {},
   "source": [
    "## Calculate fluid composition and speciation for a fluid in equilibrium with a rock"
   ]
  },
  {
   "cell_type": "code",
   "execution_count": null,
   "metadata": {},
   "outputs": [],
   "source": []
  }
 ],
 "metadata": {
  "kernelspec": {
   "display_name": "Python 3",
   "language": "python",
   "name": "python3"
  },
  "language_info": {
   "codemirror_mode": {
    "name": "ipython",
    "version": 3
   },
   "file_extension": ".py",
   "mimetype": "text/x-python",
   "name": "python",
   "nbconvert_exporter": "python",
   "pygments_lexer": "ipython3",
   "version": "3.7.6"
  }
 },
 "nbformat": 4,
 "nbformat_minor": 4
}
