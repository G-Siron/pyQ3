{
 "cells": [
  {
   "cell_type": "markdown",
   "metadata": {},
   "source": [
    "# Demonstration of pyQ3 python wrapper for DEW-ENKI-EQ3 aqueous speciation calculations\n",
    "**Important: before running any calculations you must have a compiled set of DEW species objects. If you are running this on your own machine you should run the import_DEW.ipynb notebook before running this one.**\n",
    "\n",
    "First import the required packages:"
   ]
  },
  {
   "cell_type": "code",
   "execution_count": 25,
   "metadata": {},
   "outputs": [],
   "source": [
    "import numpy as np\n",
    "import matplotlib.pyplot as plt\n",
    "import pyQ3\n",
    "from thermoengine import model, phases, chem\n",
    "%run core.ipynb\n",
    "import dill"
   ]
  },
  {
   "cell_type": "markdown",
   "metadata": {},
   "source": [
    "## TO DO LIST:\n",
    "- Check that the default species align with all DATA0 files- i.e. that they don't change with pressure and temperature."
   ]
  },
  {
   "cell_type": "code",
   "execution_count": 6,
   "metadata": {},
   "outputs": [],
   "source": [
    "system = p.System(\n",
    "#                 elements=['O','H','Cl','Na','Si'],basis_species=['H2O','H+','CL-','NA+','SIO2(AQ)','O2'],\n",
    "#                   minerals=['Qz'],other_species=['OH-'],solid_solutions={}\n",
    "                )"
   ]
  },
  {
   "cell_type": "code",
   "execution_count": 19,
   "metadata": {},
   "outputs": [],
   "source": [
    "molalities = {'CL-':0.1,\n",
    "              'NA+':0.1,\n",
    "#               'FE+2':0.1,\n",
    "#               'SIO2(AQ)':0.5\n",
    "             }\n",
    "mineral_eq = {\n",
    "        'O2':'MAGNETITE',\n",
    "        'SIO2(AQ)':'QUARTZ',\n",
    "#         'MG+2':['OLIVINE(SS)','FORSTERITE'],\n",
    "        'FE+2':'FAYALITE'\n",
    "}\n",
    "solid_solutions = {\n",
    "#     'OLIVINE(SS)': {'FORSTERITE':0.9,\n",
    "#                     'FAYALITE':0.1}\n",
    "}"
   ]
  },
  {
   "cell_type": "code",
   "execution_count": 20,
   "metadata": {},
   "outputs": [
    {
     "name": "stdout",
     "output_type": "stream",
     "text": [
      "Need to check whether fO2 is being set by mineral equilibria!\n"
     ]
    }
   ],
   "source": [
    "fluid = p.Fluid(system, P=10000.0,T=500.0+273.15,molalities=molalities,mineral_eq=mineral_eq,solid_solutions=solid_solutions)"
   ]
  },
  {
   "cell_type": "code",
   "execution_count": 21,
   "metadata": {},
   "outputs": [
    {
     "data": {
      "image/png": "[encoded data removed]",
      "text/latex": [
       "$\\displaystyle 4.3898$"
      ],
      "text/plain": [
       "4.3898"
      ]
     },
     "execution_count": 21,
     "metadata": {},
     "output_type": "execute_result"
    }
   ],
   "source": [
    "fluid.pH"
   ]
  },
  {
   "cell_type": "code",
   "execution_count": 22,
   "metadata": {},
   "outputs": [
    {
     "data": {
      "text/html": [
       "<div>\n",
       "<style scoped>\n",
       "    .dataframe tbody tr th:only-of-type {\n",
       "        vertical-align: middle;\n",
       "    }\n",
       "\n",
       "    .dataframe tbody tr th {\n",
       "        vertical-align: top;\n",
       "    }\n",
       "\n",
       "    .dataframe thead th {\n",
       "        text-align: right;\n",
       "    }\n",
       "</style>\n",
       "<table border=\"1\" class=\"dataframe\">\n",
       "  <thead>\n",
       "    <tr style=\"text-align: right;\">\n",
       "      <th></th>\n",
       "      <th>species</th>\n",
       "      <th>molality</th>\n",
       "      <th>log_g</th>\n",
       "      <th>activity</th>\n",
       "    </tr>\n",
       "  </thead>\n",
       "  <tbody>\n",
       "    <tr>\n",
       "      <th>0</th>\n",
       "      <td>NA+</td>\n",
       "      <td>9.661448e-02</td>\n",
       "      <td>-0.1480</td>\n",
       "      <td>6.872000e-02</td>\n",
       "    </tr>\n",
       "    <tr>\n",
       "      <th>1</th>\n",
       "      <td>CL-</td>\n",
       "      <td>9.617588e-02</td>\n",
       "      <td>-0.1480</td>\n",
       "      <td>6.841000e-02</td>\n",
       "    </tr>\n",
       "    <tr>\n",
       "      <th>2</th>\n",
       "      <td>SIO2(AQ)</td>\n",
       "      <td>9.289664e-02</td>\n",
       "      <td>0.0000</td>\n",
       "      <td>9.290000e-02</td>\n",
       "    </tr>\n",
       "    <tr>\n",
       "      <th>3</th>\n",
       "      <td>SI2O4(AQ)</td>\n",
       "      <td>1.867922e-02</td>\n",
       "      <td>0.0000</td>\n",
       "      <td>1.868000e-02</td>\n",
       "    </tr>\n",
       "    <tr>\n",
       "      <th>4</th>\n",
       "      <td>H2(AQ)</td>\n",
       "      <td>1.042665e-02</td>\n",
       "      <td>0.0000</td>\n",
       "      <td>1.043000e-02</td>\n",
       "    </tr>\n",
       "    <tr>\n",
       "      <th>5</th>\n",
       "      <td>NACL(AQ)</td>\n",
       "      <td>3.343987e-03</td>\n",
       "      <td>0.0000</td>\n",
       "      <td>3.344000e-03</td>\n",
       "    </tr>\n",
       "    <tr>\n",
       "      <th>6</th>\n",
       "      <td>OH-</td>\n",
       "      <td>3.523360e-04</td>\n",
       "      <td>-0.1480</td>\n",
       "      <td>2.506000e-04</td>\n",
       "    </tr>\n",
       "    <tr>\n",
       "      <th>7</th>\n",
       "      <td>FECL2(AQ)</td>\n",
       "      <td>2.108419e-04</td>\n",
       "      <td>0.0000</td>\n",
       "      <td>2.108000e-04</td>\n",
       "    </tr>\n",
       "    <tr>\n",
       "      <th>8</th>\n",
       "      <td>HSIO3-</td>\n",
       "      <td>1.673734e-04</td>\n",
       "      <td>-0.1480</td>\n",
       "      <td>1.190000e-04</td>\n",
       "    </tr>\n",
       "    <tr>\n",
       "      <th>9</th>\n",
       "      <td>H+</td>\n",
       "      <td>5.729806e-05</td>\n",
       "      <td>-0.1480</td>\n",
       "      <td>4.076000e-05</td>\n",
       "    </tr>\n",
       "    <tr>\n",
       "      <th>10</th>\n",
       "      <td>HCL(AQ)</td>\n",
       "      <td>5.139849e-05</td>\n",
       "      <td>0.0000</td>\n",
       "      <td>5.140000e-05</td>\n",
       "    </tr>\n",
       "    <tr>\n",
       "      <th>11</th>\n",
       "      <td>NAOH(AQ)</td>\n",
       "      <td>4.152938e-05</td>\n",
       "      <td>0.0000</td>\n",
       "      <td>4.153000e-05</td>\n",
       "    </tr>\n",
       "    <tr>\n",
       "      <th>12</th>\n",
       "      <td>SI3O6(AQ)</td>\n",
       "      <td>7.507991e-06</td>\n",
       "      <td>0.0000</td>\n",
       "      <td>7.508000e-06</td>\n",
       "    </tr>\n",
       "    <tr>\n",
       "      <th>13</th>\n",
       "      <td>FECL+</td>\n",
       "      <td>7.048539e-06</td>\n",
       "      <td>-0.1480</td>\n",
       "      <td>5.014000e-06</td>\n",
       "    </tr>\n",
       "    <tr>\n",
       "      <th>14</th>\n",
       "      <td>FE+2</td>\n",
       "      <td>6.479543e-06</td>\n",
       "      <td>-0.5918</td>\n",
       "      <td>1.658000e-06</td>\n",
       "    </tr>\n",
       "    <tr>\n",
       "      <th>15</th>\n",
       "      <td>FE(OH)+</td>\n",
       "      <td>3.828836e-06</td>\n",
       "      <td>-0.1480</td>\n",
       "      <td>2.723000e-06</td>\n",
       "    </tr>\n",
       "    <tr>\n",
       "      <th>16</th>\n",
       "      <td>FEO(AQ)</td>\n",
       "      <td>3.370388e-07</td>\n",
       "      <td>0.0000</td>\n",
       "      <td>3.370000e-07</td>\n",
       "    </tr>\n",
       "    <tr>\n",
       "      <th>17</th>\n",
       "      <td>HFEO2-</td>\n",
       "      <td>2.666614e-08</td>\n",
       "      <td>-0.1480</td>\n",
       "      <td>1.897000e-08</td>\n",
       "    </tr>\n",
       "    <tr>\n",
       "      <th>18</th>\n",
       "      <td>FECL+2</td>\n",
       "      <td>4.998472e-14</td>\n",
       "      <td>-0.5918</td>\n",
       "      <td>1.279000e-14</td>\n",
       "    </tr>\n",
       "    <tr>\n",
       "      <th>19</th>\n",
       "      <td>FECL3(AQ)</td>\n",
       "      <td>2.108755e-16</td>\n",
       "      <td>0.0000</td>\n",
       "      <td>2.109000e-16</td>\n",
       "    </tr>\n",
       "    <tr>\n",
       "      <th>20</th>\n",
       "      <td>FE+3</td>\n",
       "      <td>4.914629e-17</td>\n",
       "      <td>-1.3316</td>\n",
       "      <td>2.290000e-18</td>\n",
       "    </tr>\n",
       "    <tr>\n",
       "      <th>21</th>\n",
       "      <td>FECL4-</td>\n",
       "      <td>3.803940e-21</td>\n",
       "      <td>-0.1480</td>\n",
       "      <td>2.706000e-21</td>\n",
       "    </tr>\n",
       "    <tr>\n",
       "      <th>22</th>\n",
       "      <td>O2(AQ)</td>\n",
       "      <td>4.033556e-27</td>\n",
       "      <td>0.0000</td>\n",
       "      <td>4.034000e-27</td>\n",
       "    </tr>\n",
       "  </tbody>\n",
       "</table>\n",
       "</div>"
      ],
      "text/plain": [
       "      species      molality   log_g      activity\n",
       "0         NA+  9.661448e-02 -0.1480  6.872000e-02\n",
       "1         CL-  9.617588e-02 -0.1480  6.841000e-02\n",
       "2    SIO2(AQ)  9.289664e-02  0.0000  9.290000e-02\n",
       "3   SI2O4(AQ)  1.867922e-02  0.0000  1.868000e-02\n",
       "4      H2(AQ)  1.042665e-02  0.0000  1.043000e-02\n",
       "5    NACL(AQ)  3.343987e-03  0.0000  3.344000e-03\n",
       "6         OH-  3.523360e-04 -0.1480  2.506000e-04\n",
       "7   FECL2(AQ)  2.108419e-04  0.0000  2.108000e-04\n",
       "8      HSIO3-  1.673734e-04 -0.1480  1.190000e-04\n",
       "9          H+  5.729806e-05 -0.1480  4.076000e-05\n",
       "10    HCL(AQ)  5.139849e-05  0.0000  5.140000e-05\n",
       "11   NAOH(AQ)  4.152938e-05  0.0000  4.153000e-05\n",
       "12  SI3O6(AQ)  7.507991e-06  0.0000  7.508000e-06\n",
       "13      FECL+  7.048539e-06 -0.1480  5.014000e-06\n",
       "14       FE+2  6.479543e-06 -0.5918  1.658000e-06\n",
       "15    FE(OH)+  3.828836e-06 -0.1480  2.723000e-06\n",
       "16    FEO(AQ)  3.370388e-07  0.0000  3.370000e-07\n",
       "17     HFEO2-  2.666614e-08 -0.1480  1.897000e-08\n",
       "18     FECL+2  4.998472e-14 -0.5918  1.279000e-14\n",
       "19  FECL3(AQ)  2.108755e-16  0.0000  2.109000e-16\n",
       "20       FE+3  4.914629e-17 -1.3316  2.290000e-18\n",
       "21     FECL4-  3.803940e-21 -0.1480  2.706000e-21\n",
       "22     O2(AQ)  4.033556e-27  0.0000  4.034000e-27"
      ]
     },
     "execution_count": 22,
     "metadata": {},
     "output_type": "execute_result"
    }
   ],
   "source": [
    "fluid.aqeuous_species"
   ]
  },
  {
   "cell_type": "code",
   "execution_count": 23,
   "metadata": {},
   "outputs": [
    {
     "data": {
      "image/png": "[encoded data removed]",
      "text/latex": [
       "$\\displaystyle -22.687$"
      ],
      "text/plain": [
       "-22.687"
      ]
     },
     "execution_count": 23,
     "metadata": {},
     "output_type": "execute_result"
    }
   ],
   "source": [
    "fluid.fO2"
   ]
  },
  {
   "cell_type": "code",
   "execution_count": 24,
   "metadata": {},
   "outputs": [
    {
     "data": {
      "text/html": [
       "<div>\n",
       "<style scoped>\n",
       "    .dataframe tbody tr th:only-of-type {\n",
       "        vertical-align: middle;\n",
       "    }\n",
       "\n",
       "    .dataframe tbody tr th {\n",
       "        vertical-align: top;\n",
       "    }\n",
       "\n",
       "    .dataframe thead th {\n",
       "        text-align: right;\n",
       "    }\n",
       "</style>\n",
       "<table border=\"1\" class=\"dataframe\">\n",
       "  <thead>\n",
       "    <tr style=\"text-align: right;\">\n",
       "      <th></th>\n",
       "      <th>mineral</th>\n",
       "      <th>log_q_k</th>\n",
       "      <th>aff</th>\n",
       "      <th>state</th>\n",
       "    </tr>\n",
       "  </thead>\n",
       "  <tbody>\n",
       "    <tr>\n",
       "      <th>0</th>\n",
       "      <td>MAGNETITE</td>\n",
       "      <td>0.000</td>\n",
       "      <td>0.000</td>\n",
       "      <td>satd</td>\n",
       "    </tr>\n",
       "    <tr>\n",
       "      <th>1</th>\n",
       "      <td>HEMATITE</td>\n",
       "      <td>-0.684</td>\n",
       "      <td>-2.420</td>\n",
       "      <td>NaN</td>\n",
       "    </tr>\n",
       "    <tr>\n",
       "      <th>2</th>\n",
       "      <td>FAYALITE</td>\n",
       "      <td>0.000</td>\n",
       "      <td>0.000</td>\n",
       "      <td>satd</td>\n",
       "    </tr>\n",
       "    <tr>\n",
       "      <th>3</th>\n",
       "      <td>FERROSILITE</td>\n",
       "      <td>-0.027</td>\n",
       "      <td>-0.096</td>\n",
       "      <td>satd</td>\n",
       "    </tr>\n",
       "    <tr>\n",
       "      <th>4</th>\n",
       "      <td>QUARTZ</td>\n",
       "      <td>0.000</td>\n",
       "      <td>0.000</td>\n",
       "      <td>satd</td>\n",
       "    </tr>\n",
       "    <tr>\n",
       "      <th>5</th>\n",
       "      <td>COESITE</td>\n",
       "      <td>-0.261</td>\n",
       "      <td>-0.925</td>\n",
       "      <td>NaN</td>\n",
       "    </tr>\n",
       "  </tbody>\n",
       "</table>\n",
       "</div>"
      ],
      "text/plain": [
       "       mineral  log_q_k    aff state\n",
       "0    MAGNETITE    0.000  0.000  satd\n",
       "1     HEMATITE   -0.684 -2.420   NaN\n",
       "2     FAYALITE    0.000  0.000  satd\n",
       "3  FERROSILITE   -0.027 -0.096  satd\n",
       "4       QUARTZ    0.000  0.000  satd\n",
       "5      COESITE   -0.261 -0.925   NaN"
      ]
     },
     "execution_count": 24,
     "metadata": {},
     "output_type": "execute_result"
    }
   ],
   "source": [
    "fluid.mineral_saturation"
   ]
  },
  {
   "cell_type": "code",
   "execution_count": 3,
   "metadata": {},
   "outputs": [],
   "source": [
    "system.make_data0(500.0+273.15,5000.0)"
   ]
  },
  {
   "cell_type": "markdown",
   "metadata": {},
   "source": [
    "## Calculate speciation for a fluid with defined molalities\n",
    "The code can be used to calculate the speciation of a solution which is not in equilibrium with minerals"
   ]
  },
  {
   "cell_type": "markdown",
   "metadata": {},
   "source": [
    "## Calculate fluid composition and speciation for a fluid in equilibrium with a rock"
   ]
  },
  {
   "cell_type": "code",
   "execution_count": null,
   "metadata": {},
   "outputs": [],
   "source": []
  }
 ],
 "metadata": {
  "kernelspec": {
   "display_name": "Python 3",
   "language": "python",
   "name": "python3"
  },
  "language_info": {
   "codemirror_mode": {
    "name": "ipython",
    "version": 3
   },
   "file_extension": ".py",
   "mimetype": "text/x-python",
   "name": "python",
   "nbconvert_exporter": "python",
   "pygments_lexer": "ipython3",
   "version": "3.7.6"
  }
 },
 "nbformat": 4,
 "nbformat_minor": 4
}
