{
 "cells": [
  {
   "cell_type": "markdown",
   "metadata": {},
   "source": [
    "# Revised HKF - Standard State - with correlation functions\n",
    "\n",
    "**This notebook develops code for the revised HKF (Helgeson-Kirkham-Flowers) formalism for the thermodynamic properties of aqueous species, modified to use predictive correlations.**\n",
    "\n",
    "The derivation (implemented by Mark) follows that in Appendix B of  \n",
    "\n",
    "Shock EL, Oelkers EH, Johnson JW, Sverjensky DA, Helgeson HC (1992) Calculation of the thermodynamic properties of aqueous species at high pressures and temperatures. Journal of the Chemical Society Faraday Transactions, 88(6), 803-826  \n",
    "\n",
    "and in  \n",
    "\n",
    "Tanger JC, Helgeson HC (1988) Calculation of the thermodynamic and transport properties of aqueous species at high pressures and temperatures: Revised equations of state for the standard partial molal properties if ions and electrolytes. American Journal of Science, 288, 19-98\n",
    "\n",
    "This was then extended by Simon Matthews to allow direct use of the correlations to predict $a_n$ and $c_n$ parameters, following the derivation reviewed in\n",
    "\n",
    "Sverjensky, D. A. (2019). Thermodynamic modelling of fluids from surficial to mantle conditions. Journal of the Geological Society, 176(2), 348-374.\n",
    "\n",
    "Required system packages and initialization  "
   ]
  },
  {
   "cell_type": "code",
   "execution_count": 1,
   "metadata": {},
   "outputs": [],
   "source": [
    "import pandas as pd\n",
    "import numpy as np\n",
    "import sympy as sym\n",
    "sym.init_printing()\n",
    "from importlib import reload\n",
    "import matplotlib.pyplot as plt\n",
    "%matplotlib inline"
   ]
  },
  {
   "cell_type": "markdown",
   "metadata": {},
   "source": [
    "Import the coder module and retrieve sympy extensions for the Born functions and for the Shock et al., (1992) \"*g*\" function:"
   ]
  },
  {
   "cell_type": "code",
   "execution_count": 2,
   "metadata": {},
   "outputs": [],
   "source": [
    "from thermoengine import coder\n",
    "from thermoengine.coder import B, Q, Y, U, N, X, dUdT, dUdP, dNdT, dNdP, dXdT, gSolvent"
   ]
  },
  {
   "cell_type": "markdown",
   "metadata": {},
   "source": [
    "Create a standard state model instance ..."
   ]
  },
  {
   "cell_type": "code",
   "execution_count": 3,
   "metadata": {},
   "outputs": [],
   "source": [
    "model = coder.StdStateModel()"
   ]
  },
  {
   "cell_type": "markdown",
   "metadata": {},
   "source": [
    "... and retrieve sympy symbols for standard variables."
   ]
  },
  {
   "cell_type": "code",
   "execution_count": 4,
   "metadata": {},
   "outputs": [],
   "source": [
    "T = model.get_symbol_for_t()\n",
    "P = model.get_symbol_for_p()\n",
    "Tr = model.get_symbol_for_tr()\n",
    "Pr = model.get_symbol_for_pr()"
   ]
  },
  {
   "cell_type": "markdown",
   "metadata": {},
   "source": [
    "## Equation of State (EOS)\n",
    "\n",
    "Shock et al., 1992, eqn. B10:   \n",
    "\n",
    "${\\bar v^o} = {a_1} + \\frac{{{a_2}}}{{\\Psi  + P}} + \\left( {{a_3} + \\frac{{{a_4}}}{{\\Psi  + P}}} \\right)\\frac{1}{{T - \\theta }} - \\omega Q - \\left( {B + 1} \\right){\\left( {\\frac{{\\partial \\omega }}{{\\partial P}}} \\right)_T}$  \n",
    "\n",
    "$\\Psi$ has a value of 2600 bars as determined by Tanger and Helgeson (1988)  \n",
    "$\\theta$ has a value of 228 K as determined by Helgeson and Kirkham (1976)  \n",
    "\n",
    "$\\omega$ is defined in terms of the charge on the ion (*z*) and a mysterious function, *g*, as derived by Shock et al. (1992),building on the work of Tanger and Helgeson (1988):  \n",
    "\n",
    "$\\omega  = \\eta z\\left( {\\frac{z}{{{r_{e,ref}} + \\left| z \\right|g}} - \\frac{1}{{{r_{e,{H^ + }}} + g}}} \\right)$  \n",
    "\n",
    "where $\\eta$ is a conversion constant.  The reference ionic radius is:\n",
    "\n",
    "${r_{e,ref}} = \\frac{{{z^2}}}{{\\frac{{{\\omega _{ref}}}}{\\eta } + \\frac{z}{{{r_{e,{H^ + }}}}}}}$   \n",
    "\n",
    "which when inserted into the definition becomes  \n",
    "\n",
    "$\\omega  = \\left( {\\frac{{{\\omega _{ref}} + \\frac{{z\\eta }}{{{r_{e,{H^ + }}}}}}}{{1 + \\frac{{\\sqrt {{z^2}} }}{{{z^2}}}g\\left( {\\frac{{{\\omega _{ref}}}}{\\eta } + \\frac{z}{{{r_{e,{H^ + }}}}}} \\right)}} - \\frac{{\\eta z}}{{{r_{e,{H^ + }}} + g}}} \\right)$  \n",
    "\n",
    "The above expression is cast into a slightly different form than the one provided by Shock et al. (1992), but is otherwise identical. This form is applicable to both charged and neutral species, as demonstrated below."
   ]
  },
  {
   "cell_type": "code",
   "execution_count": 5,
   "metadata": {},
   "outputs": [],
   "source": [
    "eta, rH, omega0, z = sym.symbols('eta rH omega0 z', real=True)"
   ]
  },
  {
   "cell_type": "code",
   "execution_count": 6,
   "metadata": {},
   "outputs": [
    {
     "data": {
      "text/latex": [
       "$\\displaystyle \\begin{cases} \\omega_{0} & \\text{for}\\: z = 0 \\\\- \\frac{\\eta z}{rH + \\operatorname{gSolvent}{\\left(T,P \\right)}} + \\frac{\\frac{\\eta z}{rH} + \\omega_{0}}{1 + \\frac{\\left(\\frac{z}{rH} + \\frac{\\omega_{0}}{\\eta}\\right) \\left|{z}\\right| \\operatorname{gSolvent}{\\left(T,P \\right)}}{z^{2}}} & \\text{otherwise} \\end{cases}$"
      ],
      "text/plain": [
       "⎧                           ω₀                             for z = 0\n",
       "⎪                                                                   \n",
       "⎪                                    η⋅z                            \n",
       "⎪                                    ─── + ω₀                       \n",
       "⎪          η⋅z                        rH                            \n",
       "⎪- ─────────────────── + ────────────────────────────────  otherwise\n",
       "⎨  rH + gSolvent(T, P)       ⎛z    ω₀⎞                              \n",
       "⎪                            ⎜── + ──⎟⋅│z│⋅gSolvent(T, P)           \n",
       "⎪                            ⎝rH   η ⎠                              \n",
       "⎪                        1 + ────────────────────────────           \n",
       "⎪                                          2                        \n",
       "⎪                                         z                         \n",
       "⎩                                                                   "
      ]
     },
     "execution_count": 6,
     "metadata": {},
     "output_type": "execute_result"
    }
   ],
   "source": [
    "omega_def = sym.Piecewise((omega0, sym.Eq(z,0)), \\\n",
    "            ((omega0 + z*eta/rH)/(1 + sym.Abs(z)*gSolvent(T,P)*(omega0/eta + z/rH)/z**2) - eta*z/(rH + gSolvent(T,P)), True))\n",
    "omega_def"
   ]
  },
  {
   "cell_type": "markdown",
   "metadata": {},
   "source": [
    "Hence, ${\\bar v^o} = {a_1} + \\frac{{{a_2}}}{{\\Psi  + P}} + \\left( {{a_3} + \\frac{{{a_4}}}{{\\Psi  + P}}} \\right)\\frac{1}{{T - \\theta }} - \\omega Q - \\left( {B + 1} \\right){\\left( {\\frac{{\\partial \\omega }}{{\\partial P}}} \\right)_T}$ is"
   ]
  },
  {
   "cell_type": "code",
   "execution_count": 7,
   "metadata": {},
   "outputs": [],
   "source": [
    "a1,a2,a3,a4 = sym.symbols('a1 a2 a3 a4')\n",
    "Psi,theta = sym.symbols('Psi theta')\n",
    "omega = sym.Function('omega')(T,P)"
   ]
  },
  {
   "cell_type": "code",
   "execution_count": 8,
   "metadata": {},
   "outputs": [
    {
     "data": {
      "image/png": "[encoded data removed]",
      "text/latex": [
       "$\\displaystyle a_{1} + \\frac{a_{2}}{P + \\Psi} - \\left(B{\\left(T,P \\right)} + 1\\right) \\frac{\\partial}{\\partial P} \\omega{\\left(T,P \\right)} - \\omega{\\left(T,P \\right)} Q{\\left(T,P \\right)} + \\frac{a_{3} + \\frac{a_{4}}{P + \\Psi}}{T - \\theta}$"
      ],
      "text/plain": [
       "                                                                  a₄ \n",
       "                                                           a₃ + ─────\n",
       "       a₂                  ∂                                    P + Ψ\n",
       "a₁ + ───── - (B(T, P) + 1)⋅──(ω(T, P)) - ω(T, P)⋅Q(T, P) + ──────────\n",
       "     P + Ψ                 ∂P                                T - θ   "
      ]
     },
     "execution_count": 8,
     "metadata": {},
     "output_type": "execute_result"
    }
   ],
   "source": [
    "vtp = a1 + a2/(Psi+P) + (a3 + a4/(Psi+P))/(T-theta) - omega*Q(T,P) - (B(T,P)+1)*omega.diff(P)\n",
    "vtp"
   ]
  },
  {
   "cell_type": "markdown",
   "metadata": {},
   "source": [
    "Note that the derivative of $ - \\left[ {\\left( {{B_{T,P}} + 1} \\right){\\omega _{T,P}} - \\left( {{B_{T,{P_r}}} + 1} \\right){\\omega _{T,{P_r}}}} \\right]$"
   ]
  },
  {
   "cell_type": "code",
   "execution_count": 9,
   "metadata": {},
   "outputs": [
    {
     "data": {
      "image/png": "[encoded data removed]",
      "text/latex": [
       "$\\displaystyle \\left(- B{\\left(T,P \\right)} - 1\\right) \\omega{\\left(T,P \\right)} + \\left(B{\\left(T,P_{r} \\right)} + 1\\right) \\omega{\\left(T,P_{r} \\right)}$"
      ],
      "text/plain": [
       "(-B(T, P) - 1)⋅ω(T, P) + (B(T, Pᵣ) + 1)⋅ω(T, Pᵣ)"
      ]
     },
     "execution_count": 9,
     "metadata": {},
     "output_type": "execute_result"
    }
   ],
   "source": [
    "-(1+B(T,P))*omega + (1+B(T,Pr))*(omega.subs(P,Pr))"
   ]
  },
  {
   "cell_type": "markdown",
   "metadata": {},
   "source": [
    "is"
   ]
  },
  {
   "cell_type": "code",
   "execution_count": 10,
   "metadata": {},
   "outputs": [
    {
     "data": {
      "image/png": "[encoded data removed]",
      "text/latex": [
       "$\\displaystyle \\left(- B{\\left(T,P \\right)} - 1\\right) \\frac{\\partial}{\\partial P} \\omega{\\left(T,P \\right)} - \\omega{\\left(T,P \\right)} Q{\\left(T,P \\right)}$"
      ],
      "text/plain": [
       "               ∂                            \n",
       "(-B(T, P) - 1)⋅──(ω(T, P)) - ω(T, P)⋅Q(T, P)\n",
       "               ∂P                           "
      ]
     },
     "execution_count": 10,
     "metadata": {},
     "output_type": "execute_result"
    }
   ],
   "source": [
    "(-(1+B(T,P))*omega + (1+B(T,Pr))*(omega.subs(P,Pr))).diff(P)"
   ]
  },
  {
   "cell_type": "markdown",
   "metadata": {},
   "source": [
    "So that $\\int_{{P_r}}^P {{{\\bar v}^o}} dP$ may be written:"
   ]
  },
  {
   "cell_type": "code",
   "execution_count": 11,
   "metadata": {},
   "outputs": [
    {
     "data": {
      "image/png": "[encoded data removed]",
      "text/latex": [
       "$\\displaystyle \\frac{P \\left(T a_{1} - a_{1} \\theta + a_{3}\\right)}{T - \\theta} - \\frac{P_{r} \\left(T a_{1} - a_{1} \\theta + a_{3}\\right)}{T - \\theta} - \\left(B{\\left(T,P \\right)} + 1\\right) \\omega{\\left(T,P \\right)} + \\left(B{\\left(T,P_{r} \\right)} + 1\\right) \\omega{\\left(T,P_{r} \\right)} + \\frac{\\left(T a_{2} - a_{2} \\theta + a_{4}\\right) \\log{\\left(P + \\Psi \\right)}}{T - \\theta} - \\frac{\\left(T a_{2} - a_{2} \\theta + a_{4}\\right) \\log{\\left(P_{r} + \\Psi \\right)}}{T - \\theta}$"
      ],
      "text/plain": [
       "P⋅(T⋅a₁ - a₁⋅θ + a₃)   Pᵣ⋅(T⋅a₁ - a₁⋅θ + a₃)                                  \n",
       "──────────────────── - ───────────────────── - (B(T, P) + 1)⋅ω(T, P) + (B(T, P\n",
       "       T - θ                   T - θ                                          \n",
       "\n",
       "                   (T⋅a₂ - a₂⋅θ + a₄)⋅log(P + Ψ)   (T⋅a₂ - a₂⋅θ + a₄)⋅log(Pᵣ +\n",
       "ᵣ) + 1)⋅ω(T, Pᵣ) + ───────────────────────────── - ───────────────────────────\n",
       "                               T - θ                           T - θ          \n",
       "\n",
       " Ψ)\n",
       "───\n",
       "   "
      ]
     },
     "execution_count": 11,
     "metadata": {},
     "output_type": "execute_result"
    }
   ],
   "source": [
    "deltaG = sym.integrate(a1 + a2/(Psi+P) + (a3 + a4/(Psi+P))/(T-theta), (P,Pr,P)) - (1+B(T,P))*omega + (1+B(T,Pr))*omega.subs(P,Pr)\n",
    "deltaG"
   ]
  },
  {
   "cell_type": "markdown",
   "metadata": {},
   "source": [
    "The second derivative of this volume integral gives the contribution to the heat capacity, i.e. $\\frac{{{\\partial ^2}G}}{{\\partial {T^2}}} =  - \\frac{{\\partial S}}{{\\partial T}} =  - \\frac{{{C_P}}}{T}$ so that  \n",
    "\n",
    "${{\\bar c}_P}\\left( {T,P} \\right) - {{\\bar c}_P}\\left( {T,{P_r}} \\right) =  - T\\frac{{{\\partial ^2}\\int_{{P_r}}^P {{{\\bar v}^o}} dP}}{{\\partial {T^2}}}$"
   ]
  },
  {
   "cell_type": "code",
   "execution_count": 12,
   "metadata": {},
   "outputs": [
    {
     "data": {
      "image/png": "[encoded data removed]",
      "text/latex": [
       "$\\displaystyle - T \\left(- \\frac{2 P a_{1}}{\\left(T - \\theta\\right)^{2}} + \\frac{2 P \\left(T a_{1} - a_{1} \\theta + a_{3}\\right)}{\\left(T - \\theta\\right)^{3}} + \\frac{2 P_{r} a_{1}}{\\left(T - \\theta\\right)^{2}} - \\frac{2 P_{r} \\left(T a_{1} - a_{1} \\theta + a_{3}\\right)}{\\left(T - \\theta\\right)^{3}} - \\frac{2 a_{2} \\log{\\left(P + \\Psi \\right)}}{\\left(T - \\theta\\right)^{2}} + \\frac{2 a_{2} \\log{\\left(P_{r} + \\Psi \\right)}}{\\left(T - \\theta\\right)^{2}} - \\left(B{\\left(T,P \\right)} + 1\\right) \\frac{\\partial^{2}}{\\partial T^{2}} \\omega{\\left(T,P \\right)} + \\left(B{\\left(T,P_{r} \\right)} + 1\\right) \\frac{\\partial^{2}}{\\partial T^{2}} \\omega{\\left(T,P_{r} \\right)} - \\omega{\\left(T,P \\right)} X{\\left(T,P \\right)} + \\omega{\\left(T,P_{r} \\right)} X{\\left(T,P_{r} \\right)} - 2 Y{\\left(T,P \\right)} \\frac{\\partial}{\\partial T} \\omega{\\left(T,P \\right)} + 2 Y{\\left(T,P_{r} \\right)} \\frac{\\partial}{\\partial T} \\omega{\\left(T,P_{r} \\right)} + \\frac{2 \\left(T a_{2} - a_{2} \\theta + a_{4}\\right) \\log{\\left(P + \\Psi \\right)}}{\\left(T - \\theta\\right)^{3}} - \\frac{2 \\left(T a_{2} - a_{2} \\theta + a_{4}\\right) \\log{\\left(P_{r} + \\Psi \\right)}}{\\left(T - \\theta\\right)^{3}}\\right)$"
      ],
      "text/plain": [
       "   ⎛                                                                          \n",
       "   ⎜   2⋅P⋅a₁    2⋅P⋅(T⋅a₁ - a₁⋅θ + a₃)   2⋅Pᵣ⋅a₁    2⋅Pᵣ⋅(T⋅a₁ - a₁⋅θ + a₃)  \n",
       "-T⋅⎜- ──────── + ────────────────────── + ──────── - ─────────────────────── -\n",
       "   ⎜         2                 3                 2                  3         \n",
       "   ⎝  (T - θ)           (T - θ)           (T - θ)            (T - θ)          \n",
       "\n",
       "                                                      2                       \n",
       " 2⋅a₂⋅log(P + Ψ)   2⋅a₂⋅log(Pᵣ + Ψ)                  ∂                        \n",
       " ─────────────── + ──────────────── - (B(T, P) + 1)⋅───(ω(T, P)) + (B(T, Pᵣ) +\n",
       "            2                 2                       2                       \n",
       "     (T - θ)           (T - θ)                      ∂T                        \n",
       "\n",
       "      2                                                                       \n",
       "     ∂                                                              ∂         \n",
       " 1)⋅───(ω(T, Pᵣ)) - ω(T, P)⋅X(T, P) + ω(T, Pᵣ)⋅X(T, Pᵣ) - 2⋅Y(T, P)⋅──(ω(T, P)\n",
       "      2                                                             ∂T        \n",
       "    ∂T                                                                        \n",
       "\n",
       "                                                                              \n",
       "               ∂              2⋅(T⋅a₂ - a₂⋅θ + a₄)⋅log(P + Ψ)   2⋅(T⋅a₂ - a₂⋅θ\n",
       ") + 2⋅Y(T, Pᵣ)⋅──(ω(T, Pᵣ)) + ─────────────────────────────── - ──────────────\n",
       "               ∂T                                3                            \n",
       "                                          (T - θ)                           (T\n",
       "\n",
       "                  ⎞\n",
       " + a₄)⋅log(Pᵣ + Ψ)⎟\n",
       "──────────────────⎟\n",
       "     3            ⎟\n",
       " - θ)             ⎠"
      ]
     },
     "execution_count": 12,
     "metadata": {},
     "output_type": "execute_result"
    }
   ],
   "source": [
    "-T*deltaG.diff(T,2)"
   ]
  },
  {
   "cell_type": "markdown",
   "metadata": {},
   "source": [
    "## Heat Capacity functions\n",
    "Heat capacity is parameterized as (Tanger and Helgeson, 1988, eq A-4, p 78):\n",
    "\n",
    "${{\\bar c}_P} = {c_1} + \\frac{{{c_2}}}{{{{\\left( {T - \\theta } \\right)}^2}}} - \\left[ {\\frac{{2T}}{{{{\\left( {T - \\theta } \\right)}^3}}}} \\right]\\left[ {{a_3}\\left( {P - {P_r}} \\right) + {a_4}\\ln \\left( {\\frac{{\\Psi  + P}}{{\\Psi  + {P_r}}}} \\right)} \\right] + \\omega TX + 2TY\\frac{{\\partial \\omega }}{{\\partial T}} - T\\left( {\\frac{1}{\\varepsilon } - 1} \\right)\\frac{{{\\partial ^2}\\omega }}{{\\partial {T^2}}}$  \n",
    "\n",
    "or equivalently, as the Born function is defined as $B =  - \\frac{1}{\\varepsilon }$  \n",
    "\n",
    "${{\\bar c}_P} = {c_1} + \\frac{{{c_2}}}{{{{\\left( {T - \\theta } \\right)}^2}}} - \\left[ {\\frac{{2T}}{{{{\\left( {T - \\theta } \\right)}^3}}}} \\right]\\left[ {{a_3}\\left( {P - {P_r}} \\right) + {a_4}\\ln \\left( {\\frac{{\\Psi  + P}}{{\\Psi  + {P_r}}}} \\right)} \\right] + \\omega TX + 2TY\\frac{{\\partial \\omega }}{{\\partial T}} + T\\left( {B + 1} \\right)\\frac{{{\\partial ^2}\\omega }}{{\\partial {T^2}}}$  \n",
    "\n",
    "at the reference pressure this expression becomes  \n",
    "\n",
    "${\\bar c_{{P_r}}} = {c_1} + \\frac{{{c_2}}}{{{{\\left( {T - \\theta } \\right)}^2}}} + {\\omega _{{P_r}}}T{X_{T,{P_r}}} + 2T{Y_{T,{P_r}}}{\\left. {\\frac{{\\partial \\omega }}{{\\partial T}}} \\right|_{T,{P_r}}} + T\\left( {{B_{T,{P_r}}} + 1} \\right){\\left. {\\frac{{{\\partial ^2}\\omega }}{{\\partial {T^2}}}} \\right|_{T,{P_r}}}$  \n",
    "\n",
    "Note that the \"Born\" function terms are the equivalent of $T{\\left. {\\frac{{{\\partial ^2}\\left( {B + 1} \\right)\\omega }}{{\\partial {T^2}}}} \\right|_{T,{P_r}}}$, so that the reference pressure heat capacity can be equivalently written:  \n",
    "\n",
    "${{\\bar c}_{{P_r}}} = {c_1} + \\frac{{{c_2}}}{{{{\\left( {T - \\theta } \\right)}^2}}} + T{\\left. {\\frac{{{\\partial ^2}\\left( {B + 1} \\right)\\omega }}{{\\partial {T^2}}}} \\right|_{T,{P_r}}}$\n",
    "\n",
    "as demonstrated here:"
   ]
  },
  {
   "cell_type": "code",
   "execution_count": 13,
   "metadata": {},
   "outputs": [
    {
     "data": {
      "image/png": "[encoded data removed]",
      "text/latex": [
       "$\\displaystyle T \\left(\\left(B{\\left(T,P_{r} \\right)} + 1\\right) \\frac{\\partial^{2}}{\\partial T^{2}} \\omega{\\left(T,P_{r} \\right)} + \\omega{\\left(T,P_{r} \\right)} X{\\left(T,P_{r} \\right)} + 2 Y{\\left(T,P_{r} \\right)} \\frac{\\partial}{\\partial T} \\omega{\\left(T,P_{r} \\right)}\\right) + c_{1} + \\frac{c_{2}}{\\left(T - \\theta\\right)^{2}}$"
      ],
      "text/plain": [
       "  ⎛                 2                                                        ⎞\n",
       "  ⎜                ∂                                             ∂           ⎟\n",
       "T⋅⎜(B(T, Pᵣ) + 1)⋅───(ω(T, Pᵣ)) + ω(T, Pᵣ)⋅X(T, Pᵣ) + 2⋅Y(T, Pᵣ)⋅──(ω(T, Pᵣ))⎟\n",
       "  ⎜                 2                                            ∂T          ⎟\n",
       "  ⎝               ∂T                                                         ⎠\n",
       "\n",
       "                \n",
       "           c₂   \n",
       " + c₁ + ────────\n",
       "               2\n",
       "        (T - θ) "
      ]
     },
     "execution_count": 13,
     "metadata": {},
     "output_type": "execute_result"
    }
   ],
   "source": [
    "c1,c2 = sym.symbols('c1 c2')\n",
    "ctpr = c1 + c2/(T-theta)**2 + (T*((B(T,P)+1)*omega).diff(T,2)).subs(P,Pr)\n",
    "ctpr"
   ]
  },
  {
   "cell_type": "markdown",
   "metadata": {},
   "source": [
    "## Gibbs free energy\n",
    "The above analysis gives a way to write the Gibbs free energy using the identity $dG =  - SdT + VdP$, from which:  \n",
    "\n",
    "${G_{T,P}} = {G_{{T_r},{P_r}}} - \\int_{{T_r}}^T {{S_{T,{P_r}}}dT}  + \\int_{{P_r}}^P {{V_{T,P}}dP}$  \n",
    "\n",
    "The entropy term is given by  \n",
    "\n",
    "${S_{T,{P_r}}} = {S_{{T_r},{P_r}}} + \\int_{{T_r}}^T {\\frac{{{{\\bar c}_{T,{P_r}}}}}{T}dT}$  \n",
    "\n",
    "Combining expressions  \n",
    "\n",
    "${G_{T,P}} = {G_{{T_r},{P_r}}} - {S_{{T_r},{P_r}}}\\left( {T - {T_r}} \\right) - \\int_{{T_r}}^T {\\int_{{T_r}}^T {\\frac{{{{\\bar c}_{T,{P_r}}}}}{T}dT} dT}  + \\int_{{P_r}}^P {{V_{T,P}}dP}$  \n",
    "\n",
    "Now, using the above expression for the reference pressure heat capacity we can write  \n",
    "\n",
    "${G_{T,P}} = {G_{{T_r},{P_r}}} - {S_{{T_r},{P_r}}}\\left( {T - {T_r}} \\right) - \\int_{{T_r}}^T {\\int_{{T_r}}^T {\\frac{{\\left( {{c_1} + \\frac{{{c_2}}}{{{{\\left( {T - \\theta } \\right)}^2}}} + T{{\\left. {\\frac{{{\\partial ^2}\\left( {B + 1} \\right)\\omega }}{{\\partial {T^2}}}} \\right|}_{T,{P_r}}}} \\right)}}{T}dT} dT}  + \\int_{{P_r}}^P {{V_{T,P}}dP}$  \n",
    "\n",
    "or  \n",
    "\n",
    "${G_{T,P}} = {G_{{T_r},{P_r}}} - {S_{{T_r},{P_r}}}\\left( {T - {T_r}} \\right) - \\int_{{T_r}}^T {\\int_{{T_r}}^T {\\left[ {\\frac{{{c_1}}}{T} + \\frac{{{c_2}}}{{T{{\\left( {T - \\theta } \\right)}^2}}} + {{\\left. {\\frac{{{\\partial ^2}\\left( {B + 1} \\right)\\omega }}{{\\partial {T^2}}}} \\right|}_{T,{P_r}}}} \\right]dT} dT}  + \\int_{{P_r}}^P {{V_{T,P}}dP}$  \n",
    "\n",
    "which expands to  \n",
    "\n",
    "${G_{T,P}} = {G_{{T_r},{P_r}}} - {S_{{T_r},{P_r}}}\\left( {T - {T_r}} \\right) - \\int_{{T_r}}^T {\\int_{{T_r}}^T {\\left[ {\\frac{{{c_1}}}{T} + \\frac{{{c_2}}}{{T{{\\left( {T - \\theta } \\right)}^2}}}} \\right]dT} dT}  - \\int_{{T_r}}^T {\\int_{{T_r}}^T {{{\\left. {\\frac{{{\\partial ^2}\\left( {B + 1} \\right)\\omega }}{{\\partial {T^2}}}} \\right|}_{T,{P_r}}}dT} dT}  + \\int_{{P_r}}^P {{V_{T,P}}dP}$  \n",
    "\n",
    "Note that $\\int_{{T_r}}^T {\\int_{{T_r}}^T {{{\\left. {\\frac{{{\\partial ^2}\\left( {B + 1} \\right)\\omega }}{{\\partial {T^2}}}} \\right|}_{T,{P_r}}}dT} dT}$ evaluates to:  \n",
    "\n",
    "$\\int_{{T_r}}^T {\\int_{{T_r}}^T {{{\\left. {\\frac{{{\\partial ^2}\\left( {B + 1} \\right)\\omega }}{{\\partial {T^2}}}} \\right|}_{T,{P_r}}}dT} dT}  = \\int_{{T_r}}^T {\\left[ {{{\\left. {\\frac{{\\partial \\left( {B + 1} \\right)\\omega }}{{\\partial T}}} \\right|}_{T,{P_r}}} - {{\\left. {\\frac{{\\partial \\left( {B + 1} \\right)\\omega }}{{\\partial T}}} \\right|}_{{T_r},{P_r}}}} \\right]dT}$  \n",
    "\n",
    "and further to:  \n",
    "\n",
    "$\\int_{{T_r}}^T {\\int_{{T_r}}^T {{{\\left. {\\frac{{{\\partial ^2}\\left( {B + 1} \\right)\\omega }}{{\\partial {T^2}}}} \\right|}_{T,{P_r}}}dT} dT}  = \\left( {{B_{T,{P_r}}} + 1} \\right){\\omega _{T,P_r}} - \\left( {{B_{{T_r},{P_r}}} + 1} \\right){\\omega _{{T_r},{P_r}}} - {\\left. {\\frac{{\\partial \\left( {B + 1} \\right)\\omega }}{{\\partial T}}} \\right|_{{T_r},{P_r}}}\\left( {T - {T_r}} \\right)$  \n",
    "\n",
    "and still further to:  \n",
    "\n",
    "$\\int_{{T_r}}^T {\\int_{{T_r}}^T {{{\\left. {\\frac{{{\\partial ^2}\\left( {B + 1} \\right)\\omega }}{{\\partial {T^2}}}} \\right|}_{T,{P_r}}}dT} dT}  = \\left( {{B_{T,{P_r}}} + 1} \\right){\\omega _{T,{P_r}}} - \\left( {{B_{{T_r},{P_r}}} + 1} \\right){\\omega _{{T_r},{P_r}}} - {\\left. {\\frac{{\\partial B}}{{\\partial T}}} \\right|_{{T_r},{P_r}}}{\\omega _{{T_r},{P_r}}}\\left( {T - {T_r}} \\right) - {\\left. {\\left( {{B_{{T_r},{P_r}}} + 1} \\right)\\frac{{\\partial \\omega }}{{\\partial T}}} \\right|_{{T_r},{P_r}}}\\left( {T - {T_r}} \\right)$  \n",
    "\n",
    "recognizing that $Y = \\frac{{\\partial B}}{{\\partial T}}$, we have finally  \n",
    "\n",
    "$\\int_{{T_r}}^T {\\int_{{T_r}}^T {{{\\left. {\\frac{{{\\partial ^2}\\left( {B + 1} \\right)\\omega }}{{\\partial {T^2}}}} \\right|}_{T,{P_r}}}dT} dT}  = \\left( {{B_{T,{P_r}}} + 1} \\right){\\omega _{T,{P_r}}} - \\left( {{B_{{T_r},{P_r}}} + 1} \\right){\\omega _{{T_r},{P_r}}} - {Y_{{T_r},{P_r}}}\\left( {T - {T_r}} \\right){\\omega _{{T_r},{P_r}}} - {\\left. {\\left( {{B_{{T_r},{P_r}}} + 1} \\right)\\left( {T - {T_r}} \\right)\\frac{{\\partial \\omega }}{{\\partial T}}} \\right|_{{T_r},{P_r}}}$  \n",
    "\n",
    "Note that:  \n",
    "\n",
    "$ - \\int_{{T_r}}^T {\\int_{{T_r}}^T {{{\\left. {\\frac{{{\\partial ^2}\\left( {B + 1} \\right)\\omega }}{{\\partial {T^2}}}} \\right|}_{T,{P_r}}}dT} dT}  =  - \\left( {{B_{T,{P_r}}} + 1} \\right){\\omega _{T,{P_r}}} + \\left( {{B_{{T_r},{P_r}}} + 1} \\right){\\omega _{{T_r},{P_r}}} + {Y_{{T_r},{P_r}}}\\left( {T - {T_r}} \\right){\\omega _{{T_r},{P_r}}} + {\\left. {\\left( {{B_{{T_r},{P_r}}} + 1} \\right)\\left( {T - {T_r}} \\right)\\frac{{\\partial \\omega }}{{\\partial T}}} \\right|_{{T_r},{P_r}}}$  \n",
    "\n",
    "and\n",
    "\n",
    "$\\int_{{P_r}}^P {{V_{T,P}}dP}  = f\\left( {T,\\theta ,{a_1},{a_2},{a_3},{a_4},T,P,{P_r}} \\right) - \\left( {{B_{T,P}} + 1} \\right){\\omega _{T,P}} + \\left( {{B_{T,{P_r}}} + 1} \\right){\\omega _{T,{P_r}}}$"
   ]
  },
  {
   "cell_type": "markdown",
   "metadata": {},
   "source": [
    "Add to the above parameters the reference state enthalpy, $H_{ref}$ and the reference state entropy, $S_{ref}$"
   ]
  },
  {
   "cell_type": "code",
   "execution_count": 14,
   "metadata": {},
   "outputs": [],
   "source": [
    "Gref,Sref = sym.symbols('G_ref S_ref')"
   ]
  },
  {
   "cell_type": "markdown",
   "metadata": {},
   "source": [
    "##  Derive an expression for the Gibbs free energy\n",
    "**Note,** The *Shock et al. (1992)* derivation has two different equations for $G^\\circ_{P,T}$, one for charged species and one for neutral. The two equations are implemented in DEW-MELTS, but not in the DEW spreadsheet. I can't see any difference between the two, and so I opt to use the single equation here. (SM Nov 2019)"
   ]
  },
  {
   "cell_type": "code",
   "execution_count": 15,
   "metadata": {},
   "outputs": [
    {
     "data": {
      "image/png": "[encoded data removed]",
      "text/latex": [
       "$\\displaystyle G_{ref} + \\frac{P \\left(T a_{1} - a_{1} \\theta + a_{3}\\right)}{T - \\theta} - \\frac{P_{r} \\left(T a_{1} - a_{1} \\theta + a_{3}\\right)}{T - \\theta} - S_{ref} \\left(T - T_{r}\\right) + \\frac{T c_{2} \\log{\\left(T + \\frac{- c_{1} \\theta^{3} - 2 c_{2} \\theta}{c_{1} \\theta^{2} + 2 c_{2}} \\right)}}{\\theta^{2}} - \\frac{T \\left(- T_{r} c_{1} \\theta^{2} \\log{\\left(T_{r} \\right)} - T_{r} c_{1} \\theta^{2} - T_{r} c_{2} \\log{\\left(T_{r} \\right)} + T_{r} c_{2} \\log{\\left(T_{r} - \\frac{c_{1} \\theta^{3}}{c_{1} \\theta^{2} + 2 c_{2}} - \\frac{2 c_{2} \\theta}{c_{1} \\theta^{2} + 2 c_{2}} \\right)} + c_{1} \\theta^{3} \\log{\\left(T_{r} \\right)} + c_{1} \\theta^{3} + c_{2} \\theta \\log{\\left(T_{r} \\right)} - c_{2} \\theta \\log{\\left(T_{r} - \\frac{c_{1} \\theta^{3}}{c_{1} \\theta^{2} + 2 c_{2}} - \\frac{2 c_{2} \\theta}{c_{1} \\theta^{2} + 2 c_{2}} \\right)} + c_{2} \\theta\\right)}{T_{r} \\theta^{2} - \\theta^{3}} - \\frac{T_{r} c_{2} \\log{\\left(T_{r} + \\frac{- c_{1} \\theta^{3} - 2 c_{2} \\theta}{c_{1} \\theta^{2} + 2 c_{2}} \\right)}}{\\theta^{2}} + \\frac{T_{r} \\left(- T_{r} c_{1} \\theta^{2} \\log{\\left(T_{r} \\right)} - T_{r} c_{1} \\theta^{2} - T_{r} c_{2} \\log{\\left(T_{r} \\right)} + T_{r} c_{2} \\log{\\left(T_{r} - \\frac{c_{1} \\theta^{3}}{c_{1} \\theta^{2} + 2 c_{2}} - \\frac{2 c_{2} \\theta}{c_{1} \\theta^{2} + 2 c_{2}} \\right)} + c_{1} \\theta^{3} \\log{\\left(T_{r} \\right)} + c_{1} \\theta^{3} + c_{2} \\theta \\log{\\left(T_{r} \\right)} - c_{2} \\theta \\log{\\left(T_{r} - \\frac{c_{1} \\theta^{3}}{c_{1} \\theta^{2} + 2 c_{2}} - \\frac{2 c_{2} \\theta}{c_{1} \\theta^{2} + 2 c_{2}} \\right)} + c_{2} \\theta\\right)}{T_{r} \\theta^{2} - \\theta^{3}} + \\left(T - T_{r}\\right) \\left(B{\\left(T_{r},P_{r} \\right)} + 1\\right) \\frac{\\partial}{\\partial T} \\omega{\\left(T,P_{r} \\right)} + \\left(T - T_{r}\\right) \\omega{\\left(T_{r},P_{r} \\right)} Y{\\left(T_{r},P_{r} \\right)} - \\left(B{\\left(T,P \\right)} + 1\\right) \\omega{\\left(T,P \\right)} + \\left(B{\\left(T_{r},P_{r} \\right)} + 1\\right) \\omega{\\left(T_{r},P_{r} \\right)} + \\frac{\\left(T a_{2} - a_{2} \\theta + a_{4}\\right) \\log{\\left(P + \\Psi \\right)}}{T - \\theta} - \\frac{\\left(T a_{2} - a_{2} \\theta + a_{4}\\right) \\log{\\left(P_{r} + \\Psi \\right)}}{T - \\theta} - \\frac{\\left(T c_{1} \\theta^{2} + T c_{2}\\right) \\log{\\left(T + \\frac{- c_{1} \\theta^{3} - c_{2} \\theta + \\theta \\left(c_{1} \\theta^{2} + c_{2}\\right)}{c_{1} \\theta^{2} + 2 c_{2}} \\right)}}{\\theta^{2}} + \\frac{\\left(T_{r} c_{1} \\theta^{2} + T_{r} c_{2}\\right) \\log{\\left(T_{r} + \\frac{- c_{1} \\theta^{3} - c_{2} \\theta + \\theta \\left(c_{1} \\theta^{2} + c_{2}\\right)}{c_{1} \\theta^{2} + 2 c_{2}} \\right)}}{\\theta^{2}}$"
      ],
      "text/plain": [
       "                                                                              \n",
       "                                                                              \n",
       "                                                                        T⋅c₂⋅l\n",
       "                                                                              \n",
       "        P⋅(T⋅a₁ - a₁⋅θ + a₃)   Pᵣ⋅(T⋅a₁ - a₁⋅θ + a₃)                          \n",
       "G_ref + ──────────────────── - ───────────────────── - S_ref⋅(T - Tᵣ) + ──────\n",
       "               T - θ                   T - θ                                  \n",
       "                                                                              \n",
       "\n",
       "  ⎛          3         ⎞     ⎛                                                \n",
       "  ⎜    - c₁⋅θ  - 2⋅c₂⋅θ⎟     ⎜         2                  2                   \n",
       "og⎜T + ────────────────⎟   T⋅⎜- Tᵣ⋅c₁⋅θ ⋅log(Tᵣ) - Tᵣ⋅c₁⋅θ  - Tᵣ⋅c₂⋅log(Tᵣ) + \n",
       "  ⎜          2         ⎟     ⎜                                                \n",
       "  ⎝      c₁⋅θ  + 2⋅c₂  ⎠     ⎝                                                \n",
       "──────────────────────── - ───────────────────────────────────────────────────\n",
       "         2                                                                    \n",
       "        θ                                                                     \n",
       "\n",
       "         ⎛            3                   ⎞                                   \n",
       "         ⎜        c₁⋅θ           2⋅c₂⋅θ   ⎟       3               3           \n",
       "Tᵣ⋅c₂⋅log⎜Tᵣ - ──────────── - ────────────⎟ + c₁⋅θ ⋅log(Tᵣ) + c₁⋅θ  + c₂⋅θ⋅log\n",
       "         ⎜         2              2       ⎟                                   \n",
       "         ⎝     c₁⋅θ  + 2⋅c₂   c₁⋅θ  + 2⋅c₂⎠                                   \n",
       "──────────────────────────────────────────────────────────────────────────────\n",
       "                                         2    3                               \n",
       "                                     Tᵣ⋅θ  - θ                                \n",
       "\n",
       "               ⎛            3                   ⎞       ⎞            ⎛        \n",
       "               ⎜        c₁⋅θ           2⋅c₂⋅θ   ⎟       ⎟            ⎜     - c\n",
       "(Tᵣ) - c₂⋅θ⋅log⎜Tᵣ - ──────────── - ────────────⎟ + c₂⋅θ⎟   Tᵣ⋅c₂⋅log⎜Tᵣ + ───\n",
       "               ⎜         2              2       ⎟       ⎟            ⎜        \n",
       "               ⎝     c₁⋅θ  + 2⋅c₂   c₁⋅θ  + 2⋅c₂⎠       ⎠            ⎝       c\n",
       "───────────────────────────────────────────────────────── - ──────────────────\n",
       "                                                                            2 \n",
       "                                                                           θ  \n",
       "\n",
       "   3         ⎞      ⎛                                                         \n",
       "₁⋅θ  - 2⋅c₂⋅θ⎟      ⎜         2                  2                            \n",
       "─────────────⎟   Tᵣ⋅⎜- Tᵣ⋅c₁⋅θ ⋅log(Tᵣ) - Tᵣ⋅c₁⋅θ  - Tᵣ⋅c₂⋅log(Tᵣ) + Tᵣ⋅c₂⋅log\n",
       "   2         ⎟      ⎜                                                         \n",
       "₁⋅θ  + 2⋅c₂  ⎠      ⎝                                                         \n",
       "────────────── + ─────────────────────────────────────────────────────────────\n",
       "                                                                              \n",
       "                                                                              \n",
       "\n",
       "⎛            3                   ⎞                                            \n",
       "⎜        c₁⋅θ           2⋅c₂⋅θ   ⎟       3               3                    \n",
       "⎜Tᵣ - ──────────── - ────────────⎟ + c₁⋅θ ⋅log(Tᵣ) + c₁⋅θ  + c₂⋅θ⋅log(Tᵣ) - c₂\n",
       "⎜         2              2       ⎟                                            \n",
       "⎝     c₁⋅θ  + 2⋅c₂   c₁⋅θ  + 2⋅c₂⎠                                            \n",
       "──────────────────────────────────────────────────────────────────────────────\n",
       "                                2    3                                        \n",
       "                            Tᵣ⋅θ  - θ                                         \n",
       "\n",
       "      ⎛            3                   ⎞       ⎞                              \n",
       "      ⎜        c₁⋅θ           2⋅c₂⋅θ   ⎟       ⎟                              \n",
       "⋅θ⋅log⎜Tᵣ - ──────────── - ────────────⎟ + c₂⋅θ⎟                              \n",
       "      ⎜         2              2       ⎟       ⎟                              \n",
       "      ⎝     c₁⋅θ  + 2⋅c₂   c₁⋅θ  + 2⋅c₂⎠       ⎠                            ∂ \n",
       "──────────────────────────────────────────────── + (T - Tᵣ)⋅(B(Tᵣ, Pᵣ) + 1)⋅──\n",
       "                                                                            ∂T\n",
       "                                                                              \n",
       "\n",
       "                                                                              \n",
       "                                                                              \n",
       "                                                                              \n",
       "                                                                              \n",
       "                                                                              \n",
       "(ω(T, Pᵣ)) + (T - Tᵣ)⋅ω(Tᵣ, Pᵣ)⋅Y(Tᵣ, Pᵣ) - (B(T, P) + 1)⋅ω(T, P) + (B(Tᵣ, Pᵣ)\n",
       "                                                                              \n",
       "                                                                              \n",
       "\n",
       "                                                                              \n",
       "                                                                              \n",
       "                                                                              \n",
       "                                                                              \n",
       "                  (T⋅a₂ - a₂⋅θ + a₄)⋅log(P + Ψ)   (T⋅a₂ - a₂⋅θ + a₄)⋅log(Pᵣ + \n",
       " + 1)⋅ω(Tᵣ, Pᵣ) + ───────────────────────────── - ────────────────────────────\n",
       "                              T - θ                           T - θ           \n",
       "                                                                              \n",
       "\n",
       "                         ⎛          3            ⎛    2     ⎞⎞                \n",
       "     ⎛      2       ⎞    ⎜    - c₁⋅θ  - c₂⋅θ + θ⋅⎝c₁⋅θ  + c₂⎠⎟   ⎛       2    \n",
       "     ⎝T⋅c₁⋅θ  + T⋅c₂⎠⋅log⎜T + ───────────────────────────────⎟   ⎝Tᵣ⋅c₁⋅θ  + T\n",
       "                         ⎜                  2                ⎟                \n",
       "Ψ)                       ⎝              c₁⋅θ  + 2⋅c₂         ⎠                \n",
       "── - ───────────────────────────────────────────────────────── + ─────────────\n",
       "                                  2                                           \n",
       "                                 θ                                            \n",
       "\n",
       "         ⎛           3            ⎛    2     ⎞⎞\n",
       "    ⎞    ⎜     - c₁⋅θ  - c₂⋅θ + θ⋅⎝c₁⋅θ  + c₂⎠⎟\n",
       "ᵣ⋅c₂⎠⋅log⎜Tᵣ + ───────────────────────────────⎟\n",
       "         ⎜                   2                ⎟\n",
       "         ⎝               c₁⋅θ  + 2⋅c₂         ⎠\n",
       "───────────────────────────────────────────────\n",
       "                 2                             \n",
       "                θ                              "
      ]
     },
     "execution_count": 15,
     "metadata": {},
     "output_type": "execute_result"
    }
   ],
   "source": [
    "gtp = Gref - Sref*(T-Tr) - sym.integrate(sym.integrate((c1 + c2/(T-theta)**2)/T, (T,Tr,T)), (T,Tr,T)) \\\n",
    "    - (B(T,Pr)+1)*omega.subs(P,Pr) + (B(Tr,Pr)+1)*omega.subs(P,Pr).subs(T,Tr) \\\n",
    "    + Y(Tr,Pr)*(T-Tr)*omega.subs(P,Pr).subs(T,Tr) + (B(Tr,Pr)+1)*(T-Tr)*omega.diff(T).subs(P,Pr) \\\n",
    "    + sym.integrate(a1 + a2/(Psi+P) + (a3 + a4/(Psi+P))/(T-theta), (P,Pr,P)) - (1+B(T,P))*omega + (1+B(T,Pr))*omega.subs(P,Pr)\n",
    "gtp"
   ]
  },
  {
   "cell_type": "markdown",
   "metadata": {},
   "source": [
    "At the reference pressure, $\\omega$ is a constant, $\\omega_0$, and its derivatives are zero too. The previous implementations prescribe the values of $Y$ and $B$ at $T_r$ and $P_r$. The values differ slightly from the direct calculation with SWIM."
   ]
  },
  {
   "cell_type": "code",
   "execution_count": 17,
   "metadata": {},
   "outputs": [
    {
     "data": {
      "image/png": "[encoded data removed]",
      "text/latex": [
       "$\\displaystyle G_{ref} + \\frac{P \\left(T a_{1} - a_{1} \\theta + a_{3}\\right)}{T - \\theta} - \\frac{P_{r} \\left(T a_{1} - a_{1} \\theta + a_{3}\\right)}{T - \\theta} - S_{ref} \\left(T - T_{r}\\right) + \\frac{T c_{2} \\log{\\left(T + \\frac{- c_{1} \\theta^{3} - 2 c_{2} \\theta}{c_{1} \\theta^{2} + 2 c_{2}} \\right)}}{\\theta^{2}} - \\frac{T \\left(- T_{r} c_{1} \\theta^{2} \\log{\\left(T_{r} \\right)} - T_{r} c_{1} \\theta^{2} - T_{r} c_{2} \\log{\\left(T_{r} \\right)} + T_{r} c_{2} \\log{\\left(T_{r} - \\frac{c_{1} \\theta^{3}}{c_{1} \\theta^{2} + 2 c_{2}} - \\frac{2 c_{2} \\theta}{c_{1} \\theta^{2} + 2 c_{2}} \\right)} + c_{1} \\theta^{3} \\log{\\left(T_{r} \\right)} + c_{1} \\theta^{3} + c_{2} \\theta \\log{\\left(T_{r} \\right)} - c_{2} \\theta \\log{\\left(T_{r} - \\frac{c_{1} \\theta^{3}}{c_{1} \\theta^{2} + 2 c_{2}} - \\frac{2 c_{2} \\theta}{c_{1} \\theta^{2} + 2 c_{2}} \\right)} + c_{2} \\theta\\right)}{T_{r} \\theta^{2} - \\theta^{3}} - \\frac{T_{r} c_{2} \\log{\\left(T_{r} + \\frac{- c_{1} \\theta^{3} - 2 c_{2} \\theta}{c_{1} \\theta^{2} + 2 c_{2}} \\right)}}{\\theta^{2}} + \\frac{T_{r} \\left(- T_{r} c_{1} \\theta^{2} \\log{\\left(T_{r} \\right)} - T_{r} c_{1} \\theta^{2} - T_{r} c_{2} \\log{\\left(T_{r} \\right)} + T_{r} c_{2} \\log{\\left(T_{r} - \\frac{c_{1} \\theta^{3}}{c_{1} \\theta^{2} + 2 c_{2}} - \\frac{2 c_{2} \\theta}{c_{1} \\theta^{2} + 2 c_{2}} \\right)} + c_{1} \\theta^{3} \\log{\\left(T_{r} \\right)} + c_{1} \\theta^{3} + c_{2} \\theta \\log{\\left(T_{r} \\right)} - c_{2} \\theta \\log{\\left(T_{r} - \\frac{c_{1} \\theta^{3}}{c_{1} \\theta^{2} + 2 c_{2}} - \\frac{2 c_{2} \\theta}{c_{1} \\theta^{2} + 2 c_{2}} \\right)} + c_{2} \\theta\\right)}{T_{r} \\theta^{2} - \\theta^{3}} + \\omega_{0} \\left(T - T_{r}\\right) Y{\\left(T_{r},P_{r} \\right)} + \\omega_{0} \\left(B{\\left(T_{r},P_{r} \\right)} + 1\\right) - \\left(B{\\left(T,P \\right)} + 1\\right) \\omega{\\left(T,P \\right)} + \\frac{\\left(T a_{2} - a_{2} \\theta + a_{4}\\right) \\log{\\left(P + \\Psi \\right)}}{T - \\theta} - \\frac{\\left(T a_{2} - a_{2} \\theta + a_{4}\\right) \\log{\\left(P_{r} + \\Psi \\right)}}{T - \\theta} - \\frac{\\left(T c_{1} \\theta^{2} + T c_{2}\\right) \\log{\\left(T + \\frac{- c_{1} \\theta^{3} - c_{2} \\theta + \\theta \\left(c_{1} \\theta^{2} + c_{2}\\right)}{c_{1} \\theta^{2} + 2 c_{2}} \\right)}}{\\theta^{2}} + \\frac{\\left(T_{r} c_{1} \\theta^{2} + T_{r} c_{2}\\right) \\log{\\left(T_{r} + \\frac{- c_{1} \\theta^{3} - c_{2} \\theta + \\theta \\left(c_{1} \\theta^{2} + c_{2}\\right)}{c_{1} \\theta^{2} + 2 c_{2}} \\right)}}{\\theta^{2}}$"
      ],
      "text/plain": [
       "                                                                              \n",
       "                                                                              \n",
       "                                                                        T⋅c₂⋅l\n",
       "                                                                              \n",
       "        P⋅(T⋅a₁ - a₁⋅θ + a₃)   Pᵣ⋅(T⋅a₁ - a₁⋅θ + a₃)                          \n",
       "G_ref + ──────────────────── - ───────────────────── - S_ref⋅(T - Tᵣ) + ──────\n",
       "               T - θ                   T - θ                                  \n",
       "                                                                              \n",
       "\n",
       "  ⎛          3         ⎞     ⎛                                                \n",
       "  ⎜    - c₁⋅θ  - 2⋅c₂⋅θ⎟     ⎜         2                  2                   \n",
       "og⎜T + ────────────────⎟   T⋅⎜- Tᵣ⋅c₁⋅θ ⋅log(Tᵣ) - Tᵣ⋅c₁⋅θ  - Tᵣ⋅c₂⋅log(Tᵣ) + \n",
       "  ⎜          2         ⎟     ⎜                                                \n",
       "  ⎝      c₁⋅θ  + 2⋅c₂  ⎠     ⎝                                                \n",
       "──────────────────────── - ───────────────────────────────────────────────────\n",
       "         2                                                                    \n",
       "        θ                                                                     \n",
       "\n",
       "         ⎛            3                   ⎞                                   \n",
       "         ⎜        c₁⋅θ           2⋅c₂⋅θ   ⎟       3               3           \n",
       "Tᵣ⋅c₂⋅log⎜Tᵣ - ──────────── - ────────────⎟ + c₁⋅θ ⋅log(Tᵣ) + c₁⋅θ  + c₂⋅θ⋅log\n",
       "         ⎜         2              2       ⎟                                   \n",
       "         ⎝     c₁⋅θ  + 2⋅c₂   c₁⋅θ  + 2⋅c₂⎠                                   \n",
       "──────────────────────────────────────────────────────────────────────────────\n",
       "                                         2    3                               \n",
       "                                     Tᵣ⋅θ  - θ                                \n",
       "\n",
       "               ⎛            3                   ⎞       ⎞            ⎛        \n",
       "               ⎜        c₁⋅θ           2⋅c₂⋅θ   ⎟       ⎟            ⎜     - c\n",
       "(Tᵣ) - c₂⋅θ⋅log⎜Tᵣ - ──────────── - ────────────⎟ + c₂⋅θ⎟   Tᵣ⋅c₂⋅log⎜Tᵣ + ───\n",
       "               ⎜         2              2       ⎟       ⎟            ⎜        \n",
       "               ⎝     c₁⋅θ  + 2⋅c₂   c₁⋅θ  + 2⋅c₂⎠       ⎠            ⎝       c\n",
       "───────────────────────────────────────────────────────── - ──────────────────\n",
       "                                                                            2 \n",
       "                                                                           θ  \n",
       "\n",
       "   3         ⎞      ⎛                                                         \n",
       "₁⋅θ  - 2⋅c₂⋅θ⎟      ⎜         2                  2                            \n",
       "─────────────⎟   Tᵣ⋅⎜- Tᵣ⋅c₁⋅θ ⋅log(Tᵣ) - Tᵣ⋅c₁⋅θ  - Tᵣ⋅c₂⋅log(Tᵣ) + Tᵣ⋅c₂⋅log\n",
       "   2         ⎟      ⎜                                                         \n",
       "₁⋅θ  + 2⋅c₂  ⎠      ⎝                                                         \n",
       "────────────── + ─────────────────────────────────────────────────────────────\n",
       "                                                                              \n",
       "                                                                              \n",
       "\n",
       "⎛            3                   ⎞                                            \n",
       "⎜        c₁⋅θ           2⋅c₂⋅θ   ⎟       3               3                    \n",
       "⎜Tᵣ - ──────────── - ────────────⎟ + c₁⋅θ ⋅log(Tᵣ) + c₁⋅θ  + c₂⋅θ⋅log(Tᵣ) - c₂\n",
       "⎜         2              2       ⎟                                            \n",
       "⎝     c₁⋅θ  + 2⋅c₂   c₁⋅θ  + 2⋅c₂⎠                                            \n",
       "──────────────────────────────────────────────────────────────────────────────\n",
       "                                2    3                                        \n",
       "                            Tᵣ⋅θ  - θ                                         \n",
       "\n",
       "      ⎛            3                   ⎞       ⎞                              \n",
       "      ⎜        c₁⋅θ           2⋅c₂⋅θ   ⎟       ⎟                              \n",
       "⋅θ⋅log⎜Tᵣ - ──────────── - ────────────⎟ + c₂⋅θ⎟                              \n",
       "      ⎜         2              2       ⎟       ⎟                              \n",
       "      ⎝     c₁⋅θ  + 2⋅c₂   c₁⋅θ  + 2⋅c₂⎠       ⎠                              \n",
       "──────────────────────────────────────────────── + ω₀⋅(T - Tᵣ)⋅Y(Tᵣ, Pᵣ) + ω₀⋅\n",
       "                                                                              \n",
       "                                                                              \n",
       "\n",
       "                                                                              \n",
       "                                                                              \n",
       "                                                                              \n",
       "                                                                              \n",
       "                                          (T⋅a₂ - a₂⋅θ + a₄)⋅log(P + Ψ)   (T⋅a\n",
       "(B(Tᵣ, Pᵣ) + 1) - (B(T, P) + 1)⋅ω(T, P) + ───────────────────────────── - ────\n",
       "                                                      T - θ                   \n",
       "                                                                              \n",
       "\n",
       "                                                 ⎛          3            ⎛    \n",
       "                             ⎛      2       ⎞    ⎜    - c₁⋅θ  - c₂⋅θ + θ⋅⎝c₁⋅θ\n",
       "                             ⎝T⋅c₁⋅θ  + T⋅c₂⎠⋅log⎜T + ────────────────────────\n",
       "                                                 ⎜                  2         \n",
       "₂ - a₂⋅θ + a₄)⋅log(Pᵣ + Ψ)                       ⎝              c₁⋅θ  + 2⋅c₂  \n",
       "────────────────────────── - ─────────────────────────────────────────────────\n",
       "        T - θ                                             2                   \n",
       "                                                         θ                    \n",
       "\n",
       "2     ⎞⎞                         ⎛           3            ⎛    2     ⎞⎞\n",
       "  + c₂⎠⎟   ⎛       2        ⎞    ⎜     - c₁⋅θ  - c₂⋅θ + θ⋅⎝c₁⋅θ  + c₂⎠⎟\n",
       "───────⎟   ⎝Tᵣ⋅c₁⋅θ  + Tᵣ⋅c₂⎠⋅log⎜Tᵣ + ───────────────────────────────⎟\n",
       "       ⎟                         ⎜                   2                ⎟\n",
       "       ⎠                         ⎝               c₁⋅θ  + 2⋅c₂         ⎠\n",
       "──────── + ────────────────────────────────────────────────────────────\n",
       "                                         2                             \n",
       "                                        θ                              "
      ]
     },
     "execution_count": 17,
     "metadata": {},
     "output_type": "execute_result"
    }
   ],
   "source": [
    "gtp = gtp.subs(omega.subs(T,Tr).subs(P,Pr), omega0)\n",
    "gtp = gtp.subs(omega.diff(T).subs(P,Pr),0)\n",
    "gtp = gtp.subs(Y(Tr,Pr),-5.79865E-05)\n",
    "gtp = gtp.subs(B(Tr,Pr),-1/78.47)\n",
    "gtp"
   ]
  },
  {
   "cell_type": "markdown",
   "metadata": {},
   "source": [
    "Substitute the definition of the omega function into the expression for the Gibbs free energy"
   ]
  },
  {
   "cell_type": "code",
   "execution_count": 27,
   "metadata": {},
   "outputs": [
    {
     "data": {
      "text/latex": [
       "$\\displaystyle G_{ref} + \\frac{P \\left(T a_{1} - a_{1} \\theta + a_{3}\\right)}{T - \\theta} - \\frac{P_{r} \\left(T a_{1} - a_{1} \\theta + a_{3}\\right)}{T - \\theta} - S_{ref} \\left(T - T_{r}\\right) + \\frac{T c_{2} \\log{\\left(T + \\frac{- c_{1} \\theta^{3} - 2 c_{2} \\theta}{c_{1} \\theta^{2} + 2 c_{2}} \\right)}}{\\theta^{2}} - \\frac{T \\left(- T_{r} c_{1} \\theta^{2} \\log{\\left(T_{r} \\right)} - T_{r} c_{1} \\theta^{2} - T_{r} c_{2} \\log{\\left(T_{r} \\right)} + T_{r} c_{2} \\log{\\left(T_{r} - \\frac{c_{1} \\theta^{3}}{c_{1} \\theta^{2} + 2 c_{2}} - \\frac{2 c_{2} \\theta}{c_{1} \\theta^{2} + 2 c_{2}} \\right)} + c_{1} \\theta^{3} \\log{\\left(T_{r} \\right)} + c_{1} \\theta^{3} + c_{2} \\theta \\log{\\left(T_{r} \\right)} - c_{2} \\theta \\log{\\left(T_{r} - \\frac{c_{1} \\theta^{3}}{c_{1} \\theta^{2} + 2 c_{2}} - \\frac{2 c_{2} \\theta}{c_{1} \\theta^{2} + 2 c_{2}} \\right)} + c_{2} \\theta\\right)}{T_{r} \\theta^{2} - \\theta^{3}} - \\frac{T_{r} c_{2} \\log{\\left(T_{r} + \\frac{- c_{1} \\theta^{3} - 2 c_{2} \\theta}{c_{1} \\theta^{2} + 2 c_{2}} \\right)}}{\\theta^{2}} + \\frac{T_{r} \\left(- T_{r} c_{1} \\theta^{2} \\log{\\left(T_{r} \\right)} - T_{r} c_{1} \\theta^{2} - T_{r} c_{2} \\log{\\left(T_{r} \\right)} + T_{r} c_{2} \\log{\\left(T_{r} - \\frac{c_{1} \\theta^{3}}{c_{1} \\theta^{2} + 2 c_{2}} - \\frac{2 c_{2} \\theta}{c_{1} \\theta^{2} + 2 c_{2}} \\right)} + c_{1} \\theta^{3} \\log{\\left(T_{r} \\right)} + c_{1} \\theta^{3} + c_{2} \\theta \\log{\\left(T_{r} \\right)} - c_{2} \\theta \\log{\\left(T_{r} - \\frac{c_{1} \\theta^{3}}{c_{1} \\theta^{2} + 2 c_{2}} - \\frac{2 c_{2} \\theta}{c_{1} \\theta^{2} + 2 c_{2}} \\right)} + c_{2} \\theta\\right)}{T_{r} \\theta^{2} - \\theta^{3}} + \\omega_{0} \\left(T - T_{r}\\right) Y{\\left(T_{r},P_{r} \\right)} + \\omega_{0} \\left(B{\\left(T_{r},P_{r} \\right)} + 1\\right) - \\left(B{\\left(T,P \\right)} + 1\\right) \\left(\\begin{cases} \\omega_{0} & \\text{for}\\: z = 0 \\\\- \\frac{\\eta z}{rH + \\operatorname{gSolvent}{\\left(T,P \\right)}} + \\frac{\\frac{\\eta z}{rH} + \\omega_{0}}{1 + \\frac{\\left(\\frac{z}{rH} + \\frac{\\omega_{0}}{\\eta}\\right) \\left|{z}\\right| \\operatorname{gSolvent}{\\left(T,P \\right)}}{z^{2}}} & \\text{otherwise} \\end{cases}\\right) + \\frac{\\left(T a_{2} - a_{2} \\theta + a_{4}\\right) \\log{\\left(P + \\Psi \\right)}}{T - \\theta} - \\frac{\\left(T a_{2} - a_{2} \\theta + a_{4}\\right) \\log{\\left(P_{r} + \\Psi \\right)}}{T - \\theta} - \\frac{\\left(T c_{1} \\theta^{2} + T c_{2}\\right) \\log{\\left(T + \\frac{- c_{1} \\theta^{3} - c_{2} \\theta + \\theta \\left(c_{1} \\theta^{2} + c_{2}\\right)}{c_{1} \\theta^{2} + 2 c_{2}} \\right)}}{\\theta^{2}} + \\frac{\\left(T_{r} c_{1} \\theta^{2} + T_{r} c_{2}\\right) \\log{\\left(T_{r} + \\frac{- c_{1} \\theta^{3} - c_{2} \\theta + \\theta \\left(c_{1} \\theta^{2} + c_{2}\\right)}{c_{1} \\theta^{2} + 2 c_{2}} \\right)}}{\\theta^{2}}$"
      ],
      "text/plain": [
       "                                                                              \n",
       "                                                                              \n",
       "                                                                              \n",
       "                                                                        T⋅c₂⋅l\n",
       "                                                                              \n",
       "        P⋅(T⋅a₁ - a₁⋅θ + a₃)   Pᵣ⋅(T⋅a₁ - a₁⋅θ + a₃)                          \n",
       "G_ref + ──────────────────── - ───────────────────── - S_ref⋅(T - Tᵣ) + ──────\n",
       "               T - θ                   T - θ                                  \n",
       "                                                                              \n",
       "                                                                              \n",
       "                                                                              \n",
       "                                                                              \n",
       "                                                                              \n",
       "\n",
       "                                                                              \n",
       "  ⎛          3         ⎞     ⎛                                                \n",
       "  ⎜    - c₁⋅θ  - 2⋅c₂⋅θ⎟     ⎜         2                  2                   \n",
       "og⎜T + ────────────────⎟   T⋅⎜- Tᵣ⋅c₁⋅θ ⋅log(Tᵣ) - Tᵣ⋅c₁⋅θ  - Tᵣ⋅c₂⋅log(Tᵣ) + \n",
       "  ⎜          2         ⎟     ⎜                                                \n",
       "  ⎝      c₁⋅θ  + 2⋅c₂  ⎠     ⎝                                                \n",
       "──────────────────────── - ───────────────────────────────────────────────────\n",
       "         2                                                                    \n",
       "        θ                                                                     \n",
       "                                                                              \n",
       "                                                                              \n",
       "                                                                              \n",
       "                                                                              \n",
       "\n",
       "                                                                              \n",
       "         ⎛            3                   ⎞                                   \n",
       "         ⎜        c₁⋅θ           2⋅c₂⋅θ   ⎟       3               3           \n",
       "Tᵣ⋅c₂⋅log⎜Tᵣ - ──────────── - ────────────⎟ + c₁⋅θ ⋅log(Tᵣ) + c₁⋅θ  + c₂⋅θ⋅log\n",
       "         ⎜         2              2       ⎟                                   \n",
       "         ⎝     c₁⋅θ  + 2⋅c₂   c₁⋅θ  + 2⋅c₂⎠                                   \n",
       "──────────────────────────────────────────────────────────────────────────────\n",
       "                                         2    3                               \n",
       "                                     Tᵣ⋅θ  - θ                                \n",
       "                                                                              \n",
       "                                                                              \n",
       "                                                                              \n",
       "                                                                              \n",
       "\n",
       "                                                                              \n",
       "               ⎛            3                   ⎞       ⎞            ⎛        \n",
       "               ⎜        c₁⋅θ           2⋅c₂⋅θ   ⎟       ⎟            ⎜     - c\n",
       "(Tᵣ) - c₂⋅θ⋅log⎜Tᵣ - ──────────── - ────────────⎟ + c₂⋅θ⎟   Tᵣ⋅c₂⋅log⎜Tᵣ + ───\n",
       "               ⎜         2              2       ⎟       ⎟            ⎜        \n",
       "               ⎝     c₁⋅θ  + 2⋅c₂   c₁⋅θ  + 2⋅c₂⎠       ⎠            ⎝       c\n",
       "───────────────────────────────────────────────────────── - ──────────────────\n",
       "                                                                            2 \n",
       "                                                                           θ  \n",
       "                                                                              \n",
       "                                                                              \n",
       "                                                                              \n",
       "                                                                              \n",
       "\n",
       "                                                                              \n",
       "   3         ⎞      ⎛                                                         \n",
       "₁⋅θ  - 2⋅c₂⋅θ⎟      ⎜         2                  2                            \n",
       "─────────────⎟   Tᵣ⋅⎜- Tᵣ⋅c₁⋅θ ⋅log(Tᵣ) - Tᵣ⋅c₁⋅θ  - Tᵣ⋅c₂⋅log(Tᵣ) + Tᵣ⋅c₂⋅log\n",
       "   2         ⎟      ⎜                                                         \n",
       "₁⋅θ  + 2⋅c₂  ⎠      ⎝                                                         \n",
       "────────────── + ─────────────────────────────────────────────────────────────\n",
       "                                                                              \n",
       "                                                                              \n",
       "                                                                              \n",
       "                                                                              \n",
       "                                                                              \n",
       "                                                                              \n",
       "\n",
       "                                                                              \n",
       "⎛            3                   ⎞                                            \n",
       "⎜        c₁⋅θ           2⋅c₂⋅θ   ⎟       3               3                    \n",
       "⎜Tᵣ - ──────────── - ────────────⎟ + c₁⋅θ ⋅log(Tᵣ) + c₁⋅θ  + c₂⋅θ⋅log(Tᵣ) - c₂\n",
       "⎜         2              2       ⎟                                            \n",
       "⎝     c₁⋅θ  + 2⋅c₂   c₁⋅θ  + 2⋅c₂⎠                                            \n",
       "──────────────────────────────────────────────────────────────────────────────\n",
       "                                2    3                                        \n",
       "                            Tᵣ⋅θ  - θ                                         \n",
       "                                                                              \n",
       "                                                                              \n",
       "                                                                              \n",
       "                                                                              \n",
       "\n",
       "                                                                              \n",
       "      ⎛            3                   ⎞       ⎞                              \n",
       "      ⎜        c₁⋅θ           2⋅c₂⋅θ   ⎟       ⎟                              \n",
       "⋅θ⋅log⎜Tᵣ - ──────────── - ────────────⎟ + c₂⋅θ⎟                              \n",
       "      ⎜         2              2       ⎟       ⎟                              \n",
       "      ⎝     c₁⋅θ  + 2⋅c₂   c₁⋅θ  + 2⋅c₂⎠       ⎠                              \n",
       "──────────────────────────────────────────────── + ω₀⋅(T - Tᵣ)⋅Y(Tᵣ, Pᵣ) + ω₀⋅\n",
       "                                                                              \n",
       "                                                                              \n",
       "                                                                              \n",
       "                                                                              \n",
       "                                                                              \n",
       "                                                                              \n",
       "\n",
       "                                ⎛⎧                           ω₀               \n",
       "                                ⎜⎪                                            \n",
       "                                ⎜⎪                                    η⋅z     \n",
       "                                ⎜⎪                                    ─── + ω₀\n",
       "                                ⎜⎪          η⋅z                        rH     \n",
       "                                ⎜⎪- ─────────────────── + ────────────────────\n",
       "(B(Tᵣ, Pᵣ) + 1) - (B(T, P) + 1)⋅⎜⎨  rH + gSolvent(T, P)       ⎛z    ω₀⎞       \n",
       "                                ⎜⎪                            ⎜── + ──⎟⋅│z│⋅gS\n",
       "                                ⎜⎪                            ⎝rH   η ⎠       \n",
       "                                ⎜⎪                        1 + ────────────────\n",
       "                                ⎜⎪                                          2 \n",
       "                                ⎜⎪                                         z  \n",
       "                                ⎝⎩                                            \n",
       "\n",
       "              for z = 0⎞                                                      \n",
       "                       ⎟                                                      \n",
       "                       ⎟                                                      \n",
       "                       ⎟                                                      \n",
       "                       ⎟                                                      \n",
       "────────────  otherwise⎟   (T⋅a₂ - a₂⋅θ + a₄)⋅log(P + Ψ)   (T⋅a₂ - a₂⋅θ + a₄)⋅\n",
       "                       ⎟ + ───────────────────────────── - ───────────────────\n",
       "olvent(T, P)           ⎟               T - θ                           T - θ  \n",
       "                       ⎟                                                      \n",
       "────────────           ⎟                                                      \n",
       "                       ⎟                                                      \n",
       "                       ⎟                                                      \n",
       "                       ⎠                                                      \n",
       "\n",
       "                                                                              \n",
       "                                  ⎛          3            ⎛    2     ⎞⎞       \n",
       "              ⎛      2       ⎞    ⎜    - c₁⋅θ  - c₂⋅θ + θ⋅⎝c₁⋅θ  + c₂⎠⎟   ⎛   \n",
       "              ⎝T⋅c₁⋅θ  + T⋅c₂⎠⋅log⎜T + ───────────────────────────────⎟   ⎝Tᵣ⋅\n",
       "                                  ⎜                  2                ⎟       \n",
       "log(Pᵣ + Ψ)                       ⎝              c₁⋅θ  + 2⋅c₂         ⎠       \n",
       "─────────── - ───────────────────────────────────────────────────────── + ────\n",
       "                                           2                                  \n",
       "                                          θ                                   \n",
       "                                                                              \n",
       "                                                                              \n",
       "                                                                              \n",
       "                                                                              \n",
       "\n",
       "                                                        \n",
       "                  ⎛           3            ⎛    2     ⎞⎞\n",
       "    2        ⎞    ⎜     - c₁⋅θ  - c₂⋅θ + θ⋅⎝c₁⋅θ  + c₂⎠⎟\n",
       "c₁⋅θ  + Tᵣ⋅c₂⎠⋅log⎜Tᵣ + ───────────────────────────────⎟\n",
       "                  ⎜                   2                ⎟\n",
       "                  ⎝               c₁⋅θ  + 2⋅c₂         ⎠\n",
       "────────────────────────────────────────────────────────\n",
       "                          2                             \n",
       "                         θ                              \n",
       "                                                        \n",
       "                                                        \n",
       "                                                        \n",
       "                                                        "
      ]
     },
     "execution_count": 27,
     "metadata": {},
     "output_type": "execute_result"
    }
   ],
   "source": [
    "gtp = gtp.subs(omega,omega_def)\n",
    "gtp"
   ]
  },
  {
   "cell_type": "markdown",
   "metadata": {},
   "source": [
    "The \"charge\" contribution to the Gibbs free energy is "
   ]
  },
  {
   "cell_type": "code",
   "execution_count": 19,
   "metadata": {},
   "outputs": [
    {
     "data": {
      "text/latex": [
       "$\\displaystyle \\omega_{0} \\left(B{\\left(T,P \\right)} + 1\\right) - \\left(B{\\left(T,P \\right)} + 1\\right) \\left(\\begin{cases} \\omega_{0} & \\text{for}\\: z = 0 \\\\- \\frac{\\eta z}{rH + \\operatorname{gSolvent}{\\left(T,P \\right)}} + \\frac{\\frac{\\eta z}{rH} + \\omega_{0}}{1 + \\frac{\\left(\\frac{z}{rH} + \\frac{\\omega_{0}}{\\eta}\\right) \\left|{z}\\right| \\operatorname{gSolvent}{\\left(T,P \\right)}}{z^{2}}} & \\text{otherwise} \\end{cases}\\right)$"
      ],
      "text/plain": [
       "                                 ⎛⎧                           ω₀              \n",
       "                                 ⎜⎪                                           \n",
       "                                 ⎜⎪                                    η⋅z    \n",
       "                                 ⎜⎪                                    ─── + ω\n",
       "                                 ⎜⎪          η⋅z                        rH    \n",
       "                                 ⎜⎪- ─────────────────── + ───────────────────\n",
       "ω₀⋅(B(T, P) + 1) - (B(T, P) + 1)⋅⎜⎨  rH + gSolvent(T, P)       ⎛z    ω₀⎞      \n",
       "                                 ⎜⎪                            ⎜── + ──⎟⋅│z│⋅g\n",
       "                                 ⎜⎪                            ⎝rH   η ⎠      \n",
       "                                 ⎜⎪                        1 + ───────────────\n",
       "                                 ⎜⎪                                          2\n",
       "                                 ⎜⎪                                         z \n",
       "                                 ⎝⎩                                           \n",
       "\n",
       "               for z = 0⎞\n",
       "                        ⎟\n",
       "                        ⎟\n",
       "₀                       ⎟\n",
       "                        ⎟\n",
       "─────────────  otherwise⎟\n",
       "                        ⎟\n",
       "Solvent(T, P)           ⎟\n",
       "                        ⎟\n",
       "─────────────           ⎟\n",
       "                        ⎟\n",
       "                        ⎟\n",
       "                        ⎠"
      ]
     },
     "execution_count": 19,
     "metadata": {},
     "output_type": "execute_result"
    }
   ],
   "source": [
    "gtp-gtp.subs(z,0)"
   ]
  },
  {
   "cell_type": "markdown",
   "metadata": {},
   "source": [
    "## Predicting parameters from correlations\n",
    "\n",
    "Define the reference volume, $v_{ref}$, and the reference heat capacity, $c_p$; terms that do not feature directly in the equation for $G_{t,p}$ as they are subsumed into the $a_n$ and $c_n$ coefficients. Define also two variables to act as switches to select the appropriate correlation coefficients."
   ]
  },
  {
   "cell_type": "code",
   "execution_count": 20,
   "metadata": {},
   "outputs": [],
   "source": [
    "v_ref = sym.symbols('v_ref')\n",
    "cp_ref = sym.symbols('C_p_ref')\n",
    "compl = sym.symbols('complex')\n",
    "gas = sym.symbols('gas')"
   ]
  },
  {
   "cell_type": "markdown",
   "metadata": {},
   "source": [
    "The value of $\\omega$ predicted (from $S^0_{Pr,Tr}$) depends on the charge and type of species:"
   ]
  },
  {
   "cell_type": "code",
   "execution_count": 21,
   "metadata": {},
   "outputs": [
    {
     "data": {
      "text/latex": [
       "$\\displaystyle \\begin{cases} 910605.76 - 1514.4 S_{ref} & \\text{for}\\: z = 4 \\\\660779.12 - 1514.4 S_{ref} & \\text{for}\\: z = 3 \\\\442625.36 - 1514.4 S_{ref} & \\text{for}\\: z = 2 \\\\230831.28 - 1514.4 S_{ref} & \\text{for}\\: z = 1 \\\\681615.44 - 1514.4 S_{ref} & \\text{for}\\: z = -1 \\\\1344193.68 - 1514.4 S_{ref} & \\text{for}\\: z = -2 \\\\2013131.6 - 1514.4 S_{ref} & \\text{for}\\: z = -3 \\\\2713742.4 - 1514.4 S_{ref} & \\text{for}\\: z = -4 \\\\125520.0 & \\text{for}\\: gas = 0 \\wedge z = 0 \\\\-125520.0 & \\text{otherwise} \\end{cases}$"
      ],
      "text/plain": [
       "⎧910605.76 - 1514.4⋅S_ref        for z = 4     \n",
       "⎪                                              \n",
       "⎪660779.12 - 1514.4⋅S_ref        for z = 3     \n",
       "⎪                                              \n",
       "⎪442625.36 - 1514.4⋅S_ref        for z = 2     \n",
       "⎪                                              \n",
       "⎪230831.28 - 1514.4⋅S_ref        for z = 1     \n",
       "⎪                                              \n",
       "⎪681615.44 - 1514.4⋅S_ref       for z = -1     \n",
       "⎨                                              \n",
       "⎪1344193.68 - 1514.4⋅S_ref      for z = -2     \n",
       "⎪                                              \n",
       "⎪2013131.6 - 1514.4⋅S_ref       for z = -3     \n",
       "⎪                                              \n",
       "⎪2713742.4 - 1514.4⋅S_ref       for z = -4     \n",
       "⎪                                              \n",
       "⎪        125520.0           for gas = 0 ∧ z = 0\n",
       "⎪                                              \n",
       "⎩        -125520.0               otherwise     "
      ]
     },
     "execution_count": 21,
     "metadata": {},
     "output_type": "execute_result"
    }
   ],
   "source": [
    "# omega_prd = sym.Piecewise((-1514.4*Sref + 1.62e5*z*4.184,sym.StrictLessThan(z,0)),\n",
    "#                           (-1514.4*Sref + 0.544e5*z*4.184,sym.StrictGreaterThan(z,0)),\n",
    "#                           (0.3e5,sym.Eq(z,0) & sym.Eq(gas,0)),\n",
    "#                           (-0.3e5,True))\n",
    "omega_prd = sym.Piecewise((-1514.4*Sref + 2.1764e5*4.184,sym.Eq(z,4)),\n",
    "                          (-1514.4*Sref + 1.5793e5*4.184,sym.Eq(z,3)),\n",
    "                          (-1514.4*Sref + 1.0579e5*4.184,sym.Eq(z,2)),\n",
    "                          (-1514.4*Sref + 0.5517e5*4.184,sym.Eq(z,1)),\n",
    "                          (-1514.4*Sref + 1.6291e5*4.184,sym.Eq(z,-1)),\n",
    "                          (-1514.4*Sref + 3.2127e5*4.184,sym.Eq(z,-2)),\n",
    "                          (-1514.4*Sref + 4.8115e5*4.184,sym.Eq(z,-3)),\n",
    "                          (-1514.4*Sref + 6.4860e5*4.184,sym.Eq(z,-4)),\n",
    "                          (0.3e5*4.184,sym.Eq(z,0) & sym.Eq(gas,0)),\n",
    "                          (-0.3e5*4.184,True))\n",
    "omega_prd"
   ]
  },
  {
   "cell_type": "markdown",
   "metadata": {},
   "source": [
    "By differentiating the definition of the born solvation coefficient:\n",
    "\n",
    "$\\Delta G^0 = \\omega*\\left(\\frac{1}{\\epsilon_{H_2O} -1}\\right)$\n",
    "\n",
    "assuming $\\omega$ is constant with $T$ and $P$, the solvation volume may be calculated:\n",
    "\n",
    "$\\Delta V^0_s = -\\omega Q_{P,T}$.\n",
    "\n",
    "This in turn may be related to the non-solvation volume:\n",
    "\n",
    "$V^0 = \\Delta V^0_s + \\Delta V^0_n$\n",
    "\n",
    "at the reference pressure and temperature:\n",
    "\n",
    "$\\Delta V^0_{n,P_r,T_r} = V^0_{P_r,T_r} - \\omega_{P_r,T_r} Q_{P_r,T_r}$"
   ]
  },
  {
   "cell_type": "code",
   "execution_count": 22,
   "metadata": {},
   "outputs": [],
   "source": [
    "dVn = (v_ref + omega0*0.05903e-5)"
   ]
  },
  {
   "cell_type": "markdown",
   "metadata": {},
   "source": [
    "The $a_n$ parameters of the EOS may then be estimated using their observed correlations with $\\Delta V^0_{n,P_r,T_r}$:"
   ]
  },
  {
   "cell_type": "code",
   "execution_count": 23,
   "metadata": {},
   "outputs": [
    {
     "data": {
      "text/latex": [
       "$\\displaystyle \\begin{cases} 4.79662809992 \\cdot 10^{-7} \\omega_{0} + 0.81257464 v_{ref} + 0.63613536 & \\text{for}\\: complex = 1 \\vee z = 0 \\\\4.184 \\left(5.903 \\cdot 10^{-7} \\omega_{0} + v_{ref}\\right) \\left(0.1304 \\left|{z}\\right| - 0.0217\\right) + 0.60948328 \\left|{z}\\right| + 0.25886408 & \\text{otherwise} \\end{cases}$"
      ],
      "text/plain": [
       "⎧              4.79662809992e-7⋅ω₀ + 0.81257464⋅v_ref + 0.63613536            \n",
       "⎨                                                                             \n",
       "⎩4.184⋅(5.903e-7⋅ω₀ + v_ref)⋅(0.1304⋅│z│ - 0.0217) + 0.60948328⋅│z│ + 0.258864\n",
       "\n",
       "    for complex = 1 ∨ z = 0\n",
       "                           \n",
       "08         otherwise       "
      ]
     },
     "execution_count": 23,
     "metadata": {},
     "output_type": "execute_result"
    }
   ],
   "source": [
    "a1_prd = sym.Piecewise(((0.19421*dVn + 0.15204)*4.184,sym.Eq(z,0) | sym.Eq(compl,1)),\n",
    "                       (((0.1304*sym.Abs(z)-0.0217)*dVn +0.14567*sym.Abs(z)\\\n",
    "                         + 0.06187)*4.184, True))\n",
    "sigma_prd = 1.11 * dVn +0.18\n",
    "a2_prd = (sigma_prd - a1_prd)*(Pr+Psi)\n",
    "a4_prd = (-4.134*a2_prd - 27790*4.184)\n",
    "a3_prd = ((dVn - a1_prd - a2_prd/(Psi + Pr))*(Tr-theta) - (a4_prd/(Psi+Pr)))\n",
    "a1_prd"
   ]
  },
  {
   "cell_type": "markdown",
   "metadata": {},
   "source": [
    "The $c_n$ parameters for the heat capacity are estimated from $\\omega_{P_r,T_r}$ and $C_{p,ref}$:"
   ]
  },
  {
   "cell_type": "code",
   "execution_count": 24,
   "metadata": {},
   "outputs": [],
   "source": [
    "c2_prd = 1e4*(0.2037*cp_ref - 3.0346*4.184)\n",
    "c1_prd = cp_ref - c2_prd/(Tr-theta)**2 + 298.15*0.0309e-5*omega0"
   ]
  },
  {
   "cell_type": "markdown",
   "metadata": {},
   "source": [
    "Substitute the predicted parameters into the free energy expression. To control whether the predicted parameters are used in preference to explicitly stated parameters, two new switch variables are introduced. This will replace $a_1$, $a_2$, $a_3$, $a_4$, $c_1$, and $c_2$ with $V_{P_rT_r}$ and $C_{pT_rP_r}$."
   ]
  },
  {
   "cell_type": "code",
   "execution_count": 25,
   "metadata": {},
   "outputs": [],
   "source": [
    "prd_omega = sym.symbols('prd_omega')\n",
    "prd_ac = sym.symbols('prd_ac')\n",
    "\n",
    "gtp_prd = gtp.subs({a1:sym.Piecewise((a1_prd,sym.Eq(prd_ac,1)),(a1,True)),\n",
    "                    a2:sym.Piecewise((a2_prd,sym.Eq(prd_ac,1)),(a2,True)),\n",
    "                    a3:sym.Piecewise((a3_prd,sym.Eq(prd_ac,1)),(a3,True)),\n",
    "                    a4:sym.Piecewise((a4_prd,sym.Eq(prd_ac,1)),(a4,True)),\n",
    "                    c1:sym.Piecewise((c1_prd,sym.Eq(prd_ac,1)),(c1,True)),\n",
    "                    c2:sym.Piecewise((c2_prd,sym.Eq(prd_ac,1)),(c2,True))})\n",
    "gtp_prd = gtp_prd.subs({omega0:sym.Piecewise((omega_prd,sym.Eq(prd_omega,1)),(omega0,True))})\n"
   ]
  },
  {
   "cell_type": "markdown",
   "metadata": {},
   "source": [
    "Add the derived expression for *G(T,P)* and its parameter list to the model"
   ]
  },
  {
   "cell_type": "code",
   "execution_count": 26,
   "metadata": {},
   "outputs": [],
   "source": [
    "params = [('G_ref','J/mole',Gref), ('S_ref','J/mole/K',Sref), \n",
    "          ('v_ref','J/bar/mole',v_ref), ('C_p_ref','J/mole/K',cp_ref),\n",
    "          ('Psi', 'bar', Psi), ('eta', 'Å-J/mole', eta), ('rH', 'Å', rH),\n",
    "          ('theta','K',theta), ('z', '', z), \n",
    "          ('complex','',compl), ('gas','',gas),\n",
    "          ('prd_ac','',prd_ac), ('prd_omega','',prd_omega),\n",
    "          ('a1','J/mole/bar',a1),('a2','J/mole',a2),('a3','J-K/mol/bar',a3),('a4','J-K/mol',a4),\n",
    "          ('c1','J/mole/K',c1),('c2','J-K/mole',c2),('omega0','J/mole',omega0)\n",
    "          ]\n",
    "model.add_expression_to_model(gtp_prd, params)\n",
    "model.set_include_born_code(True)"
   ]
  },
  {
   "cell_type": "code",
   "execution_count": null,
   "metadata": {},
   "outputs": [],
   "source": []
  }
 ],
 "metadata": {
  "kernelspec": {
   "display_name": "Python 3",
   "language": "python",
   "name": "python3"
  },
  "language_info": {
   "codemirror_mode": {
    "name": "ipython",
    "version": 3
   },
   "file_extension": ".py",
   "mimetype": "text/x-python",
   "name": "python",
   "nbconvert_exporter": "python",
   "pygments_lexer": "ipython3",
   "version": "3.7.6"
  }
 },
 "nbformat": 4,
 "nbformat_minor": 4
}
