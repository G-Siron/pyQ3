{
 "cells": [
  {
   "cell_type": "markdown",
   "id": "b3c9cd10-2652-44ae-923f-8f8dc7b0b2b1",
   "metadata": {},
   "source": [
    "# Generating grids of volume for the Berman (DEW) minerals\n",
    "Import required packages:"
   ]
  },
  {
   "cell_type": "code",
   "execution_count": 1,
   "id": "5af71564-5152-4a38-9b90-05744bec3a03",
   "metadata": {},
   "outputs": [],
   "source": [
    "import numpy as np\n",
    "import pyQ3\n",
    "import pandas as pd\n",
    "import os"
   ]
  },
  {
   "cell_type": "markdown",
   "id": "1ab2400f-f265-4b98-92cf-a74475a37c23",
   "metadata": {},
   "source": [
    "You could import the mineral objects directly, but this is convenient:\n",
    "*(Note that the stoichiometry is as given in the DEW Berman spreadsheet, or see below for how to access this within the objects)*"
   ]
  },
  {
   "cell_type": "code",
   "execution_count": 2,
   "id": "54023c93-3d6e-40c0-a536-cefa4a3842c0",
   "metadata": {},
   "outputs": [],
   "source": [
    "sys = pyQ3.System()"
   ]
  },
  {
   "cell_type": "code",
   "execution_count": 3,
   "id": "4fba2ead-651e-4e43-beb4-f20f6e0a352d",
   "metadata": {},
   "outputs": [],
   "source": [
    "mineral_list = pyQ3.defaultsystem.minerals"
   ]
  },
  {
   "cell_type": "code",
   "execution_count": 4,
   "id": "e0974eeb-3f2c-47bb-90bc-9db71f6400f0",
   "metadata": {},
   "outputs": [],
   "source": [
    "mineral_objs = sys.minerals"
   ]
  },
  {
   "cell_type": "markdown",
   "id": "11d635ed-7721-4a5a-b8a9-58b94bd86ab3",
   "metadata": {},
   "source": [
    "Set up the P-T grid:"
   ]
  },
  {
   "cell_type": "code",
   "execution_count": 5,
   "id": "805165aa-d2d0-48b5-a28d-ee561f6dd554",
   "metadata": {},
   "outputs": [],
   "source": [
    "# In bars:\n",
    "p = np.linspace(10000, 50000, 5)\n",
    "# In degC:\n",
    "t = np.linspace(100, 900, 9)\n",
    "\n",
    "pp, tt = np.meshgrid(p, t)\n"
   ]
  },
  {
   "cell_type": "markdown",
   "id": "56ca1bd0-0898-4212-824a-ffa7457a4a0a",
   "metadata": {},
   "source": [
    "Generate grids and store in a directory \"grids\""
   ]
  },
  {
   "cell_type": "code",
   "execution_count": 6,
   "id": "ace60880-a7f7-4475-9f65-0b0e15484638",
   "metadata": {},
   "outputs": [],
   "source": [
    "if not os.path.exists(\"grids\"):\n",
    "    os.makedirs(\"grids\")\n",
    "\n",
    "for m in range(len(mineral_list)):\n",
    "    v = np.zeros(np.shape(pp))\n",
    "    for i in range(np.shape(pp)[0]):\n",
    "        for j in range(np.shape(pp)[1]):\n",
    "            v[i, j] = mineral_objs[m].volume(tt[i,j] + 273.15, pp[i,j])\n",
    "\n",
    "    vdf = pd.DataFrame(v, index=t, columns=p)\n",
    "    vdf.to_csv('grids/' + mineral_list[m] + '.csv')"
   ]
  },
  {
   "cell_type": "markdown",
   "id": "e32873b4-ace7-4a5a-ac9b-e5a389d88c3b",
   "metadata": {},
   "source": [
    "To find the formula of a particular mineral:"
   ]
  },
  {
   "cell_type": "code",
   "execution_count": 7,
   "id": "60b1f997-8fa2-40c9-9a77-713639510b1c",
   "metadata": {},
   "outputs": [
    {
     "data": {
      "text/plain": [
       "'Mg2SiO4'"
      ]
     },
     "execution_count": 7,
     "metadata": {},
     "output_type": "execute_result"
    }
   ],
   "source": [
    "name = 'FORSTERITE'\n",
    "mineral_objs[mineral_list.index(name)].props['formula'][0]"
   ]
  },
  {
   "cell_type": "code",
   "execution_count": null,
   "id": "b94759a9-9ff3-42f3-acf2-2e249ea72540",
   "metadata": {},
   "outputs": [],
   "source": []
  }
 ],
 "metadata": {
  "kernelspec": {
   "display_name": "Python 3 (ipykernel)",
   "language": "python",
   "name": "python3"
  },
  "language_info": {
   "codemirror_mode": {
    "name": "ipython",
    "version": 3
   },
   "file_extension": ".py",
   "mimetype": "text/x-python",
   "name": "python",
   "nbconvert_exporter": "python",
   "pygments_lexer": "ipython3",
   "version": "3.7.12"
  }
 },
 "nbformat": 4,
 "nbformat_minor": 5
}
