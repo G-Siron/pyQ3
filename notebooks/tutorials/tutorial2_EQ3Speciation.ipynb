{
 "cells": [
  {
   "cell_type": "markdown",
   "metadata": {},
   "source": [
    "# Demonstration of pyQ3 python wrapper for DEW-ENKI-EQ3 aqueous speciation calculations - TUTORIAL 2\n",
    "\n",
    "First import the required packages:"
   ]
  },
  {
   "cell_type": "code",
   "execution_count": 1,
   "metadata": {},
   "outputs": [],
   "source": [
    "import numpy as np\n",
    "import matplotlib.pyplot as plt\n",
    "import pyQ3\n",
    "from copy import copy"
   ]
  },
  {
   "cell_type": "markdown",
   "metadata": {},
   "source": [
    "## Calculate speciation for a fluid with defined molalities\n",
    "In the previous notebook it was demonstrated how the DATA0 database file can be constructed for use with manual EQ3 calculations. The pyQ3 module also provides a python interface to these calculations. To demonstrate this we will use the default system. To create a customised system, see the first tutorial.\n",
    "\n",
    "Create a DEW System:"
   ]
  },
  {
   "cell_type": "code",
   "execution_count": 2,
   "metadata": {},
   "outputs": [],
   "source": [
    "dew_system = pyQ3.System()"
   ]
  },
  {
   "cell_type": "markdown",
   "metadata": {},
   "source": [
    "### Speciation without specifying pH or fO2:\n",
    "The pH of a solution can be calculated by charge balance if all other chemical components are constrained. Some solutions will be insensitive to fO2, so we will also skip this to start with.\n",
    "\n",
    "We must specify the molality of elements present in the solution, in terms of their basis species. Let's check what the basis species are:"
   ]
  },
  {
   "cell_type": "code",
   "execution_count": 3,
   "metadata": {},
   "outputs": [
    {
     "name": "stdout",
     "output_type": "stream",
     "text": [
      "['H2O', 'H+', 'AG+', 'AL+3', 'AU+', 'BA+2', 'CA+2', 'CO2(AQ)', 'H4SIO4(AQ)', 'CL-', 'SO4-2', 'CD+2', 'N2(AQ)', 'CR+2', 'CS+', 'CU+', 'EU+2', 'F-', 'FE+2', 'H3PO4(AQ)', 'HG+2', 'K+', 'MG+2', 'MN+2', 'NA+', 'PB+2', 'SR+2', 'U+4', 'ZN+2', 'O2']\n"
     ]
    }
   ],
   "source": [
    "print(dew_system.basis_species_names)"
   ]
  },
  {
   "cell_type": "code",
   "execution_count": 4,
   "metadata": {},
   "outputs": [],
   "source": [
    "molalities = {'NA+': 0.1,\n",
    "              'CL-': 0.1,\n",
    "              'H4SIO4(AQ)':0.5}"
   ]
  },
  {
   "cell_type": "markdown",
   "metadata": {},
   "source": [
    "We need to choose a temperature and pressure to run the calculation at:"
   ]
  },
  {
   "cell_type": "code",
   "execution_count": 5,
   "metadata": {},
   "outputs": [],
   "source": [
    "T = 500.0 + 273.15 # in K\n",
    "P = 8500.0 # in bar"
   ]
  },
  {
   "cell_type": "markdown",
   "metadata": {},
   "source": [
    "Now we can generate the fluid:"
   ]
  },
  {
   "cell_type": "code",
   "execution_count": 6,
   "metadata": {},
   "outputs": [],
   "source": [
    "dew_fluid = pyQ3.Fluid(dew_system, T, P, molalities=molalities)"
   ]
  },
  {
   "cell_type": "markdown",
   "metadata": {},
   "source": [
    "When we created the dew_fluid object several things happened in the background:\n",
    "1. a DATA0 file covering the pressure and temperature of the fluid was generated\n",
    "2. The EQPT processor was run to generate the data1 file from DATA0\n",
    "3. An EQ3 input file was generated using the constraints we set\n",
    "4. EQ3 was run to do the speciation calculation\n",
    "5. The EQ3 output file was read in\n",
    "\n",
    "We can now look up different properties of the fluid, for example the speciation:"
   ]
  },
  {
   "cell_type": "code",
   "execution_count": 7,
   "metadata": {},
   "outputs": [
    {
     "data": {
      "text/html": [
       "<div>\n",
       "<style scoped>\n",
       "    .dataframe tbody tr th:only-of-type {\n",
       "        vertical-align: middle;\n",
       "    }\n",
       "\n",
       "    .dataframe tbody tr th {\n",
       "        vertical-align: top;\n",
       "    }\n",
       "\n",
       "    .dataframe thead th {\n",
       "        text-align: right;\n",
       "    }\n",
       "</style>\n",
       "<table border=\"1\" class=\"dataframe\">\n",
       "  <thead>\n",
       "    <tr style=\"text-align: right;\">\n",
       "      <th></th>\n",
       "      <th>species</th>\n",
       "      <th>molality</th>\n",
       "      <th>log_g</th>\n",
       "      <th>activity</th>\n",
       "    </tr>\n",
       "  </thead>\n",
       "  <tbody>\n",
       "    <tr>\n",
       "      <th>0</th>\n",
       "      <td>H4SIO4(AQ)</td>\n",
       "      <td>2.347172e-01</td>\n",
       "      <td>0.0000</td>\n",
       "      <td>2.347000e-01</td>\n",
       "    </tr>\n",
       "    <tr>\n",
       "      <th>1</th>\n",
       "      <td>H6SI2O7(AQ)</td>\n",
       "      <td>1.323791e-01</td>\n",
       "      <td>0.0000</td>\n",
       "      <td>1.324000e-01</td>\n",
       "    </tr>\n",
       "    <tr>\n",
       "      <th>2</th>\n",
       "      <td>NA+</td>\n",
       "      <td>9.578317e-02</td>\n",
       "      <td>-0.1556</td>\n",
       "      <td>6.694000e-02</td>\n",
       "    </tr>\n",
       "    <tr>\n",
       "      <th>3</th>\n",
       "      <td>CL-</td>\n",
       "      <td>9.566903e-02</td>\n",
       "      <td>-0.1556</td>\n",
       "      <td>6.686000e-02</td>\n",
       "    </tr>\n",
       "    <tr>\n",
       "      <th>4</th>\n",
       "      <td>NACL(AQ)</td>\n",
       "      <td>4.200542e-03</td>\n",
       "      <td>0.0000</td>\n",
       "      <td>4.201000e-03</td>\n",
       "    </tr>\n",
       "    <tr>\n",
       "      <th>5</th>\n",
       "      <td>H8SI3O10(AQ)</td>\n",
       "      <td>1.312946e-04</td>\n",
       "      <td>0.0000</td>\n",
       "      <td>1.313000e-04</td>\n",
       "    </tr>\n",
       "    <tr>\n",
       "      <th>6</th>\n",
       "      <td>H3SIO4-</td>\n",
       "      <td>1.307279e-04</td>\n",
       "      <td>-0.1556</td>\n",
       "      <td>9.136000e-05</td>\n",
       "    </tr>\n",
       "    <tr>\n",
       "      <th>7</th>\n",
       "      <td>HCL(AQ)</td>\n",
       "      <td>1.304248e-04</td>\n",
       "      <td>0.0000</td>\n",
       "      <td>1.304000e-04</td>\n",
       "    </tr>\n",
       "    <tr>\n",
       "      <th>8</th>\n",
       "      <td>H+</td>\n",
       "      <td>1.206938e-04</td>\n",
       "      <td>-0.1556</td>\n",
       "      <td>8.435000e-05</td>\n",
       "    </tr>\n",
       "    <tr>\n",
       "      <th>9</th>\n",
       "      <td>OH-</td>\n",
       "      <td>1.041005e-04</td>\n",
       "      <td>-0.1556</td>\n",
       "      <td>7.275000e-05</td>\n",
       "    </tr>\n",
       "    <tr>\n",
       "      <th>10</th>\n",
       "      <td>NAOH(AQ)</td>\n",
       "      <td>1.629025e-05</td>\n",
       "      <td>0.0000</td>\n",
       "      <td>1.629000e-05</td>\n",
       "    </tr>\n",
       "    <tr>\n",
       "      <th>11</th>\n",
       "      <td>H2(AQ)</td>\n",
       "      <td>1.095234e-07</td>\n",
       "      <td>0.0000</td>\n",
       "      <td>1.095000e-07</td>\n",
       "    </tr>\n",
       "    <tr>\n",
       "      <th>12</th>\n",
       "      <td>O2(AQ)</td>\n",
       "      <td>9.693933e-17</td>\n",
       "      <td>0.0000</td>\n",
       "      <td>9.694000e-17</td>\n",
       "    </tr>\n",
       "  </tbody>\n",
       "</table>\n",
       "</div>"
      ],
      "text/plain": [
       "         species      molality   log_g      activity\n",
       "0     H4SIO4(AQ)  2.347172e-01  0.0000  2.347000e-01\n",
       "1    H6SI2O7(AQ)  1.323791e-01  0.0000  1.324000e-01\n",
       "2            NA+  9.578317e-02 -0.1556  6.694000e-02\n",
       "3            CL-  9.566903e-02 -0.1556  6.686000e-02\n",
       "4       NACL(AQ)  4.200542e-03  0.0000  4.201000e-03\n",
       "5   H8SI3O10(AQ)  1.312946e-04  0.0000  1.313000e-04\n",
       "6        H3SIO4-  1.307279e-04 -0.1556  9.136000e-05\n",
       "7        HCL(AQ)  1.304248e-04  0.0000  1.304000e-04\n",
       "8             H+  1.206938e-04 -0.1556  8.435000e-05\n",
       "9            OH-  1.041005e-04 -0.1556  7.275000e-05\n",
       "10      NAOH(AQ)  1.629025e-05  0.0000  1.629000e-05\n",
       "11        H2(AQ)  1.095234e-07  0.0000  1.095000e-07\n",
       "12        O2(AQ)  9.693933e-17  0.0000  9.694000e-17"
      ]
     },
     "execution_count": 7,
     "metadata": {},
     "output_type": "execute_result"
    }
   ],
   "source": [
    "dew_fluid.aqueous_species"
   ]
  },
  {
   "cell_type": "markdown",
   "metadata": {},
   "source": [
    "We could check that the input molalities were read correctly by checking the elemental molalities:"
   ]
  },
  {
   "cell_type": "code",
   "execution_count": 8,
   "metadata": {},
   "outputs": [
    {
     "data": {
      "text/html": [
       "<div>\n",
       "<style scoped>\n",
       "    .dataframe tbody tr th:only-of-type {\n",
       "        vertical-align: middle;\n",
       "    }\n",
       "\n",
       "    .dataframe tbody tr th {\n",
       "        vertical-align: top;\n",
       "    }\n",
       "\n",
       "    .dataframe thead th {\n",
       "        text-align: right;\n",
       "    }\n",
       "</style>\n",
       "<table border=\"1\" class=\"dataframe\">\n",
       "  <thead>\n",
       "    <tr style=\"text-align: right;\">\n",
       "      <th></th>\n",
       "      <th>element</th>\n",
       "      <th>ppm</th>\n",
       "      <th>molality</th>\n",
       "    </tr>\n",
       "  </thead>\n",
       "  <tbody>\n",
       "    <tr>\n",
       "      <th>0</th>\n",
       "      <td>O</td>\n",
       "      <td>917984.1388</td>\n",
       "      <td>.5737616028E+02</td>\n",
       "    </tr>\n",
       "    <tr>\n",
       "      <th>1</th>\n",
       "      <td>H</td>\n",
       "      <td>113643.0641</td>\n",
       "      <td>.1127523208E+03</td>\n",
       "    </tr>\n",
       "    <tr>\n",
       "      <th>2</th>\n",
       "      <td>SI</td>\n",
       "      <td>14042.7500</td>\n",
       "      <td>.5000000000E+00</td>\n",
       "    </tr>\n",
       "    <tr>\n",
       "      <th>3</th>\n",
       "      <td>CL</td>\n",
       "      <td>3545.3000</td>\n",
       "      <td>.1000000000E+00</td>\n",
       "    </tr>\n",
       "    <tr>\n",
       "      <th>4</th>\n",
       "      <td>NA</td>\n",
       "      <td>2298.9770</td>\n",
       "      <td>.1000000000E+00</td>\n",
       "    </tr>\n",
       "  </tbody>\n",
       "</table>\n",
       "</div>"
      ],
      "text/plain": [
       "  element          ppm         molality\n",
       "0       O  917984.1388  .5737616028E+02\n",
       "1       H  113643.0641  .1127523208E+03\n",
       "2      SI   14042.7500  .5000000000E+00\n",
       "3      CL    3545.3000  .1000000000E+00\n",
       "4      NA    2298.9770  .1000000000E+00"
      ]
     },
     "execution_count": 8,
     "metadata": {},
     "output_type": "execute_result"
    }
   ],
   "source": [
    "dew_fluid.elemental_comp"
   ]
  },
  {
   "cell_type": "markdown",
   "metadata": {},
   "source": [
    "Since the pH will be calculated by charge balance if we don't explicitly set it, we can check the pH:"
   ]
  },
  {
   "cell_type": "code",
   "execution_count": 9,
   "metadata": {},
   "outputs": [
    {
     "data": {
      "text/plain": [
       "4.0739"
      ]
     },
     "execution_count": 9,
     "metadata": {},
     "output_type": "execute_result"
    }
   ],
   "source": [
    "dew_fluid.pH"
   ]
  },
  {
   "cell_type": "markdown",
   "metadata": {},
   "source": [
    "What about fO2?"
   ]
  },
  {
   "cell_type": "code",
   "execution_count": 10,
   "metadata": {},
   "outputs": [
    {
     "data": {
      "text/plain": [
       "-12.6"
      ]
     },
     "execution_count": 10,
     "metadata": {},
     "output_type": "execute_result"
    }
   ],
   "source": [
    "dew_fluid.fO2"
   ]
  },
  {
   "cell_type": "markdown",
   "metadata": {},
   "source": [
    "But we didn't set fO2, nor is it constrained by the calculation! Well, actually the code sets it to an abitrary value of -12.6.\n",
    "\n",
    "Would this fluid crystallise? We can check:"
   ]
  },
  {
   "cell_type": "code",
   "execution_count": 11,
   "metadata": {},
   "outputs": [
    {
     "data": {
      "text/html": [
       "<div>\n",
       "<style scoped>\n",
       "    .dataframe tbody tr th:only-of-type {\n",
       "        vertical-align: middle;\n",
       "    }\n",
       "\n",
       "    .dataframe tbody tr th {\n",
       "        vertical-align: top;\n",
       "    }\n",
       "\n",
       "    .dataframe thead th {\n",
       "        text-align: right;\n",
       "    }\n",
       "</style>\n",
       "<table border=\"1\" class=\"dataframe\">\n",
       "  <thead>\n",
       "    <tr style=\"text-align: right;\">\n",
       "      <th></th>\n",
       "      <th>mineral</th>\n",
       "      <th>log_q_k</th>\n",
       "      <th>aff</th>\n",
       "      <th>state</th>\n",
       "    </tr>\n",
       "  </thead>\n",
       "  <tbody>\n",
       "    <tr>\n",
       "      <th>0</th>\n",
       "      <td>QUARTZ</td>\n",
       "      <td>0.447</td>\n",
       "      <td>1.582</td>\n",
       "      <td>ssatd</td>\n",
       "    </tr>\n",
       "    <tr>\n",
       "      <th>1</th>\n",
       "      <td>COESITE</td>\n",
       "      <td>0.156</td>\n",
       "      <td>0.552</td>\n",
       "      <td>ssatd</td>\n",
       "    </tr>\n",
       "  </tbody>\n",
       "</table>\n",
       "</div>"
      ],
      "text/plain": [
       "   mineral  log_q_k    aff  state\n",
       "0   QUARTZ    0.447  1.582  ssatd\n",
       "1  COESITE    0.156  0.552  ssatd"
      ]
     },
     "execution_count": 11,
     "metadata": {},
     "output_type": "execute_result"
    }
   ],
   "source": [
    "dew_fluid.mineral_saturation"
   ]
  },
  {
   "cell_type": "markdown",
   "metadata": {},
   "source": [
    "Unsurprisingly, yes!\n",
    "\n",
    "\n",
    "### Redox sensitive equilibria- specified fO2\n",
    "Most natural chemical systems will be sensitive to fO2. We may want to do calculations at a specified fO2, and we can run many calculations to explore the effect of fO2. Here I will demonstrate this with a system involving Fe.\n",
    "\n",
    "Let's set up the fluid composition:"
   ]
  },
  {
   "cell_type": "code",
   "execution_count": 12,
   "metadata": {},
   "outputs": [],
   "source": [
    "molalities = {'FE+2':0.001}\n",
    "T = 500.0 + 273.15 # in K\n",
    "P = 17000.0 # in bar"
   ]
  },
  {
   "cell_type": "markdown",
   "metadata": {},
   "source": [
    "And we can run the calculations over a range of log(fO2):"
   ]
  },
  {
   "cell_type": "code",
   "execution_count": 13,
   "metadata": {},
   "outputs": [],
   "source": [
    "fO2 = np.linspace(-30,-5,12)"
   ]
  },
  {
   "cell_type": "markdown",
   "metadata": {},
   "source": [
    "This means we need to run the calculations with a loop and store the results:"
   ]
  },
  {
   "cell_type": "code",
   "execution_count": 14,
   "metadata": {},
   "outputs": [],
   "source": [
    "results = []\n",
    "for i in range(len(fO2)):\n",
    "    dew_fluid = pyQ3.Fluid(dew_system,T,P,molalities=molalities,fO2=fO2[i])\n",
    "    results.append(dew_fluid)"
   ]
  },
  {
   "cell_type": "markdown",
   "metadata": {},
   "source": [
    "Let's make a plot of iron speciation:"
   ]
  },
  {
   "cell_type": "code",
   "execution_count": 15,
   "metadata": {},
   "outputs": [
    {
     "data": {
      "image/png": "[encoded data removed]",
      "text/plain": [
       "<Figure size 432x288 with 1 Axes>"
      ]
     },
     "metadata": {
      "needs_background": "light"
     },
     "output_type": "display_data"
    }
   ],
   "source": [
    "species_to_plot = ['FE+2','FE+3','FE(OH)+','FE(OH)2(AQ)']\n",
    "\n",
    "# Initiate the plot\n",
    "f,a = plt.subplots()\n",
    "\n",
    "for sp in species_to_plot:\n",
    "    mol = []\n",
    "    for i in range(len(fO2)):\n",
    "        mol.append(float(results[i].aqueous_species[results[i].aqueous_species.species==sp].molality))\n",
    "    a.plot(fO2,mol,label=sp)\n",
    "\n",
    "a.set_yscale('log')\n",
    "\n",
    "a.set_xlabel('log fO2')\n",
    "a.set_ylabel('molality')\n",
    "    \n",
    "a.legend()\n",
    "plt.show()"
   ]
  },
  {
   "cell_type": "markdown",
   "metadata": {},
   "source": [
    "In Tutorial 3 we will set the fO2 by mineral equilibrium."
   ]
  },
  {
   "cell_type": "markdown",
   "metadata": {},
   "source": [
    "## Controlling the pH\n",
    "\n",
    "Perhaps we want to calculate speciation at a specified pH. Usually the pH is set by charge balance, so we will need to tell the code what to use in its place to ensure charge balance."
   ]
  },
  {
   "cell_type": "code",
   "execution_count": 16,
   "metadata": {},
   "outputs": [],
   "source": [
    "molalities = {'NA+':0.1,\n",
    "              'CL-': 0.1,\n",
    "              'H4SIO4(AQ)':0.5}\n",
    "T = 500.0 + 273.15 # in K\n",
    "P = 8500.0 # in bar"
   ]
  },
  {
   "cell_type": "markdown",
   "metadata": {},
   "source": [
    "Just like in the previous example we can run it over a range of pH, and see what happens for the speciation:"
   ]
  },
  {
   "cell_type": "code",
   "execution_count": 17,
   "metadata": {},
   "outputs": [],
   "source": [
    "pH = np.linspace(2.0,8.0,20)"
   ]
  },
  {
   "cell_type": "code",
   "execution_count": 18,
   "metadata": {},
   "outputs": [],
   "source": [
    "results = []\n",
    "for i in range(len(pH)):\n",
    "    dew_fluid = pyQ3.Fluid(dew_system,T,P,molalities=molalities,pH=pH[i],uebal='NA+')\n",
    "    results.append(dew_fluid)"
   ]
  },
  {
   "cell_type": "code",
   "execution_count": 19,
   "metadata": {},
   "outputs": [
    {
     "data": {
      "image/png": "[encoded data removed]",
      "text/plain": [
       "<Figure size 432x288 with 1 Axes>"
      ]
     },
     "metadata": {
      "needs_background": "light"
     },
     "output_type": "display_data"
    }
   ],
   "source": [
    "species_to_plot = ['H4SIO4(AQ)','H6SI2O7(AQ)','H8SI3O10(AQ)','H3SIO4-']\n",
    "\n",
    "# Initiate the plot\n",
    "f,a = plt.subplots()\n",
    "\n",
    "for sp in species_to_plot:\n",
    "    mol = []\n",
    "    for i in range(len(pH)):\n",
    "        mol.append(float(results[i].aqueous_species[results[i].aqueous_species.species==sp].molality))\n",
    "    a.plot(pH,mol,label=sp)\n",
    "\n",
    "a.set_yscale('log')\n",
    "\n",
    "a.set_xlabel('pH')\n",
    "a.set_ylabel('molality')\n",
    "    \n",
    "a.legend()\n",
    "plt.show()"
   ]
  },
  {
   "cell_type": "markdown",
   "metadata": {},
   "source": [
    "**NOTE: You can save the figures using the command f.save_fig('filename.ext') where ext is the extension for the format you want, e.g. png, pdf, or svg. You can also change all sorts of things with the plots- look up the matplotlib documentation for more info**"
   ]
  },
  {
   "cell_type": "code",
   "execution_count": null,
   "metadata": {},
   "outputs": [],
   "source": []
  }
 ],
 "metadata": {
  "kernelspec": {
   "display_name": "Python 3",
   "language": "python",
   "name": "python3"
  },
  "language_info": {
   "codemirror_mode": {
    "name": "ipython",
    "version": 3
   },
   "file_extension": ".py",
   "mimetype": "text/x-python",
   "name": "python",
   "nbconvert_exporter": "python",
   "pygments_lexer": "ipython3",
   "version": "3.7.6"
  }
 },
 "nbformat": 4,
 "nbformat_minor": 4
}
