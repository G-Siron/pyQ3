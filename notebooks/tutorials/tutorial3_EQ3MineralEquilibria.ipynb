{
 "cells": [
  {
   "cell_type": "markdown",
   "metadata": {},
   "source": [
    "# Demonstration of pyQ3 python wrapper for DEW-ENKI-EQ3 aqueous speciation calculations - TUTORIAL 3\n",
    "**Important: before running any calculations you must have a compiled set of DEW species objects. If you are running this on your own machine you should run the import_DEW.ipynb notebook before running this one.**\n",
    "\n",
    "First import the required packages:"
   ]
  },
  {
   "cell_type": "code",
   "execution_count": 2,
   "metadata": {},
   "outputs": [],
   "source": [
    "import numpy as np\n",
    "import matplotlib.pyplot as plt\n",
    "import pyQ3"
   ]
  },
  {
   "cell_type": "markdown",
   "metadata": {},
   "source": [
    "## Calculate fluid composition and speciation for a fluid in equilibrium with a rock\n",
    "\n",
    "More realistic calculations involve equilibrium with minerals. Every element in the system that is not directly specified by molality must be specified by equilibrium with a mineral or solid solution. fO2 and pH are set to a default value or by charge balance unless directly specified.\n",
    "\n",
    "### Quartz solubility in brine\n",
    "\n",
    "Create an instance of the default system"
   ]
  },
  {
   "cell_type": "code",
   "execution_count": 3,
   "metadata": {},
   "outputs": [],
   "source": [
    "dew_system = pyQ3.System()"
   ]
  },
  {
   "cell_type": "markdown",
   "metadata": {},
   "source": [
    "Set up the elements of the fluid not constrained by mineral equilibria:"
   ]
  },
  {
   "cell_type": "code",
   "execution_count": 5,
   "metadata": {},
   "outputs": [],
   "source": [
    "molalities = {'NA+':0.05,\n",
    "              'CL-':0.05,\n",
    "              }\n",
    "T = 300.0 + 273.15 # in K\n",
    "P = 10000.0 # in bar"
   ]
  },
  {
   "cell_type": "markdown",
   "metadata": {},
   "source": [
    "Tell EQ3 to set the Si content of the solution by equilibrium with Quartz:"
   ]
  },
  {
   "cell_type": "code",
   "execution_count": 6,
   "metadata": {},
   "outputs": [],
   "source": [
    "mineral_eq = {'SIO2(AQ)':'QUARTZ'}"
   ]
  },
  {
   "cell_type": "markdown",
   "metadata": {},
   "source": [
    "Create the fluid:"
   ]
  },
  {
   "cell_type": "code",
   "execution_count": 7,
   "metadata": {},
   "outputs": [],
   "source": [
    "dew_fluid = pyQ3.Fluid(dew_system,T,P,molalities=molalities,mineral_eq=mineral_eq)"
   ]
  },
  {
   "cell_type": "markdown",
   "metadata": {},
   "source": [
    "First we can check that quartz is the stable mineral phase at these conditions:"
   ]
  },
  {
   "cell_type": "code",
   "execution_count": 8,
   "metadata": {},
   "outputs": [
    {
     "data": {
      "text/html": [
       "<div>\n",
       "<style scoped>\n",
       "    .dataframe tbody tr th:only-of-type {\n",
       "        vertical-align: middle;\n",
       "    }\n",
       "\n",
       "    .dataframe tbody tr th {\n",
       "        vertical-align: top;\n",
       "    }\n",
       "\n",
       "    .dataframe thead th {\n",
       "        text-align: right;\n",
       "    }\n",
       "</style>\n",
       "<table border=\"1\" class=\"dataframe\">\n",
       "  <thead>\n",
       "    <tr style=\"text-align: right;\">\n",
       "      <th></th>\n",
       "      <th>mineral</th>\n",
       "      <th>log_q_k</th>\n",
       "      <th>aff</th>\n",
       "      <th>state</th>\n",
       "    </tr>\n",
       "  </thead>\n",
       "  <tbody>\n",
       "    <tr>\n",
       "      <th>0</th>\n",
       "      <td>QUARTZ</td>\n",
       "      <td>0.000</td>\n",
       "      <td>0.000</td>\n",
       "      <td>satd</td>\n",
       "    </tr>\n",
       "    <tr>\n",
       "      <th>1</th>\n",
       "      <td>COESITE</td>\n",
       "      <td>-0.322</td>\n",
       "      <td>-0.845</td>\n",
       "      <td>NaN</td>\n",
       "    </tr>\n",
       "  </tbody>\n",
       "</table>\n",
       "</div>"
      ],
      "text/plain": [
       "   mineral  log_q_k    aff state\n",
       "0   QUARTZ    0.000  0.000  satd\n",
       "1  COESITE   -0.322 -0.845   NaN"
      ]
     },
     "execution_count": 8,
     "metadata": {},
     "output_type": "execute_result"
    }
   ],
   "source": [
    "dew_fluid.mineral_saturation"
   ]
  },
  {
   "cell_type": "markdown",
   "metadata": {},
   "source": [
    "Coesite is not stable, and there are no other SiO2 minerals in the system. Let's look at the dissolved Si content of the solution:"
   ]
  },
  {
   "cell_type": "code",
   "execution_count": 10,
   "metadata": {},
   "outputs": [
    {
     "data": {
      "text/html": [
       "<div>\n",
       "<style scoped>\n",
       "    .dataframe tbody tr th:only-of-type {\n",
       "        vertical-align: middle;\n",
       "    }\n",
       "\n",
       "    .dataframe tbody tr th {\n",
       "        vertical-align: top;\n",
       "    }\n",
       "\n",
       "    .dataframe thead th {\n",
       "        text-align: right;\n",
       "    }\n",
       "</style>\n",
       "<table border=\"1\" class=\"dataframe\">\n",
       "  <thead>\n",
       "    <tr style=\"text-align: right;\">\n",
       "      <th></th>\n",
       "      <th>element</th>\n",
       "      <th>ppm</th>\n",
       "      <th>molality</th>\n",
       "    </tr>\n",
       "  </thead>\n",
       "  <tbody>\n",
       "    <tr>\n",
       "      <th>0</th>\n",
       "      <td>O</td>\n",
       "      <td>889218.8788</td>\n",
       "      <td>.5557826411E+02</td>\n",
       "    </tr>\n",
       "    <tr>\n",
       "      <th>1</th>\n",
       "      <td>H</td>\n",
       "      <td>111963.3722</td>\n",
       "      <td>.1110857944E+03</td>\n",
       "    </tr>\n",
       "    <tr>\n",
       "      <th>2</th>\n",
       "      <td>SI</td>\n",
       "      <td>496.6487</td>\n",
       "      <td>.1768345440E-01</td>\n",
       "    </tr>\n",
       "    <tr>\n",
       "      <th>3</th>\n",
       "      <td>CL</td>\n",
       "      <td>1772.6500</td>\n",
       "      <td>.5000000000E-01</td>\n",
       "    </tr>\n",
       "    <tr>\n",
       "      <th>4</th>\n",
       "      <td>NA</td>\n",
       "      <td>1149.4885</td>\n",
       "      <td>.5000000000E-01</td>\n",
       "    </tr>\n",
       "  </tbody>\n",
       "</table>\n",
       "</div>"
      ],
      "text/plain": [
       "  element          ppm         molality\n",
       "0       O  889218.8788  .5557826411E+02\n",
       "1       H  111963.3722  .1110857944E+03\n",
       "2      SI     496.6487  .1768345440E-01\n",
       "3      CL    1772.6500  .5000000000E-01\n",
       "4      NA    1149.4885  .5000000000E-01"
      ]
     },
     "execution_count": 10,
     "metadata": {},
     "output_type": "execute_result"
    }
   ],
   "source": [
    "dew_fluid.elemental_comp"
   ]
  },
  {
   "cell_type": "markdown",
   "metadata": {},
   "source": [
    "But in what species is the Si dissolved?"
   ]
  },
  {
   "cell_type": "code",
   "execution_count": 11,
   "metadata": {},
   "outputs": [
    {
     "data": {
      "text/html": [
       "<div>\n",
       "<style scoped>\n",
       "    .dataframe tbody tr th:only-of-type {\n",
       "        vertical-align: middle;\n",
       "    }\n",
       "\n",
       "    .dataframe tbody tr th {\n",
       "        vertical-align: top;\n",
       "    }\n",
       "\n",
       "    .dataframe thead th {\n",
       "        text-align: right;\n",
       "    }\n",
       "</style>\n",
       "<table border=\"1\" class=\"dataframe\">\n",
       "  <thead>\n",
       "    <tr style=\"text-align: right;\">\n",
       "      <th></th>\n",
       "      <th>species</th>\n",
       "      <th>molality</th>\n",
       "      <th>log_g</th>\n",
       "      <th>activity</th>\n",
       "    </tr>\n",
       "  </thead>\n",
       "  <tbody>\n",
       "    <tr>\n",
       "      <th>0</th>\n",
       "      <td>NA+</td>\n",
       "      <td>4.955004e-02</td>\n",
       "      <td>-0.0921</td>\n",
       "      <td>4.008000e-02</td>\n",
       "    </tr>\n",
       "    <tr>\n",
       "      <th>1</th>\n",
       "      <td>CL-</td>\n",
       "      <td>4.954867e-02</td>\n",
       "      <td>-0.0921</td>\n",
       "      <td>4.008000e-02</td>\n",
       "    </tr>\n",
       "    <tr>\n",
       "      <th>2</th>\n",
       "      <td>SIO2(AQ)</td>\n",
       "      <td>1.524053e-02</td>\n",
       "      <td>0.0000</td>\n",
       "      <td>1.524000e-02</td>\n",
       "    </tr>\n",
       "    <tr>\n",
       "      <th>3</th>\n",
       "      <td>SI2O4(AQ)</td>\n",
       "      <td>1.208975e-03</td>\n",
       "      <td>0.0000</td>\n",
       "      <td>1.209000e-03</td>\n",
       "    </tr>\n",
       "    <tr>\n",
       "      <th>4</th>\n",
       "      <td>NACL(AQ)</td>\n",
       "      <td>4.487682e-04</td>\n",
       "      <td>0.0000</td>\n",
       "      <td>4.488000e-04</td>\n",
       "    </tr>\n",
       "    <tr>\n",
       "      <th>5</th>\n",
       "      <td>H+</td>\n",
       "      <td>8.011735e-05</td>\n",
       "      <td>-0.0921</td>\n",
       "      <td>6.481000e-05</td>\n",
       "    </tr>\n",
       "    <tr>\n",
       "      <th>6</th>\n",
       "      <td>OH-</td>\n",
       "      <td>5.651803e-05</td>\n",
       "      <td>-0.0921</td>\n",
       "      <td>4.572000e-05</td>\n",
       "    </tr>\n",
       "    <tr>\n",
       "      <th>7</th>\n",
       "      <td>HSIO3-</td>\n",
       "      <td>2.497210e-05</td>\n",
       "      <td>-0.0921</td>\n",
       "      <td>2.020000e-05</td>\n",
       "    </tr>\n",
       "    <tr>\n",
       "      <th>8</th>\n",
       "      <td>HCL(AQ)</td>\n",
       "      <td>2.566052e-06</td>\n",
       "      <td>0.0000</td>\n",
       "      <td>2.566000e-06</td>\n",
       "    </tr>\n",
       "    <tr>\n",
       "      <th>9</th>\n",
       "      <td>NAOH(AQ)</td>\n",
       "      <td>1.193273e-06</td>\n",
       "      <td>0.0000</td>\n",
       "      <td>1.193000e-06</td>\n",
       "    </tr>\n",
       "    <tr>\n",
       "      <th>10</th>\n",
       "      <td>SI3O6(AQ)</td>\n",
       "      <td>1.667760e-09</td>\n",
       "      <td>0.0000</td>\n",
       "      <td>1.668000e-09</td>\n",
       "    </tr>\n",
       "    <tr>\n",
       "      <th>11</th>\n",
       "      <td>H2(AQ)</td>\n",
       "      <td>2.415665e-15</td>\n",
       "      <td>0.0000</td>\n",
       "      <td>2.416000e-15</td>\n",
       "    </tr>\n",
       "    <tr>\n",
       "      <th>12</th>\n",
       "      <td>O2(AQ)</td>\n",
       "      <td>1.406955e-18</td>\n",
       "      <td>0.0000</td>\n",
       "      <td>1.407000e-18</td>\n",
       "    </tr>\n",
       "  </tbody>\n",
       "</table>\n",
       "</div>"
      ],
      "text/plain": [
       "      species      molality   log_g      activity\n",
       "0         NA+  4.955004e-02 -0.0921  4.008000e-02\n",
       "1         CL-  4.954867e-02 -0.0921  4.008000e-02\n",
       "2    SIO2(AQ)  1.524053e-02  0.0000  1.524000e-02\n",
       "3   SI2O4(AQ)  1.208975e-03  0.0000  1.209000e-03\n",
       "4    NACL(AQ)  4.487682e-04  0.0000  4.488000e-04\n",
       "5          H+  8.011735e-05 -0.0921  6.481000e-05\n",
       "6         OH-  5.651803e-05 -0.0921  4.572000e-05\n",
       "7      HSIO3-  2.497210e-05 -0.0921  2.020000e-05\n",
       "8     HCL(AQ)  2.566052e-06  0.0000  2.566000e-06\n",
       "9    NAOH(AQ)  1.193273e-06  0.0000  1.193000e-06\n",
       "10  SI3O6(AQ)  1.667760e-09  0.0000  1.668000e-09\n",
       "11     H2(AQ)  2.415665e-15  0.0000  2.416000e-15\n",
       "12     O2(AQ)  1.406955e-18  0.0000  1.407000e-18"
      ]
     },
     "execution_count": 11,
     "metadata": {},
     "output_type": "execute_result"
    }
   ],
   "source": [
    "dew_fluid.aqueous_species"
   ]
  },
  {
   "cell_type": "markdown",
   "metadata": {},
   "source": [
    "And what's the pH?"
   ]
  },
  {
   "cell_type": "code",
   "execution_count": 12,
   "metadata": {},
   "outputs": [
    {
     "data": {
      "text/plain": [
       "4.1884"
      ]
     },
     "execution_count": 12,
     "metadata": {},
     "output_type": "execute_result"
    }
   ],
   "source": [
    "dew_fluid.pH"
   ]
  },
  {
   "cell_type": "markdown",
   "metadata": {},
   "source": [
    "### A fluid in equilibrium with Fayalite-Magnetite-Quartz fO2 buffer\n",
    "\n",
    "In this example we will allow the fO2 of the fluid to be set by equilibrium with a mineral assemblage. The system involves both Fe and Si, so both of these must also be set:"
   ]
  },
  {
   "cell_type": "code",
   "execution_count": 13,
   "metadata": {},
   "outputs": [],
   "source": [
    "mineral_eq = {'SIO2(AQ)':'QUARTZ',\n",
    "              'FE+2':'FAYALITE',\n",
    "              'O2':'MAGNETITE'}\n",
    "T = 300.0 + 273.15 # in K\n",
    "P = 10000.0 # in bar"
   ]
  },
  {
   "cell_type": "markdown",
   "metadata": {},
   "source": [
    "This time we won't add any NaCl."
   ]
  },
  {
   "cell_type": "code",
   "execution_count": 14,
   "metadata": {},
   "outputs": [],
   "source": [
    "dew_fluid = pyQ3.Fluid(dew_system, T, P, mineral_eq = mineral_eq)"
   ]
  },
  {
   "cell_type": "markdown",
   "metadata": {},
   "source": [
    "Hopefully the code has correctly identified that the fO2 is being set by mineral equilibria, and so it hasn't used the abitrary value, let's check:"
   ]
  },
  {
   "cell_type": "code",
   "execution_count": 15,
   "metadata": {},
   "outputs": [
    {
     "data": {
      "text/plain": [
       "-34.525"
      ]
     },
     "execution_count": 15,
     "metadata": {},
     "output_type": "execute_result"
    }
   ],
   "source": [
    "dew_fluid.fO2"
   ]
  },
  {
   "cell_type": "markdown",
   "metadata": {},
   "source": [
    "Let's check if any other minerals are saturated:"
   ]
  },
  {
   "cell_type": "code",
   "execution_count": 16,
   "metadata": {},
   "outputs": [
    {
     "data": {
      "text/html": [
       "<div>\n",
       "<style scoped>\n",
       "    .dataframe tbody tr th:only-of-type {\n",
       "        vertical-align: middle;\n",
       "    }\n",
       "\n",
       "    .dataframe tbody tr th {\n",
       "        vertical-align: top;\n",
       "    }\n",
       "\n",
       "    .dataframe thead th {\n",
       "        text-align: right;\n",
       "    }\n",
       "</style>\n",
       "<table border=\"1\" class=\"dataframe\">\n",
       "  <thead>\n",
       "    <tr style=\"text-align: right;\">\n",
       "      <th></th>\n",
       "      <th>mineral</th>\n",
       "      <th>log_q_k</th>\n",
       "      <th>aff</th>\n",
       "      <th>state</th>\n",
       "    </tr>\n",
       "  </thead>\n",
       "  <tbody>\n",
       "    <tr>\n",
       "      <th>0</th>\n",
       "      <td>MAGNETITE</td>\n",
       "      <td>0.000</td>\n",
       "      <td>0.000</td>\n",
       "      <td>satd</td>\n",
       "    </tr>\n",
       "    <tr>\n",
       "      <th>1</th>\n",
       "      <td>HEMATITE</td>\n",
       "      <td>-0.775</td>\n",
       "      <td>-2.031</td>\n",
       "      <td>NaN</td>\n",
       "    </tr>\n",
       "    <tr>\n",
       "      <th>2</th>\n",
       "      <td>FAYALITE</td>\n",
       "      <td>0.000</td>\n",
       "      <td>0.000</td>\n",
       "      <td>satd</td>\n",
       "    </tr>\n",
       "    <tr>\n",
       "      <th>3</th>\n",
       "      <td>FERROSILITE</td>\n",
       "      <td>-0.015</td>\n",
       "      <td>-0.039</td>\n",
       "      <td>satd</td>\n",
       "    </tr>\n",
       "    <tr>\n",
       "      <th>4</th>\n",
       "      <td>QUARTZ</td>\n",
       "      <td>0.000</td>\n",
       "      <td>0.000</td>\n",
       "      <td>satd</td>\n",
       "    </tr>\n",
       "    <tr>\n",
       "      <th>5</th>\n",
       "      <td>COESITE</td>\n",
       "      <td>-0.322</td>\n",
       "      <td>-0.845</td>\n",
       "      <td>NaN</td>\n",
       "    </tr>\n",
       "  </tbody>\n",
       "</table>\n",
       "</div>"
      ],
      "text/plain": [
       "       mineral  log_q_k    aff state\n",
       "0    MAGNETITE    0.000  0.000  satd\n",
       "1     HEMATITE   -0.775 -2.031   NaN\n",
       "2     FAYALITE    0.000  0.000  satd\n",
       "3  FERROSILITE   -0.015 -0.039  satd\n",
       "4       QUARTZ    0.000  0.000  satd\n",
       "5      COESITE   -0.322 -0.845   NaN"
      ]
     },
     "execution_count": 16,
     "metadata": {},
     "output_type": "execute_result"
    }
   ],
   "source": [
    "dew_fluid.mineral_saturation"
   ]
  },
  {
   "cell_type": "markdown",
   "metadata": {},
   "source": [
    "Ferrosilite is saturated. Perhaps this isn't a surprise that the FMQ buffer isn't stable everywhere, but is instead a useful reference point...\n",
    "\n",
    "### Fluids in equilibrium with solid solutions\n",
    "\n",
    "We can see what the chemistry of a fluid in equilibrium with a fictional harzburgite. First let's see what the default solid solutions built into the module are:"
   ]
  },
  {
   "cell_type": "code",
   "execution_count": 17,
   "metadata": {},
   "outputs": [
    {
     "data": {
      "text/plain": [
       "{'K-FELDSPAR(SS)': ['POTASSIUM_FEL', 'ALBITE'],\n",
       " 'PLAGIOCLASE(SS)': ['ALBITE', 'ANORTHITE'],\n",
       " 'ORTHOPYROXENE(SS)': ['ORTHOENSTATIT', 'FERROSILITE'],\n",
       " 'OLIVINE(SS)': ['FORSTERITE', 'FAYALITE'],\n",
       " 'GARNET(SS)': ['PYROPE', 'ALMANDINE', 'GROSSULAR'],\n",
       " 'CLINOPYROXENE(SS)': ['DIOPSIDE', 'JADEITE']}"
      ]
     },
     "execution_count": 17,
     "metadata": {},
     "output_type": "execute_result"
    }
   ],
   "source": [
    "pyQ3.defaultsystem.solid_solutions"
   ]
  },
  {
   "cell_type": "markdown",
   "metadata": {},
   "source": [
    "Similarly to the pure mineral equilibria, we set the species by equilibrium in the mineral_eq variable, but this time we use a list containing the name of the solid solution, and the name of the endmember."
   ]
  },
  {
   "cell_type": "code",
   "execution_count": 33,
   "metadata": {},
   "outputs": [],
   "source": [
    "mineral_eq = {'SIO2(AQ)': ['ORTHOPYROXENE(SS)','ORTHOENSTATIT'],\n",
    "              'FE+2': ['OLIVINE(SS)','FAYALITE'],\n",
    "              'MG+2': ['OLIVINE(SS)','FORSTERITE'],\n",
    "              'O2':'MAGNETITE'}"
   ]
  },
  {
   "cell_type": "markdown",
   "metadata": {},
   "source": [
    "We must also specify the solid solution composition of the rock, using a dictionary of dictionaries:"
   ]
  },
  {
   "cell_type": "code",
   "execution_count": 34,
   "metadata": {},
   "outputs": [],
   "source": [
    "solid_solutions = {'OLIVINE(SS)':{'FORSTERITE':0.9,\n",
    "                                  'FAYALITE': 0.1},\n",
    "                   'ORTHOPYROXENE(SS)':{'ORTHOENSTATIT':0.8,\n",
    "                                        'FERROSILITE':0.2}}"
   ]
  },
  {
   "cell_type": "markdown",
   "metadata": {},
   "source": [
    "Let's generate the fluid."
   ]
  },
  {
   "cell_type": "code",
   "execution_count": 35,
   "metadata": {},
   "outputs": [
    {
     "name": "stderr",
     "output_type": "stream",
     "text": [
      "/Users/simonmatthews/repos/pyQ3/pyQ3/output.py:150: DeprecationWarning: The default dtype for empty Series will be 'object' instead of 'float64' in a future version. Specify a dtype explicitly to silence this warning.\n",
      "  ss_info = pd.Series()\n"
     ]
    }
   ],
   "source": [
    "T = 300.0 + 273.15 # in K\n",
    "P = 10000.0 # in bar\n",
    "dew_fluid = pyQ3.Fluid(dew_system,T,P,mineral_eq=mineral_eq, solid_solutions=solid_solutions)"
   ]
  },
  {
   "cell_type": "markdown",
   "metadata": {},
   "source": [
    "How much Mg, Fe, and Si are dissolved in the fluid?"
   ]
  },
  {
   "cell_type": "code",
   "execution_count": 36,
   "metadata": {},
   "outputs": [
    {
     "data": {
      "text/html": [
       "<div>\n",
       "<style scoped>\n",
       "    .dataframe tbody tr th:only-of-type {\n",
       "        vertical-align: middle;\n",
       "    }\n",
       "\n",
       "    .dataframe tbody tr th {\n",
       "        vertical-align: top;\n",
       "    }\n",
       "\n",
       "    .dataframe thead th {\n",
       "        text-align: right;\n",
       "    }\n",
       "</style>\n",
       "<table border=\"1\" class=\"dataframe\">\n",
       "  <thead>\n",
       "    <tr style=\"text-align: right;\">\n",
       "      <th></th>\n",
       "      <th>element</th>\n",
       "      <th>ppm</th>\n",
       "      <th>molality</th>\n",
       "    </tr>\n",
       "  </thead>\n",
       "  <tbody>\n",
       "    <tr>\n",
       "      <th>0</th>\n",
       "      <td>O</td>\n",
       "      <td>888302.7236</td>\n",
       "      <td>.5552100226E+02</td>\n",
       "    </tr>\n",
       "    <tr>\n",
       "      <th>1</th>\n",
       "      <td>H</td>\n",
       "      <td>111906.8956</td>\n",
       "      <td>.1110297605E+03</td>\n",
       "    </tr>\n",
       "    <tr>\n",
       "      <th>2</th>\n",
       "      <td>SI</td>\n",
       "      <td>78.6747</td>\n",
       "      <td>.2801255501E-02</td>\n",
       "    </tr>\n",
       "    <tr>\n",
       "      <th>3</th>\n",
       "      <td>FE</td>\n",
       "      <td>.1229</td>\n",
       "      <td>.2200354084E-05</td>\n",
       "    </tr>\n",
       "    <tr>\n",
       "      <th>4</th>\n",
       "      <td>MG</td>\n",
       "      <td>14.9290</td>\n",
       "      <td>.6142373442E-03</td>\n",
       "    </tr>\n",
       "  </tbody>\n",
       "</table>\n",
       "</div>"
      ],
      "text/plain": [
       "  element          ppm         molality\n",
       "0       O  888302.7236  .5552100226E+02\n",
       "1       H  111906.8956  .1110297605E+03\n",
       "2      SI      78.6747  .2801255501E-02\n",
       "3      FE        .1229  .2200354084E-05\n",
       "4      MG      14.9290  .6142373442E-03"
      ]
     },
     "execution_count": 36,
     "metadata": {},
     "output_type": "execute_result"
    }
   ],
   "source": [
    "dew_fluid.elemental_comp"
   ]
  },
  {
   "cell_type": "markdown",
   "metadata": {},
   "source": [
    "And what species are present in the fluid?"
   ]
  },
  {
   "cell_type": "code",
   "execution_count": 37,
   "metadata": {},
   "outputs": [
    {
     "data": {
      "text/html": [
       "<div>\n",
       "<style scoped>\n",
       "    .dataframe tbody tr th:only-of-type {\n",
       "        vertical-align: middle;\n",
       "    }\n",
       "\n",
       "    .dataframe tbody tr th {\n",
       "        vertical-align: top;\n",
       "    }\n",
       "\n",
       "    .dataframe thead th {\n",
       "        text-align: right;\n",
       "    }\n",
       "</style>\n",
       "<table border=\"1\" class=\"dataframe\">\n",
       "  <thead>\n",
       "    <tr style=\"text-align: right;\">\n",
       "      <th></th>\n",
       "      <th>species</th>\n",
       "      <th>molality</th>\n",
       "      <th>log_g</th>\n",
       "      <th>activity</th>\n",
       "    </tr>\n",
       "  </thead>\n",
       "  <tbody>\n",
       "    <tr>\n",
       "      <th>0</th>\n",
       "      <td>SIO2(AQ)</td>\n",
       "      <td>2.644463e-03</td>\n",
       "      <td>0.0000</td>\n",
       "      <td>2.644000e-03</td>\n",
       "    </tr>\n",
       "    <tr>\n",
       "      <th>1</th>\n",
       "      <td>OH-</td>\n",
       "      <td>1.015305e-03</td>\n",
       "      <td>-0.0200</td>\n",
       "      <td>9.696000e-04</td>\n",
       "    </tr>\n",
       "    <tr>\n",
       "      <th>2</th>\n",
       "      <td>MG+2</td>\n",
       "      <td>4.728283e-04</td>\n",
       "      <td>-0.0801</td>\n",
       "      <td>3.932000e-04</td>\n",
       "    </tr>\n",
       "    <tr>\n",
       "      <th>3</th>\n",
       "      <td>MG(OH)+</td>\n",
       "      <td>1.352547e-04</td>\n",
       "      <td>-0.0200</td>\n",
       "      <td>1.292000e-04</td>\n",
       "    </tr>\n",
       "    <tr>\n",
       "      <th>4</th>\n",
       "      <td>H2(AQ)</td>\n",
       "      <td>9.695729e-05</td>\n",
       "      <td>0.0000</td>\n",
       "      <td>9.696000e-05</td>\n",
       "    </tr>\n",
       "    <tr>\n",
       "      <th>5</th>\n",
       "      <td>HSIO3-</td>\n",
       "      <td>7.783989e-05</td>\n",
       "      <td>-0.0200</td>\n",
       "      <td>7.433000e-05</td>\n",
       "    </tr>\n",
       "    <tr>\n",
       "      <th>6</th>\n",
       "      <td>SI2O4(AQ)</td>\n",
       "      <td>3.639923e-05</td>\n",
       "      <td>0.0000</td>\n",
       "      <td>3.640000e-05</td>\n",
       "    </tr>\n",
       "    <tr>\n",
       "      <th>7</th>\n",
       "      <td>MG(HSIO3)+</td>\n",
       "      <td>6.154304e-06</td>\n",
       "      <td>-0.0200</td>\n",
       "      <td>5.877000e-06</td>\n",
       "    </tr>\n",
       "    <tr>\n",
       "      <th>8</th>\n",
       "      <td>H+</td>\n",
       "      <td>3.200399e-06</td>\n",
       "      <td>-0.0200</td>\n",
       "      <td>3.056000e-06</td>\n",
       "    </tr>\n",
       "    <tr>\n",
       "      <th>9</th>\n",
       "      <td>FE(OH)+</td>\n",
       "      <td>1.175480e-06</td>\n",
       "      <td>-0.0200</td>\n",
       "      <td>1.123000e-06</td>\n",
       "    </tr>\n",
       "    <tr>\n",
       "      <th>10</th>\n",
       "      <td>FE+2</td>\n",
       "      <td>8.582864e-07</td>\n",
       "      <td>-0.0801</td>\n",
       "      <td>7.138000e-07</td>\n",
       "    </tr>\n",
       "    <tr>\n",
       "      <th>11</th>\n",
       "      <td>FEO(AQ)</td>\n",
       "      <td>1.538068e-07</td>\n",
       "      <td>0.0000</td>\n",
       "      <td>1.538000e-07</td>\n",
       "    </tr>\n",
       "    <tr>\n",
       "      <th>12</th>\n",
       "      <td>HFEO2-</td>\n",
       "      <td>1.278096e-08</td>\n",
       "      <td>-0.0200</td>\n",
       "      <td>1.221000e-08</td>\n",
       "    </tr>\n",
       "    <tr>\n",
       "      <th>13</th>\n",
       "      <td>SI3O6(AQ)</td>\n",
       "      <td>8.712562e-12</td>\n",
       "      <td>0.0000</td>\n",
       "      <td>8.713000e-12</td>\n",
       "    </tr>\n",
       "    <tr>\n",
       "      <th>14</th>\n",
       "      <td>FE+3</td>\n",
       "      <td>5.762357e-20</td>\n",
       "      <td>-0.1802</td>\n",
       "      <td>3.805000e-20</td>\n",
       "    </tr>\n",
       "    <tr>\n",
       "      <th>15</th>\n",
       "      <td>O2(AQ)</td>\n",
       "      <td>8.733584e-40</td>\n",
       "      <td>0.0000</td>\n",
       "      <td>8.734000e-40</td>\n",
       "    </tr>\n",
       "  </tbody>\n",
       "</table>\n",
       "</div>"
      ],
      "text/plain": [
       "       species      molality   log_g      activity\n",
       "0     SIO2(AQ)  2.644463e-03  0.0000  2.644000e-03\n",
       "1          OH-  1.015305e-03 -0.0200  9.696000e-04\n",
       "2         MG+2  4.728283e-04 -0.0801  3.932000e-04\n",
       "3      MG(OH)+  1.352547e-04 -0.0200  1.292000e-04\n",
       "4       H2(AQ)  9.695729e-05  0.0000  9.696000e-05\n",
       "5       HSIO3-  7.783989e-05 -0.0200  7.433000e-05\n",
       "6    SI2O4(AQ)  3.639923e-05  0.0000  3.640000e-05\n",
       "7   MG(HSIO3)+  6.154304e-06 -0.0200  5.877000e-06\n",
       "8           H+  3.200399e-06 -0.0200  3.056000e-06\n",
       "9      FE(OH)+  1.175480e-06 -0.0200  1.123000e-06\n",
       "10        FE+2  8.582864e-07 -0.0801  7.138000e-07\n",
       "11     FEO(AQ)  1.538068e-07  0.0000  1.538000e-07\n",
       "12      HFEO2-  1.278096e-08 -0.0200  1.221000e-08\n",
       "13   SI3O6(AQ)  8.712562e-12  0.0000  8.713000e-12\n",
       "14        FE+3  5.762357e-20 -0.1802  3.805000e-20\n",
       "15      O2(AQ)  8.733584e-40  0.0000  8.734000e-40"
      ]
     },
     "execution_count": 37,
     "metadata": {},
     "output_type": "execute_result"
    }
   ],
   "source": [
    "dew_fluid.aqueous_species"
   ]
  },
  {
   "cell_type": "markdown",
   "metadata": {},
   "source": [
    "The pH?"
   ]
  },
  {
   "cell_type": "code",
   "execution_count": 38,
   "metadata": {},
   "outputs": [
    {
     "data": {
      "text/plain": [
       "5.5148"
      ]
     },
     "execution_count": 38,
     "metadata": {},
     "output_type": "execute_result"
    }
   ],
   "source": [
    "dew_fluid.pH"
   ]
  },
  {
   "cell_type": "markdown",
   "metadata": {},
   "source": [
    "Is this a feasible mineral assemblage?"
   ]
  },
  {
   "cell_type": "code",
   "execution_count": 39,
   "metadata": {},
   "outputs": [
    {
     "data": {
      "text/html": [
       "<div>\n",
       "<style scoped>\n",
       "    .dataframe tbody tr th:only-of-type {\n",
       "        vertical-align: middle;\n",
       "    }\n",
       "\n",
       "    .dataframe tbody tr th {\n",
       "        vertical-align: top;\n",
       "    }\n",
       "\n",
       "    .dataframe thead th {\n",
       "        text-align: right;\n",
       "    }\n",
       "</style>\n",
       "<table border=\"1\" class=\"dataframe\">\n",
       "  <thead>\n",
       "    <tr style=\"text-align: right;\">\n",
       "      <th></th>\n",
       "      <th>mineral</th>\n",
       "      <th>log_q_k</th>\n",
       "      <th>aff</th>\n",
       "      <th>state</th>\n",
       "    </tr>\n",
       "  </thead>\n",
       "  <tbody>\n",
       "    <tr>\n",
       "      <th>0</th>\n",
       "      <td>MAGNETITE</td>\n",
       "      <td>0</td>\n",
       "      <td>0</td>\n",
       "      <td>satd</td>\n",
       "    </tr>\n",
       "    <tr>\n",
       "      <th>1</th>\n",
       "      <td>HEMATITE</td>\n",
       "      <td>-0.655</td>\n",
       "      <td>-1.718</td>\n",
       "      <td>NaN</td>\n",
       "    </tr>\n",
       "    <tr>\n",
       "      <th>2</th>\n",
       "      <td>PERICLASE</td>\n",
       "      <td>-2.37</td>\n",
       "      <td>-6.216</td>\n",
       "      <td>NaN</td>\n",
       "    </tr>\n",
       "    <tr>\n",
       "      <th>3</th>\n",
       "      <td>BRUCITE</td>\n",
       "      <td>-0.405</td>\n",
       "      <td>-1.062</td>\n",
       "      <td>NaN</td>\n",
       "    </tr>\n",
       "    <tr>\n",
       "      <th>4</th>\n",
       "      <td>FORSTERITE</td>\n",
       "      <td>-0.046</td>\n",
       "      <td>-0.12</td>\n",
       "      <td>satd</td>\n",
       "    </tr>\n",
       "    <tr>\n",
       "      <th>5</th>\n",
       "      <td>FAYALITE</td>\n",
       "      <td>-1</td>\n",
       "      <td>-2.623</td>\n",
       "      <td>NaN</td>\n",
       "    </tr>\n",
       "    <tr>\n",
       "      <th>6</th>\n",
       "      <td>CHRYSOTILE</td>\n",
       "      <td>2.104</td>\n",
       "      <td>5.519</td>\n",
       "      <td>ssatd</td>\n",
       "    </tr>\n",
       "    <tr>\n",
       "      <th>7</th>\n",
       "      <td>CLINOENSTATI</td>\n",
       "      <td>-0.057</td>\n",
       "      <td>-0.149</td>\n",
       "      <td>satd</td>\n",
       "    </tr>\n",
       "    <tr>\n",
       "      <th>8</th>\n",
       "      <td>ORTHOENSTATI</td>\n",
       "      <td>-0.097</td>\n",
       "      <td>-0.254</td>\n",
       "      <td>satd</td>\n",
       "    </tr>\n",
       "    <tr>\n",
       "      <th>9</th>\n",
       "      <td>PROTOENSTATI</td>\n",
       "      <td>-0.27</td>\n",
       "      <td>-0.709</td>\n",
       "      <td>NaN</td>\n",
       "    </tr>\n",
       "    <tr>\n",
       "      <th>10</th>\n",
       "      <td>FERROSILITE</td>\n",
       "      <td>-0.895</td>\n",
       "      <td>-2.348</td>\n",
       "      <td>NaN</td>\n",
       "    </tr>\n",
       "    <tr>\n",
       "      <th>11</th>\n",
       "      <td>ANTHOPHYLLIT</td>\n",
       "      <td>0.6</td>\n",
       "      <td>1.573</td>\n",
       "      <td>ssatd</td>\n",
       "    </tr>\n",
       "    <tr>\n",
       "      <th>12</th>\n",
       "      <td>TALC</td>\n",
       "      <td>1.770</td>\n",
       "      <td>4.643</td>\n",
       "      <td>ssatd</td>\n",
       "    </tr>\n",
       "    <tr>\n",
       "      <th>13</th>\n",
       "      <td>QUARTZ</td>\n",
       "      <td>-0.761</td>\n",
       "      <td>-1.995</td>\n",
       "      <td>NaN</td>\n",
       "    </tr>\n",
       "    <tr>\n",
       "      <th>14</th>\n",
       "      <td>COESITE</td>\n",
       "      <td>-1.083</td>\n",
       "      <td>-2.84</td>\n",
       "      <td>NaN</td>\n",
       "    </tr>\n",
       "  </tbody>\n",
       "</table>\n",
       "</div>"
      ],
      "text/plain": [
       "         mineral log_q_k    aff  state\n",
       "0      MAGNETITE       0      0   satd\n",
       "1       HEMATITE  -0.655 -1.718    NaN\n",
       "2      PERICLASE   -2.37 -6.216    NaN\n",
       "3        BRUCITE  -0.405 -1.062    NaN\n",
       "4     FORSTERITE  -0.046  -0.12   satd\n",
       "5       FAYALITE      -1 -2.623    NaN\n",
       "6     CHRYSOTILE   2.104  5.519  ssatd\n",
       "7   CLINOENSTATI  -0.057 -0.149   satd\n",
       "8   ORTHOENSTATI  -0.097 -0.254   satd\n",
       "9   PROTOENSTATI   -0.27 -0.709    NaN\n",
       "10   FERROSILITE  -0.895 -2.348    NaN\n",
       "11  ANTHOPHYLLIT     0.6  1.573  ssatd\n",
       "12          TALC   1.770  4.643  ssatd\n",
       "13        QUARTZ  -0.761 -1.995    NaN\n",
       "14       COESITE  -1.083  -2.84    NaN"
      ]
     },
     "execution_count": 39,
     "metadata": {},
     "output_type": "execute_result"
    }
   ],
   "source": [
    "dew_fluid.mineral_saturation"
   ]
  },
  {
   "cell_type": "markdown",
   "metadata": {},
   "source": [
    "Well, it looks like a fluid infiltrating the rock will react with the mineral assemblage to form some hydrated phases... This seems likely to happen in reality! This could be a good starting point for an EQ6 reaction path calculation..."
   ]
  },
  {
   "cell_type": "code",
   "execution_count": null,
   "metadata": {},
   "outputs": [],
   "source": []
  }
 ],
 "metadata": {
  "kernelspec": {
   "display_name": "Python 3",
   "language": "python",
   "name": "python3"
  },
  "language_info": {
   "codemirror_mode": {
    "name": "ipython",
    "version": 3
   },
   "file_extension": ".py",
   "mimetype": "text/x-python",
   "name": "python",
   "nbconvert_exporter": "python",
   "pygments_lexer": "ipython3",
   "version": "3.7.6"
  }
 },
 "nbformat": 4,
 "nbformat_minor": 4
}
