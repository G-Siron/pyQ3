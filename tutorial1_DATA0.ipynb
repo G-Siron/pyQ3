{
 "cells": [
  {
   "cell_type": "markdown",
   "metadata": {},
   "source": [
    "# Demonstration of pyQ3 python wrapper for DEW-ENKI-EQ3 aqueous speciation calculations - TUTORIAL 1\n",
    "**Important: before running any calculations you must have a compiled set of DEW species objects. If you are running this on your own machine you should run the import_DEW.ipynb notebook before running this one.**\n",
    "\n",
    "First import the required packages:"
   ]
  },
  {
   "cell_type": "code",
   "execution_count": 25,
   "metadata": {},
   "outputs": [],
   "source": [
    "import numpy as np\n",
    "import matplotlib.pyplot as plt\n",
    "import pyQ3\n",
    "from thermoengine import model, phases, chem\n",
    "%run core.ipynb\n",
    "import dill"
   ]
  },
  {
   "cell_type": "markdown",
   "metadata": {},
   "source": [
    "## Create a custom DATA0 file\n",
    "One use for the code is to automatically create a customised DATA0 file for use with EQPT and EQ3 externally. This can use the full set of aqueous species, or a custom system can be specified.\n",
    "\n",
    "### Generic DATA0 file at a chosen pressure\n",
    "The DEW DATA0 files available online are for specific pressures, but pyQ3 allows DATA0 to be generated for any chosen pressure and any temperature range.\n",
    "\n",
    "First you must define the DEW system. To obtain the default species and minerals you do not need to specify anything when defining the system:"
   ]
  },
  {
   "cell_type": "code",
   "execution_count": 26,
   "metadata": {},
   "outputs": [],
   "source": [
    "dew_system = pyQ3.System()"
   ]
  },
  {
   "cell_type": "markdown",
   "metadata": {},
   "source": [
    "To generate the DATA0 file, you must call the create_data0() method. The temperature (in K) you supply will be the starting temperature of the file, and it will cover 350K in excess of this temperature. The pressure is constant."
   ]
  },
  {
   "cell_type": "code",
   "execution_count": 28,
   "metadata": {},
   "outputs": [],
   "source": [
    "T = 300.0 + 273.15 # in K\n",
    "P = 10000.0 # in bar\n",
    "dew_system.make_data0(T,P)"
   ]
  },
  {
   "cell_type": "markdown",
   "metadata": {},
   "source": [
    "The new DATA0 file will now be in the directory you are running the notebook in. Note that the nomenclature used for the species is not identical to that used in the published DATA0 files, instead it is closer to the nomenclature used in the DEW spreadsheet.\n",
    "\n",
    "### Create a customised DATA0 file - subsystem\n",
    "Perhaps you wish to add only a small selection of complexes, or you want to include some DEW complexes that aren't included by default. We can start by looking at which species, elements and minerals are included by default:"
   ]
  },
  {
   "cell_type": "code",
   "execution_count": 34,
   "metadata": {},
   "outputs": [
    {
     "name": "stdout",
     "output_type": "stream",
     "text": [
      "The elements included by default:\n",
      "['O', 'H', 'Ag', 'Al', 'Au', 'Ba', 'Ca', 'C', 'Si', 'Cl', 'S', 'Cd', 'N', 'Cr', 'Cs', 'Cu', 'Eu', 'F', 'Fe', 'P', 'Hg', 'K', 'Mg', 'Mn', 'Na', 'Pb', 'Sr', 'U', 'Zn']\n",
      "\n",
      "The basis species used by default:\n",
      "['H2O', 'H+', 'AG+', 'AL+3', 'AU+', 'BA+2', 'CA+2', 'CO2(AQ)', 'SIO2(AQ)', 'CL-', 'SO4-2', 'CD+2', 'N2(AQ)', 'CR+2', 'CS+', 'CU+', 'EU+2', 'F-', 'FE+2', 'H3PO4(AQ)', 'HG+2', 'K+', 'MG+2', 'MN+2', 'NA+', 'PB+2', 'SR+2', 'U+4', 'ZN+2', 'O2']\n",
      "\n",
      "All the species included by default:\n",
      "['ACETATE(AQ)', 'ACETIC(AQ)', 'AG+', 'AL+3', 'ALO2-', 'ALO2(SIO2)-', 'AU+', 'BA+2', 'CA(HCO3)+', 'CA(HCOO)+', 'CA(HSIO3)+', 'CA(OH)+', 'CA+2', 'CACL+', 'CACO3(AQ)', 'CASO4(AQ)', 'CD+2', 'CL-', 'CN-', 'CO(AQ)', 'CO2(AQ)', 'CO3-2', 'CR+2', 'CS+', 'CU+', 'CU+2', 'DIGLYCINE(AQ)', 'DIKETOPIP(AQ)', 'ETHANE(AQ)', 'ETHANOL(AQ)', 'ETHYLENE(AQ)', 'EU+2', 'F-', 'FE(HCOO)+', 'FE(OH)+', 'FE+2', 'FE+3', 'FECL+', 'FECL+2', 'FECL2(AQ)', 'FECL3(AQ)', 'FECL4-', 'FEO(AQ)', 'FORMATE(AQ)', 'FORMIC(AQ)', 'GLUTAMIC(AQ)', 'GLYCINE(AQ)', 'H+', 'H2(AQ)', 'H2CO3(AQ)', 'H2PO4-', 'H2S(AQ)', 'H3PO4(AQ)', 'HALO2(AQ)', 'HCL(AQ)', 'HCO3-', 'HFEO2-', 'HG+2', 'HG2+2', 'HPO4-2', 'HS-', 'HSIO3-', 'HSO4-', 'K+', 'KCL(AQ)', 'KOH(AQ)', 'KSO4-', 'METHANE(AQ)', 'METHANOL(AQ)', 'MG(HCO3)+', 'MG(HSIO3)+', 'MG+2', 'MGCL+', 'MGCO3(AQ)', 'MG(OH)+', 'MGSIO2HCO3+', 'MGSO4(AQ)', 'MN+2', 'N2(AQ)', 'NA+', 'NACL(AQ)', 'NACO3-', 'NAHCO3(AQ)', 'NAOH(AQ)', 'NH3(AQ)', 'NH4+', 'NO3-', 'O2(AQ)', 'OH-', 'PB+2', 'PROPANE(AQ)', 'PROPANOATE-', 'PROPANOL(AQ)', 'S3-', 'SI2O4(AQ)', 'SI3O6(AQ)', 'SIO2(AQ)', 'SO4-2', 'SR+2', 'SRCL+', 'U+4', 'UO2+2', 'UREA(AQ)', 'ZN+2']\n"
     ]
    }
   ],
   "source": [
    "print(\"The elements included by default:\")\n",
    "print(pyQ3.defaultsystem.elements)\n",
    "print(\"\\nThe basis species used by default:\")\n",
    "print(pyQ3.defaultsystem.basis_species_names)\n",
    "print(\"\\nAll the species included by default:\")\n",
    "print(pyQ3.defaultsystem.other_species_names)"
   ]
  },
  {
   "cell_type": "markdown",
   "metadata": {},
   "source": [
    "We can also see which minerals are included by default. However, note that we use mineral abbreviations, rather than mineral names, when setting up the DEW system:"
   ]
  },
  {
   "cell_type": "code",
   "execution_count": 35,
   "metadata": {},
   "outputs": [
    {
     "name": "stdout",
     "output_type": "stream",
     "text": [
      "['Ap', 'Mag', 'Crn', 'Hem', 'Per', 'Lm', 'Brc', 'Dsp', 'Cal', 'Mgs', 'And', 'Ky', 'Sil', 'Lws', 'Zo', 'cZo', 'Fo', 'Fa', 'Mtc', 'Mw', 'Ctl', 'cEn', 'En', 'pEn', 'Di', 'Jd', 'Fs', 'Wo', 'Tr', 'Ath', 'Crd', 'Or', 'Ab', 'An', 'Gh', 'Kln', 'Atg', 'Prl', 'Tlc', 'Ms', 'Phl', 'Pg', 'Prh', 'Clc', 'Prp', 'Alm', 'Grs', 'Mei', 'Qz', 'Coe']\n"
     ]
    }
   ],
   "source": [
    "print(pyQ3.defaultsystem.minerals)"
   ]
  },
  {
   "cell_type": "markdown",
   "metadata": {},
   "source": [
    "The solid solutions use the full mineral names. Note that the DATA0 can only have mineral and species names < 14 characters long. Some mineral names are automatically truncated:"
   ]
  },
  {
   "cell_type": "code",
   "execution_count": 37,
   "metadata": {},
   "outputs": [
    {
     "data": {
      "text/plain": [
       "{'K-FELDSPAR(SS)': ['POTASSIUM_FEL', 'ALBITE'],\n",
       " 'PLAGIOCLASE(SS)': ['ALBITE', 'ANORTHITE'],\n",
       " 'ORTHOPYROXENE(SS)': ['ORTHOENSTATIT', 'FERROSILITE'],\n",
       " 'OLIVINE(SS)': ['FORSTERITE', 'FAYALITE'],\n",
       " 'GARNET(SS)': ['PYROPE', 'ALMANDINE', 'GROSSULAR'],\n",
       " 'CLINOPYROXENE(SS)': ['DIOPSIDE', 'JADEITE']}"
      ]
     },
     "execution_count": 37,
     "metadata": {},
     "output_type": "execute_result"
    }
   ],
   "source": [
    "pyQ3.defaultsystem.solid_solutions"
   ]
  },
  {
   "cell_type": "markdown",
   "metadata": {},
   "source": [
    "But let's say we are only interested in calculating the solubility of quartz. We must define the system accordingly:"
   ]
  },
  {
   "cell_type": "code",
   "execution_count": 44,
   "metadata": {},
   "outputs": [],
   "source": [
    "elements = ['O','H','Si']\n",
    "basis_species = ['H2O','H+','SIO2(AQ)','O2']\n",
    "other_species = ['SI2O4(AQ)','SI3O6(AQ)','HSIO3-','O2(AQ)','OH-']\n",
    "minerals = ['Qz']\n",
    "solid_solutions = {}"
   ]
  },
  {
   "cell_type": "markdown",
   "metadata": {},
   "source": [
    "Note that H2O, H+ and O2 must be included in the basis species. OH- must be included in other_species."
   ]
  },
  {
   "cell_type": "code",
   "execution_count": 45,
   "metadata": {},
   "outputs": [],
   "source": [
    "dew_system = pyQ3.System(elements = elements,\n",
    "                         basis_species = basis_species,\n",
    "                         other_species = other_species,\n",
    "                         minerals = minerals,\n",
    "                         solid_solutions = solid_solutions)"
   ]
  },
  {
   "cell_type": "code",
   "execution_count": 47,
   "metadata": {},
   "outputs": [],
   "source": [
    "T = 300.0 + 273.15 # in K\n",
    "P = 8000.0 # in bar\n",
    "dew_system.make_data0(T,P)"
   ]
  },
  {
   "cell_type": "markdown",
   "metadata": {},
   "source": [
    "### Create a customised DATA0 file - other species\n",
    "Any species that exists within the DEW database can be added to the system as above, but how to tell what species are available? Well we can import the DEW database directly into the Jupyter notebook:"
   ]
  },
  {
   "cell_type": "code",
   "execution_count": 48,
   "metadata": {},
   "outputs": [
    {
     "name": "stdout",
     "output_type": "stream",
     "text": [
      "Number of species = 228\n"
     ]
    }
   ],
   "source": [
    "load_coder_modules(working_dir='dew2019_coderfiles')\n",
    "with open('DEW2019.pkl','rb') as file:\n",
    "    dewdb = dill.load(file)\n",
    "    file.close()\n",
    "print('Number of species = '+str(len(dewdb)))"
   ]
  },
  {
   "cell_type": "code",
   "execution_count": 51,
   "metadata": {},
   "outputs": [
    {
     "name": "stdout",
     "output_type": "stream",
     "text": [
      "ACETATE(AQ), ACETIC(AQ), AG+, AGCL(AQ), AGCL2-, AL+3, ALO2-, ALO2(SIO2)-, AR(AQ), AU+, \n",
      "AU+3, B(OH)3(AQ), BA+2, BACL+, BE+2, BENZENE(AQ), BO(OH)(AQ), BO2-, BR-, CA(HCO3)+, \n",
      "CA(HCOO)+, CA(HSIO3)+, CA(OH)+, CA+2, CACL+, CACL2(AQ), CACO3(AQ), CAO(AQ), CASO4(AQ), CD+2, \n",
      "CE+3, CE+4, CL-, CN-, CO(AQ), CO+2, CO+3, CO2(AQ), CO3-2, CR+2, \n",
      "CR+3, CR2O7-2, CRO4-2, CS+, CU+, CU+2, DIGLYCINE(AQ), DIKETOPIP(AQ), DY+3, ER+3, \n",
      "ETHANE(AQ), ETHANOL(AQ), ETHYLENE(AQ), EU+2, EU+3, F-, FE(CH3COO)+, FE(CH3COO)2(A, FE(HCOO)+, FE(HSIO3)+, \n",
      "FE(OH)+, FE+2, FE+3, FECL+, FECL+2, FECL2(AQ), FECL2+, FECL3(AQ), FECL4-, FEO(AQ), \n",
      "FORMATE(AQ), FORMIC(AQ), GA+3, GD+3, GLUTAMATE-, GLUTAMIC(AQ), GLUTAMINE(AQ), GLUTARATE-, GLUTARIC(AQ), GLYCINATE-, \n",
      "GLYCINE(AQ), GLYCOLATE-, GLYCOLIC(AQ), H-SUCCINA(AQ), H+, H2(AQ), H2ASO3-, H2ASO4-, H2CO3(AQ), H2P2O7-2, \n",
      "H2PO4-, H2S(AQ), H2VO4-, H3P207-, H3PO4(AQ), HALO2(AQ), HASO4-2, HCL(AQ), HCN(AQ), HCO3-, \n",
      "HCRO4-, HE(AQ), HEXANE(AQ), HFEO2-, HG+2, HG2+2, HO+3, HO2-, HPO4-2, HS-, \n",
      "HSE-, HSEO3-, HSEO4-, HSIO3-, HSO3-, HSO4-, HSO5-, HVO4-2, I-, IN+3, \n",
      "ISOBUTANE(AQ), K+, KCL(AQ), KOH(AQ), KR(AQ), KSO4-, LA+3, LACTATE-, LACTIC(AQ), LEUCINE(AQ), \n",
      "LI+, LU+3, METHANE(AQ), METHANOL(AQ), MG(HCO3)+, MG(HSIO3)+, MG+2, MGCL+, MGCO3(AQ), MGO(AQ), \n",
      "MG(OH)+, MGSIO2HCO3+, MGSO4(AQ), MN+2, MNCL+, MNO4-, MNO4-2, MNSO4(AQ), MOO4-2, N2(AQ), \n",
      "NA(AC)(AQ), NA(AC)2-, NA+, NACL(AQ), NACO3-, NAHCO3(AQ), NAHSIO3(AQ), NAOH(AQ), ND+3, NE(AQ), \n",
      "NH3(AQ), NH4+, NI+2, NO2-, NO3-, O2(AQ), OH-, PB+2, PBCL+, PBCL2(AQ), \n",
      "PBCL3-, PD+2, PO4-3, PR+3, PROPANE(AQ), PROPANOATE-, PROPANOIC(AQ), PROPANOL(AQ), RA+2, RB+, \n",
      "REO4-, RN(AQ), S2-2, S2O3-2, S2O4-2, S2O5-2, S2O6-2, S2O8-2, S3-, S3-2, \n",
      "S3O6-2, S4-2, S4O6-2, S5-2, S506-2, SC+3, SEO3-2, SEO4-2, SI2O4(AQ), SI3O6(AQ), \n",
      "SIO2(AQ), SM+2, SM+3, SN+2, SO2(AQ), SO3-2, SO4-2, SR+2, SRCL+, TB+3, \n",
      "TL+, TL+3, TM+3, TOLUENE(AQ), U+4, UO2+2, UREA(AQ), VO+2, VO2+, WO4-2, \n",
      "XE(AQ), Y+3, YB+2, YB+3, ZN+2, ZNCL+, ZNCL2(AQ), ZNCL3-, \n"
     ]
    }
   ],
   "source": [
    "s = ''\n",
    "i = 0\n",
    "for speciesname in dewdb:\n",
    "    s += speciesname\n",
    "    s += ', '\n",
    "    if i == 9:\n",
    "        s +='\\n'\n",
    "        i = 0\n",
    "    else:\n",
    "        i += 1\n",
    "print(s)"
   ]
  },
  {
   "cell_type": "markdown",
   "metadata": {},
   "source": [
    "Let's say we want to calculate Zn speciation in a fluid in equilibrium with Nepheline. There are several Zn complexes that exist in DEW but are not included by default (but they should perhaps be used with care). Nepheline is also not included by default. The DEW database is calibrated relative to the Berman thermodynamic database, and so we must use a model for Nepheline that is compatible with Berman. Luckily Berman does include Nepheline! But we must import Berman directly into the Jupyter Notebook:"
   ]
  },
  {
   "cell_type": "code",
   "execution_count": 52,
   "metadata": {},
   "outputs": [],
   "source": [
    "berman = model.Database()"
   ]
  },
  {
   "cell_type": "markdown",
   "metadata": {},
   "source": [
    "To see all the mineral phases available:"
   ]
  },
  {
   "cell_type": "code",
   "execution_count": 53,
   "metadata": {},
   "outputs": [
    {
     "name": "stdout",
     "output_type": "stream",
     "text": [
      "   abbrev          phase_name            formula phase_type endmember_num\n",
      "0      Bt             Biotite                      solution             2\n",
      "1     Cam      Clinoamphibole                      solution             3\n",
      "2     Cpx       Clinopyroxene                      solution             7\n",
      "3     Fsp            Feldspar                      solution             3\n",
      "4     Grt              Garnet                      solution             3\n",
      "5     Hbl          Hornblende                      solution             3\n",
      "6    KlsS        Kalsilite ss                      solution             4\n",
      "7    LctS             Leucite                      solution             3\n",
      "8     Mll            Melilite                      solution             4\n",
      "9    NphS        Feldspathoid                      solution             4\n",
      "10     Ol             Olivine                      solution             6\n",
      "11    Opx       Orthopyroxene                      solution             7\n",
      "12   OrOx          OrthoOxide                      solution             3\n",
      "13    Oam       Anthophyllite                      solution             3\n",
      "14   Rhom         Ilmenite ss                      solution             5\n",
      "15   SplS              Spinel                      solution             5\n",
      "16    Liq              Liquid                      solution            15\n",
      "17   MtlS         Solid Alloy                      solution             2\n",
      "18   MtlL        Liquid Alloy                      solution             2\n",
      "19    Aeg            Aegirine          NaFeSi2O6       pure             1\n",
      "20   Aeng         Aenigmatite     Na2Fe5TiSi6O20       pure             1\n",
      "21     Ak          Akermanite         Ca2MgSi2O7       pure             1\n",
      "22    And          Andalusite            Al2SiO5       pure             1\n",
      "23     Ap             Apatite        Ca5(PO4)3OH       pure             1\n",
      "24    Chr            Chromite            FeCr2O4       pure             1\n",
      "25    Coe             Coesite               SiO2       pure             1\n",
      "26    Crn            Corundum              Al2O3       pure             1\n",
      "27    Crs        Cristobalite               SiO2       pure             1\n",
      "28     Fa            Fayalite            Fe2SiO4       pure             1\n",
      "29     Fo          Forsterite            Mg2SiO4       pure             1\n",
      "30     Gh           Gehlenite         Ca2Al2SiO7       pure             1\n",
      "31    Hem            Hematite              Fe2O3       pure             1\n",
      "32    Ilm            Ilmenite             FeTiO3       pure             1\n",
      "33    Kls           Kalsilite            KAlSiO4       pure             1\n",
      "34     Ky             Kyanite            Al2SiO5       pure             1\n",
      "35     Lm                Lime                CaO       pure             1\n",
      "36    Mag           Magnetite              Fe3O4       pure             1\n",
      "37     Ms           Muscovite  KAl2Si3AlO10(OH)2       pure             1\n",
      "38    Nph           Nepheline           NaAlSiO4       pure             1\n",
      "39    Per           Periclase                MgO       pure             1\n",
      "40    Prv          Perovskite             CaTiO3       pure             1\n",
      "41    Phl          Phlogopite  KMg3AlSi3O10(OH)2       pure             1\n",
      "42     Qz              Quartz               SiO2       pure             1\n",
      "43     Rt              Rutile               TiO2       pure             1\n",
      "44     Sa            sanidine           KAlSi3O8       pure             1\n",
      "45    Sil         Sillimanite            Al2SiO5       pure             1\n",
      "46    Spn              Sphene           CaTiSiO5       pure             1\n",
      "47    Trd           Tridymite               SiO2       pure             1\n",
      "48    Wht         Whitlockite          Ca3(PO4)2       pure             1\n",
      "49     Ab              Albite          NaAlSi3O8       pure             1\n",
      "50    hAb         High_Albite          NaAlSi3O8       pure             1\n",
      "51    lAb          Low_Albite          NaAlSi3O8       pure             1\n",
      "52    Alm           Almandine       Si3Fe3Al2O12       pure             1\n",
      "53     An           Anorthite         Al2CaSi2O8       pure             1\n",
      "54    Ath       Anthophyllite        Mg7Si8O24H2       pure             1\n",
      "55    Atg          Antigorite  Mg48Si34O99H62O48       pure             1\n",
      "56    Brc             Brucite             MgO2H2       pure             1\n",
      "57   CaTs      Ca-Al_Pyroxene          CaAl2SiO6       pure             1\n",
      "58    Cal             Calcite              CaCO3       pure             1\n",
      "59    Ctl          Chrysotile         Mg3Si2O9H4       pure             1\n",
      "60    Clc         Clinochlore     Mg5Al2Si3O18H8       pure             1\n",
      "61    Crd          Cordierite       Mg2Al4Si5O18       pure             1\n",
      "62    Dsp            Diaspore              AlO2H       pure             1\n",
      "63     Di            Diopside          MgCaSi2O6       pure             1\n",
      "64    Dol            Dolomite           MgCaC2O6       pure             1\n",
      "65    cEn      Clinoenstatite             MgSiO3       pure             1\n",
      "66     En      Orthoenstatite             MgSiO3       pure             1\n",
      "67    pEn      Protoenstatite             MgSiO3       pure             1\n",
      "68     Fs         Ferrosilite             SiFeO3       pure             1\n",
      "69    Grs           Grossular       Ca3Al2Si3O12       pure             1\n",
      "70     Jd             Jadeite          NaAlSi2O6       pure             1\n",
      "71    Kln           Kaolinite         Al2Si2O9H4       pure             1\n",
      "72    Lws           Lawsonite      CaAl2Si2O10H4       pure             1\n",
      "73    Mgs           Magnesite              MgCO3       pure             1\n",
      "74    Mei            Meionite      Ca4Al6Si6O27C       pure             1\n",
      "75     Mw           Merwinite         Ca3MgSi2O8       pure             1\n",
      "76    Mtc        Monticellite           CaMgSiO4       pure             1\n",
      "77     Pg          Paragonite      NaAl3Si3O12H2       pure             1\n",
      "78     Or  Potassium_Feldspar           KAlSi3O8       pure             1\n",
      "79     Mc          Microcline           KAlSi3O8       pure             1\n",
      "80    Prh            Prehnite     Ca2Al2Si3O12H2       pure             1\n",
      "81    Prp              Pyrope       Mg3Al2Si3O12       pure             1\n",
      "82    Prl        Pyrophyllite        Al2Si4O12H2       pure             1\n",
      "83    Spl        Mg_Al_Spinel            MgAl2O4       pure             1\n",
      "84    Tlc                Talc        Mg3Si4O12H2       pure             1\n",
      "85     Tr           Tremolite     Ca2Mg5Si8O24H2       pure             1\n",
      "86     Wo        Wollastonite             CaSiO3       pure             1\n",
      "87    pWo  Pseudowollastonite             CaSiO3       pure             1\n",
      "88     Zo             Zoisite      Ca2Al3Si3O13H       pure             1\n",
      "89    cZo        Clinozoisite      Ca2Al3Si3O13H       pure             1\n",
      "90     O2          Oxygen_Gas                 O2       pure             1\n",
      "91     S2          Sulfur_Gas                 S2       pure             1\n",
      "92     H2        Hydrogen_Gas                 H2       pure             1\n",
      "93    H2O               Water                H2O       pure             1\n"
     ]
    }
   ],
   "source": [
    "print(berman.phase_info.to_string())"
   ]
  },
  {
   "cell_type": "markdown",
   "metadata": {},
   "source": [
    "To retrieve Nepheline (note that the abbreviation must be used):"
   ]
  },
  {
   "cell_type": "code",
   "execution_count": 54,
   "metadata": {},
   "outputs": [],
   "source": [
    "Nph = berman.get_phase('Nph')"
   ]
  },
  {
   "cell_type": "markdown",
   "metadata": {},
   "source": [
    "Let's create the system! Note that you can use either strings, or the phase/species objects themselves when defining a system with Berman and DEW. Passing the objects themselves is particularly useful when using your own models of minerals and species. Here I will pass ZNCL+ as an object, to demonstrate this. I will also pass the Nph object directly:"
   ]
  },
  {
   "cell_type": "code",
   "execution_count": 59,
   "metadata": {},
   "outputs": [],
   "source": [
    "elements = ['O','H','Si','Al','Na','Zn']\n",
    "basis_species = ['H2O','H+','SIO2(AQ)','AL+3','NA+','ZN+2','O2']\n",
    "other_species = ['OH-','ALO2-','ALO2(SIO2)-','HALO2(AQ)','NAOH(AQ)', dewdb['ZNCL+'], 'ZNCL2(AQ)', 'ZNCL3-','O2(AQ)']\n",
    "minerals = ['Qz',Nph]\n",
    "solid_solutions = {}"
   ]
  },
  {
   "cell_type": "code",
   "execution_count": 60,
   "metadata": {},
   "outputs": [],
   "source": [
    "dew_system = pyQ3.System(elements = elements,\n",
    "                         basis_species = basis_species,\n",
    "                         other_species = other_species,\n",
    "                         minerals = minerals,\n",
    "                         solid_solutions = solid_solutions)"
   ]
  },
  {
   "cell_type": "code",
   "execution_count": 61,
   "metadata": {},
   "outputs": [],
   "source": [
    "T = 300.0 + 273.15 # in K\n",
    "P = 8000.0 # in bar\n",
    "dew_system.make_data0(T,P)"
   ]
  },
  {
   "cell_type": "code",
   "execution_count": null,
   "metadata": {},
   "outputs": [],
   "source": []
  }
 ],
 "metadata": {
  "kernelspec": {
   "display_name": "Python 3",
   "language": "python",
   "name": "python3"
  },
  "language_info": {
   "codemirror_mode": {
    "name": "ipython",
    "version": 3
   },
   "file_extension": ".py",
   "mimetype": "text/x-python",
   "name": "python",
   "nbconvert_exporter": "python",
   "pygments_lexer": "ipython3",
   "version": "3.7.6"
  }
 },
 "nbformat": 4,
 "nbformat_minor": 4
}
